{
 "nbformat": 4,
 "nbformat_minor": 0,
 "metadata": {
  "kernelspec": {
   "display_name": "Python 3",
   "language": "python",
   "name": "python3"
  },
  "language_info": {
   "codemirror_mode": {
    "name": "ipython",
    "version": 3
   },
   "file_extension": ".py",
   "mimetype": "text/x-python",
   "name": "python",
   "nbconvert_exporter": "python",
   "pygments_lexer": "ipython3",
   "version": "3.7.4"
  },
  "colab": {
   "name": "DL_Assignment_2.ipynb",
   "provenance": [],
   "collapsed_sections": [],
   "toc_visible": true,
   "machine_shape": "hm"
  },
  "accelerator": "GPU"
 },
 "cells": [
  {
   "cell_type": "markdown",
   "source": [
    "1. PyTorch Basics\n",
    "    - Toy example with PyTorch\n",
    "2. Image Classification with PyTorch\n",
    "    - Implement a simple MLP network for image classification\n",
    "    - Implement a convolutional network for image classification\n",
    "    - Experiment with different numbers of layers and optimizers\n",
    "    - Push the performance of your CNN\n",
    "\n",
    "This is inspired and adopted from the official PyTorch tutorial.\n"
   ],
   "metadata": {
    "collapsed": false
   }
  },
  {
   "cell_type": "markdown",
   "metadata": {
    "id": "mdHfX-sBhNKa"
   },
   "source": [
    "In this you would need to use **Python 3.6+** along with the following packages:\n",
    "```\n",
    "1. pytorch 1.2\n",
    "2. torchvision\n",
    "3. numpy\n",
    "4. matplotlib\n",
    "```\n",
    "To install pytorch, please follow the instructions on the [Official website](https://pytorch.org/). In addition, the [official document](https://pytorch.org/docs/stable/) could be very helpful when you want to find certain functionalities. \n",
    "\n",
    "You can also consider to use Google Colab, where PyTorch has been installed."
   ]
  },
  {
   "cell_type": "markdown",
   "metadata": {
    "id": "RygdKzPYhNKb"
   },
   "source": [
    "# Section 1. PyTorch Basics"
   ]
  },
  {
   "cell_type": "markdown",
   "metadata": {
    "id": "tq5AilNehNKb"
   },
   "source": [
    "Simply put, PyTorch is a **Tensor** library like Numpy. These two libraries similarly provide useful and efficient APIs for you to deal with your tensor data. What really differentiate PyTorch from Numpy are the following two features:\n",
    "1. Numerical operations that can **run on GPUs** (more than 10x speedup)\n",
    "2. Automatic differentiation for building and training neural networks\n",
    "\n",
    "In this section, we will walk through some simple example, and see how the automatic differentiation functionality can make your life much easier."
   ]
  },
  {
   "cell_type": "markdown",
   "metadata": {
    "id": "VFTr_uD2hNKb"
   },
   "source": [
    "### To select GPU in Google Colab:\n",
    "- go to **Edit -> Notebook settings -> Hardware accelerator -> GPU**"
   ]
  },
  {
   "cell_type": "code",
   "metadata": {
    "id": "-3k6r6jWhNKc"
   },
   "source": [
    "import torch # import pytorch.\n",
    "import torch.nn.functional as F\n",
    "import torch.nn as nn\n",
    "import time\n",
    "import numpy as np"
   ],
   "execution_count": null,
   "outputs": []
  },
  {
   "cell_type": "code",
   "metadata": {
    "id": "M2ASYud6hNKf"
   },
   "source": [
    "dtype = torch.float\n",
    "device = torch.device(\"cpu\")\n",
    "\n",
    "#device = torch.device(\"cuda:0\") # Uncomment this to run on GPU\n",
    "#print(torch.cuda.get_device_name(0)) # Check GPU Device name"
   ],
   "execution_count": null,
   "outputs": []
  },
  {
   "cell_type": "markdown",
   "metadata": {
    "id": "h2zDmSGQhNKg"
   },
   "source": [
    "## 1.1. Automatic Differentiation\n",
    "Gradient descent is the driving force of the deep learning field. In the lectures and assignment 1, we learned how to derive the gradient for a given function, and implement methods for calculating and performing gradient descents. We also see how we can manually implement the backward and forward functions for the simple NN example. While implementing these functions may not be a big deal for a small network, it may get very nasty when we want to build something with tens of hundreds of layers.\n",
    "\n",
    "In PyTorch (as well as other major deep learning libraries), we can use autograd ([automatic differentiation](https://en.wikipedia.org/wiki/Automatic_differentiation)) to handle the tedious computation of backward passes. When doing forward passes with autograd, we are essentially defining a **computational graph**, while the nodes in the graph are **tensors**, the edges are the functions that produce output tensors (e.g. ReLU, Linear, Convolutional Layer) given the input tensors. To do backpropagation, we can simply backtrack through this graph to compute gradients. \n",
    "\n",
    "This may sound a little bit abstract, so let's take a look at the example:"
   ]
  },
  {
   "cell_type": "code",
   "metadata": {
    "id": "uWlMn2_uhNKh",
    "executionInfo": {
     "status": "ok",
     "timestamp": 1601662933631,
     "user_tz": 240,
     "elapsed": 2879,
     "user": {
      "displayName": "Vaibhav Sundharam",
      "photoUrl": "https://lh3.googleusercontent.com/a-/AOh14Ggf8pEKCJrbRi4ZfFzswWvQ_sKdbph3iOABmyAS=s64",
      "userId": "08654959544633965355"
     }
    },
    "outputId": "daaadbd8-37a1-4ed1-fb3e-55ae59c1abd9",
    "colab": {
     "base_uri": "https://localhost:8080/",
     "height": 208
    }
   },
   "source": [
    "target = 10.\n",
    "\n",
    "# create a matrix of size 2x2. Each with value draws from standard normal distribution.\n",
    "x = torch.randn(2, 2, requires_grad=True) \n",
    "y = torch.randn(2, 2, requires_grad=True)\n",
    "\n",
    "a = x + y\n",
    "b = a.sum()\n",
    "loss = b - target\n",
    "\n",
    "# print out each tensor:\n",
    "print(x)\n",
    "print(y)\n",
    "print(a)\n",
    "print(b)\n",
    "print(loss)\n",
    "\n",
    "print(\"-----gradient-----\")\n",
    "print(x.grad)\n",
    "print(y.grad)"
   ],
   "execution_count": null,
   "outputs": [
    {
     "output_type": "stream",
     "text": [
      "tensor([[0.3196, 0.0816],\n",
      "        [0.4063, 0.0914]], requires_grad=True)\n",
      "tensor([[ 1.7505, -0.1379],\n",
      "        [-0.6293,  1.1000]], requires_grad=True)\n",
      "tensor([[ 2.0701, -0.0562],\n",
      "        [-0.2230,  1.1914]], grad_fn=<AddBackward0>)\n",
      "tensor(2.9823, grad_fn=<SumBackward0>)\n",
      "tensor(-7.0177, grad_fn=<SubBackward0>)\n",
      "-----gradient-----\n",
      "None\n",
      "None\n"
     ],
     "name": "stdout"
    }
   ]
  },
  {
   "cell_type": "markdown",
   "metadata": {
    "id": "81yH8pyihNKj"
   },
   "source": [
    "In the above example, we have seen a few things:\n",
    "1. `requires_grad` flag: If false, we can safely exclude this tensor (and its subgraph) from gradient computation and therefore increase efficiency.\n",
    "2. `grad_fn`: we can see that once an operation is done to a tensor, the output tensor is bound to a backward function associated to the operation. In this case, we have Add, Sum, and Sub.\n",
    "\n",
    "However, even if we set `requires_grad=True`, we still don't have gradient for `x` and `y`. This is because we haven't performed the backpropagation yet. So let's do it:"
   ]
  },
  {
   "cell_type": "code",
   "metadata": {
    "id": "8lUGROCIhNKj",
    "executionInfo": {
     "status": "ok",
     "timestamp": 1601662933631,
     "user_tz": 240,
     "elapsed": 2864,
     "user": {
      "displayName": "Vaibhav Sundharam",
      "photoUrl": "https://lh3.googleusercontent.com/a-/AOh14Ggf8pEKCJrbRi4ZfFzswWvQ_sKdbph3iOABmyAS=s64",
      "userId": "08654959544633965355"
     }
    },
    "outputId": "ac421dac-d493-4ac2-9b65-956de29b041e",
    "colab": {
     "base_uri": "https://localhost:8080/",
     "height": 104
    }
   },
   "source": [
    "# perform backpropagation from this \"node\"\n",
    "loss.backward()\n",
    "print('-----gradient-----')\n",
    "print(x.grad)\n",
    "print(y.grad)"
   ],
   "execution_count": null,
   "outputs": [
    {
     "output_type": "stream",
     "text": [
      "-----gradient-----\n",
      "tensor([[1., 1.],\n",
      "        [1., 1.]])\n",
      "tensor([[1., 1.],\n",
      "        [1., 1.]])\n"
     ],
     "name": "stdout"
    }
   ]
  },
  {
   "cell_type": "markdown",
   "metadata": {
    "id": "Ids5ch95hNKl"
   },
   "source": [
    "Great, seems like we can perform gradient descent without writing backwards function! Now, let's see a simple toy example on how we can fit some weights `w1` and `w2` with random input `x` and target `y`: "
   ]
  },
  {
   "cell_type": "code",
   "metadata": {
    "id": "gEj65qFahNKl",
    "executionInfo": {
     "status": "ok",
     "timestamp": 1601662933632,
     "user_tz": 240,
     "elapsed": 2855,
     "user": {
      "displayName": "Vaibhav Sundharam",
      "photoUrl": "https://lh3.googleusercontent.com/a-/AOh14Ggf8pEKCJrbRi4ZfFzswWvQ_sKdbph3iOABmyAS=s64",
      "userId": "08654959544633965355"
     }
    },
    "outputId": "d7e52652-5066-4381-df4b-4d18d8faead9",
    "colab": {
     "base_uri": "https://localhost:8080/",
     "height": 104
    }
   },
   "source": [
    "# N is batch size; D_in is input dimension;\n",
    "# H is hidden dimension; D_out is output dimension.\n",
    "N, D_in, H, D_out = 64, 1000, 100, 10\n",
    "\n",
    "# Create random Tensors to hold input and outputs.\n",
    "# Setting requires_grad=False indicates that we do not need to compute gradients\n",
    "# with respect to these Tensors during the backward pass.\n",
    "x = torch.randn(N, D_in, device=device, dtype=dtype)\n",
    "y = torch.randn(N, D_out, device=device, dtype=dtype)\n",
    "\n",
    "# Create random Tensors for weights.\n",
    "# Setting requires_grad=True indicates that we want to compute gradients with\n",
    "# respect to these Tensors during the backward pass.\n",
    "w1 = torch.randn(D_in, H, device=device, dtype=dtype, requires_grad=True)\n",
    "w2 = torch.randn(H, D_out, device=device, dtype=dtype, requires_grad=True)\n",
    "\n",
    "learning_rate = 1e-6\n",
    "for t in range(500):\n",
    "    # Forward pass: compute predicted y using operations on Tensors; these\n",
    "    # are exactly the same operations we used to compute the forward pass using\n",
    "    # Tensors, but we do not need to keep references to intermediate values since\n",
    "    # we are not implementing the backward pass by hand.\n",
    "    y_pred = x.mm(w1).clamp(min=0).mm(w2)\n",
    "\n",
    "    # Compute and print loss using operations on Tensors.\n",
    "    # Now loss is a Tensor of shape (1,)\n",
    "    # loss.item() gets the scalar value held in the loss.\n",
    "    loss = (y_pred - y).pow(2).sum()\n",
    "    if t % 100 == 99:\n",
    "        print(f'iteration {t}: {loss.item()}')\n",
    "    # Use autograd to compute the backward pass. This call will compute the\n",
    "    # gradient of loss with respect to all Tensors with requires_grad=True.\n",
    "    # After this call w1.grad and w2.grad will be Tensors holding the gradient\n",
    "    # of the loss with respect to w1 and w2 respectively.\n",
    "    loss.backward()\n",
    "\n",
    "    # Manually update weights using gradient descent. Wrap in torch.no_grad()\n",
    "    # because weights have requires_grad=True, but we don't need to track this\n",
    "    # in autograd.  (because we don't need the gradient for the operation \n",
    "    # learning_rate * w1.grad)\n",
    "    # An alternative way is to operate on weight.data and weight.grad.data.\n",
    "    # Recall that tensor.data gives a tensor that shares the storage with\n",
    "    # tensor, but doesn't track history.\n",
    "    # You can also use torch.optim.SGD to achieve this.\n",
    "    with torch.no_grad():\n",
    "        w1 -= learning_rate * w1.grad\n",
    "        w2 -= learning_rate * w2.grad\n",
    "\n",
    "        # Manually zero the gradients after updating weights\n",
    "        w1.grad.zero_()\n",
    "        w2.grad.zero_()"
   ],
   "execution_count": null,
   "outputs": [
    {
     "output_type": "stream",
     "text": [
      "iteration 99: 400.50018310546875\n",
      "iteration 199: 1.7080515623092651\n",
      "iteration 299: 0.012404250912368298\n",
      "iteration 399: 0.00029732612892985344\n",
      "iteration 499: 4.7837071178946644e-05\n"
     ],
     "name": "stdout"
    }
   ]
  },
  {
   "cell_type": "markdown",
   "metadata": {
    "id": "l94WLZFlhNKn"
   },
   "source": [
    "## 1.2. `nn` Module\n",
    "Computational graphs and autograd are a very powerful paradigm for defining complex operators and automatically taking derivatives; however for large neural networks raw autograd can be a bit too low-level.\n",
    "\n",
    "When building neural networks we frequently think of arranging the computation into layers, some of which have learnable parameters which will be optimized during learning.\n",
    "\n",
    "In PyTorch, the nn package serves this purpose. The nn package defines a set of Modules, which are roughly equivalent to neural network layers. A Module receives input Tensors and computes output Tensors, but may also hold internal state such as Tensors containing learnable parameters. The nn package also defines a set of useful loss functions that are commonly used when training neural networks.\n",
    "\n",
    "Now, let's see how our simple NN could be implemented using the nn module."
   ]
  },
  {
   "cell_type": "code",
   "metadata": {
    "id": "SbbZo2ithNKn",
    "executionInfo": {
     "status": "ok",
     "timestamp": 1601662934384,
     "user_tz": 240,
     "elapsed": 3595,
     "user": {
      "displayName": "Vaibhav Sundharam",
      "photoUrl": "https://lh3.googleusercontent.com/a-/AOh14Ggf8pEKCJrbRi4ZfFzswWvQ_sKdbph3iOABmyAS=s64",
      "userId": "08654959544633965355"
     }
    },
    "outputId": "23328287-6bef-4f91-e9a4-c703cb7cee75",
    "colab": {
     "base_uri": "https://localhost:8080/",
     "height": 104
    }
   },
   "source": [
    "import torch.nn as nn\n",
    "# N is batch size; D_in is input dimension;\n",
    "# H is hidden dimension; D_out is output dimension.\n",
    "N, D_in, H, D_out = 64, 1000, 100, 10\n",
    "\n",
    "# Create random Tensors to hold inputs and outputs\n",
    "x = torch.randn(N, D_in)\n",
    "y = torch.randn(N, D_out)\n",
    "\n",
    "# Use the nn package to define our model as a sequence of layers. nn.Sequential\n",
    "# is a Module which contains other Modules, and applies them in sequence to\n",
    "# produce its output. Each Linear Module computes output from input using a\n",
    "# linear function, and holds internal Tensors for its weight and bias.\n",
    "model = nn.Sequential(\n",
    "    nn.Linear(D_in, H),\n",
    "    nn.ReLU(),\n",
    "    nn.Linear(H, D_out),\n",
    ")\n",
    "\n",
    "# The nn package also contains definitions of popular loss functions; in this\n",
    "# case we will use Mean Squared Error (MSE) as our loss function.\n",
    "loss_fn = nn.MSELoss(reduction='sum')\n",
    "\n",
    "learning_rate = 1e-4\n",
    "for t in range(500):\n",
    "    # Forward pass: compute predicted y by passing x to the model. Module objects\n",
    "    # override the __call__ operator so you can call them like functions. When\n",
    "    # doing so you pass a Tensor of input data to the Module and it produces\n",
    "    # a Tensor of output data.\n",
    "    y_pred = model(x)\n",
    "\n",
    "    # Compute and print loss. We pass Tensors containing the predicted and true\n",
    "    # values of y, and the loss function returns a Tensor containing the\n",
    "    # loss.\n",
    "    loss = loss_fn(y_pred, y)\n",
    "    if t % 100 == 99:\n",
    "        print(f'iteration {t}: {loss.item()}')\n",
    "\n",
    "    # Zero the gradients before running the backward pass.\n",
    "    model.zero_grad()\n",
    "\n",
    "    # Backward pass: compute gradient of the loss with respect to all the learnable\n",
    "    # parameters of the model. Internally, the parameters of each Module are stored\n",
    "    # in Tensors with requires_grad=True, so this call will compute gradients for\n",
    "    # all learnable parameters in the model.\n",
    "    loss.backward()\n",
    "\n",
    "    # Update the weights using gradient descent. Each parameter is a Tensor, so\n",
    "    # we can access its gradients like we did before.\n",
    "    with torch.no_grad():\n",
    "        for param in model.parameters():\n",
    "            param -= learning_rate * param.grad"
   ],
   "execution_count": null,
   "outputs": [
    {
     "output_type": "stream",
     "text": [
      "iteration 99: 1.5049192905426025\n",
      "iteration 199: 0.012853206135332584\n",
      "iteration 299: 0.0002441557589918375\n",
      "iteration 399: 6.900499101902824e-06\n",
      "iteration 499: 2.416988706954726e-07\n"
     ],
     "name": "stdout"
    }
   ]
  },
  {
   "cell_type": "markdown",
   "metadata": {
    "id": "r9suFA4NhNKp"
   },
   "source": [
    "So far, we have been updating the model parameters manually with `torch.no_grad()`. However, if we want to use optimization algorithms other than SGD, it might get a bit nasty to do it manually. Instead of manually doing this, we can use `optim` pacakge to help optimize our model: "
   ]
  },
  {
   "cell_type": "code",
   "metadata": {
    "id": "8S68prHyhNKp",
    "executionInfo": {
     "status": "ok",
     "timestamp": 1601662934737,
     "user_tz": 240,
     "elapsed": 3938,
     "user": {
      "displayName": "Vaibhav Sundharam",
      "photoUrl": "https://lh3.googleusercontent.com/a-/AOh14Ggf8pEKCJrbRi4ZfFzswWvQ_sKdbph3iOABmyAS=s64",
      "userId": "08654959544633965355"
     }
    },
    "outputId": "ae228efd-869e-4108-c59d-790fe0a66462",
    "colab": {
     "base_uri": "https://localhost:8080/",
     "height": 104
    }
   },
   "source": [
    "N, D_in, H, D_out = 64, 1000, 100, 10\n",
    "\n",
    "# Create random Tensors to hold inputs and outputs\n",
    "x = torch.randn(N, D_in)\n",
    "y = torch.randn(N, D_out)\n",
    "\n",
    "# Use the nn package to define our model and loss function.\n",
    "model = nn.Sequential(\n",
    "    nn.Linear(D_in, H),\n",
    "    nn.ReLU(),\n",
    "    nn.Linear(H, D_out),\n",
    ")\n",
    "loss_fn = torch.nn.MSELoss(reduction='sum')\n",
    "\n",
    "# Use the optim package to define an Optimizer that will update the weights of\n",
    "# the model for us. \n",
    "learning_rate = 1e-4\n",
    "optimizer = torch.optim.SGD(model.parameters(), lr=learning_rate)\n",
    "for t in range(500):\n",
    "    # Forward pass: compute predicted y by passing x to the model.\n",
    "    y_pred = model(x)\n",
    "\n",
    "    # Compute and print loss.\n",
    "    loss = loss_fn(y_pred, y)\n",
    "    if t % 100 == 99:\n",
    "        print(f'iteration {t}: {loss.item()}')\n",
    "\n",
    "    # Before the backward pass, use the optimizer object to zero all of the\n",
    "    # gradients for the variables it will update (which are the learnable\n",
    "    # weights of the model). This is because by default, gradients are\n",
    "    # accumulated in buffers( i.e, not overwritten) whenever .backward()\n",
    "    # is called. Checkout docs of torch.autograd.backward for more details.\n",
    "    optimizer.zero_grad()\n",
    "\n",
    "    # Backward pass: compute gradient of the loss with respect to model\n",
    "    # parameters\n",
    "    loss.backward()\n",
    "\n",
    "    # Calling the step function on an Optimizer makes an update to its\n",
    "    # parameters\n",
    "    optimizer.step()"
   ],
   "execution_count": null,
   "outputs": [
    {
     "output_type": "stream",
     "text": [
      "iteration 99: 2.1223771572113037\n",
      "iteration 199: 0.030736837536096573\n",
      "iteration 299: 0.0009377116221003234\n",
      "iteration 399: 4.3822918087244034e-05\n",
      "iteration 499: 2.526700200178311e-06\n"
     ],
     "name": "stdout"
    }
   ]
  },
  {
   "cell_type": "markdown",
   "metadata": {
    "id": "-yImtHeFhNKr"
   },
   "source": [
    "Sometimes you will want to specify models that are more complex than a sequence of existing Modules; for these cases you can define your own Modules by subclassing nn.Module and defining a forward which receives input Tensors and produces output Tensors using other modules or other autograd operations on Tensors.\n",
    "\n",
    "For example, we can implement our 2-layer simple NN as the following:"
   ]
  },
  {
   "cell_type": "code",
   "metadata": {
    "id": "coadUSjWhNKr",
    "executionInfo": {
     "status": "ok",
     "timestamp": 1601662934737,
     "user_tz": 240,
     "elapsed": 3927,
     "user": {
      "displayName": "Vaibhav Sundharam",
      "photoUrl": "https://lh3.googleusercontent.com/a-/AOh14Ggf8pEKCJrbRi4ZfFzswWvQ_sKdbph3iOABmyAS=s64",
      "userId": "08654959544633965355"
     }
    },
    "outputId": "a6cfe308-33f3-415e-fa39-b61785019887",
    "colab": {
     "base_uri": "https://localhost:8080/",
     "height": 104
    }
   },
   "source": [
    "class TwoLayerNet(nn.Module):\n",
    "    def __init__(self, D_in, H, D_out):\n",
    "        \"\"\"\n",
    "        In the constructor we instantiate two nn.Linear modules and assign them as\n",
    "        member variables.\n",
    "        \"\"\"\n",
    "        super(TwoLayerNet, self).__init__()\n",
    "        self.linear1 = nn.Linear(D_in, H)\n",
    "        self.linear2 = nn.Linear(H, D_out)\n",
    "\n",
    "    def forward(self, x):\n",
    "        \"\"\"\n",
    "        In the forward function we accept a Tensor of input data and we must return\n",
    "        a Tensor of output data. We can use Modules defined in the constructor as\n",
    "        well as arbitrary operators on Tensors.\n",
    "        \"\"\"\n",
    "        h_relu = self.linear1(x).clamp(min=0)\n",
    "        y_pred = self.linear2(h_relu)\n",
    "        return y_pred\n",
    "\n",
    "\n",
    "# N is batch size; D_in is input dimension;\n",
    "# H is hidden dimension; D_out is output dimension.\n",
    "N, D_in, H, D_out = 64, 1000, 100, 10\n",
    "\n",
    "# Create random Tensors to hold inputs and outputs\n",
    "x = torch.randn(N, D_in)\n",
    "y = torch.randn(N, D_out)\n",
    "\n",
    "# Construct our model by instantiating the class defined above\n",
    "model = TwoLayerNet(D_in, H, D_out)\n",
    "\n",
    "# Construct our loss function and an Optimizer. The call to model.parameters()\n",
    "# in the SGD constructor will contain the learnable parameters of the two\n",
    "# nn.Linear modules which are members of the model.\n",
    "criterion = nn.MSELoss(reduction='sum')\n",
    "optimizer = torch.optim.SGD(model.parameters(), lr=1e-4)\n",
    "for t in range(500):\n",
    "    # Forward pass: Compute predicted y by passing x to the model\n",
    "    y_pred = model(x)\n",
    "\n",
    "    # Compute and print loss\n",
    "    loss = criterion(y_pred, y)\n",
    "    if t % 100 == 99:\n",
    "        print(f'iteration {t}: {loss.item()}')\n",
    "\n",
    "    # Zero gradients, perform a backward pass, and update the weights.\n",
    "    optimizer.zero_grad()\n",
    "    loss.backward()\n",
    "    optimizer.step()"
   ],
   "execution_count": null,
   "outputs": [
    {
     "output_type": "stream",
     "text": [
      "iteration 99: 2.9425978660583496\n",
      "iteration 199: 0.06729263067245483\n",
      "iteration 299: 0.0034955861046910286\n",
      "iteration 399: 0.0002523306757211685\n",
      "iteration 499: 2.0842238882323727e-05\n"
     ],
     "name": "stdout"
    }
   ]
  },
  {
   "cell_type": "markdown",
   "metadata": {
    "id": "63h3g22OhNKt"
   },
   "source": [
    "## 1.3. Warm-up: Two-moon datasets\n",
    "Now, let's use PyTorch to solve some synthetic datasets. In previous assignment, we have to write some codes to create training batches. Again, this can also be done with PyTorch `DataLoader`. The `DataLoader` utilizes parallel workers to read and prepare batches for you, which can greatly speedup the code when your time bottleneck is on file I/O.\n",
    "\n",
    "Here, we show a simple example that can create a dataloader from numpy data:"
   ]
  },
  {
   "cell_type": "markdown",
   "metadata": {
    "id": "XQVo0IG-hNKt"
   },
   "source": [
    "### Setup for Google Colab (Skip for Jupyter Notebook)"
   ]
  },
  {
   "cell_type": "code",
   "metadata": {
    "id": "-8v0GfGHhNKu",
    "executionInfo": {
     "status": "ok",
     "timestamp": 1601662934738,
     "user_tz": 240,
     "elapsed": 3916,
     "user": {
      "displayName": "Vaibhav Sundharam",
      "photoUrl": "https://lh3.googleusercontent.com/a-/AOh14Ggf8pEKCJrbRi4ZfFzswWvQ_sKdbph3iOABmyAS=s64",
      "userId": "08654959544633965355"
     }
    },
    "outputId": "ccd5ab35-793e-4f9d-9520-d4a645f99df1",
    "colab": {
     "base_uri": "https://localhost:8080/",
     "height": 55
    }
   },
   "source": [
    "from google.colab import drive\n",
    "drive.mount('/content/drive')"
   ],
   "execution_count": null,
   "outputs": [
    {
     "output_type": "stream",
     "text": [
      "Drive already mounted at /content/drive; to attempt to forcibly remount, call drive.mount(\"/content/drive\", force_remount=True).\n"
     ],
     "name": "stdout"
    }
   ]
  },
  {
   "cell_type": "code",
   "metadata": {
    "id": "Q5JzLiPHhNKw"
   },
   "source": [
    "# Find path to your data folder in drive and enter for \"path_to_dataset\"\n",
    "path_to_dataset = '/content/drive/My Drive/Deep Learning/Assignment_2/data'\n",
    "# For Jupyter notebook give path from your local PC"
   ],
   "execution_count": null,
   "outputs": []
  },
  {
   "cell_type": "code",
   "metadata": {
    "id": "ST2HUvTnhNKx",
    "executionInfo": {
     "status": "ok",
     "timestamp": 1601662935335,
     "user_tz": 240,
     "elapsed": 4491,
     "user": {
      "displayName": "Vaibhav Sundharam",
      "photoUrl": "https://lh3.googleusercontent.com/a-/AOh14Ggf8pEKCJrbRi4ZfFzswWvQ_sKdbph3iOABmyAS=s64",
      "userId": "08654959544633965355"
     }
    },
    "outputId": "5f529e0e-47cb-48fa-895d-42a44cf609ad",
    "colab": {
     "base_uri": "https://localhost:8080/",
     "height": 265
    }
   },
   "source": [
    "import numpy as np\n",
    "import matplotlib.pyplot as plt\n",
    "\n",
    "X_train = np.loadtxt(path_to_dataset + '/X1_train.csv', delimiter=',')\n",
    "X_test = np.loadtxt(path_to_dataset + '/X1_test.csv', delimiter=',')\n",
    "y_train = np.loadtxt(path_to_dataset + '/y1_train.csv', delimiter=',')\n",
    "y_test = np.loadtxt(path_to_dataset + '/y1_test.csv', delimiter=',')\n",
    "\n",
    "# Plot it to see why is it called two-moon dataset\n",
    "plt.scatter(X_train[:, 0], X_train[:, 1], c=y_train);"
   ],
   "execution_count": null,
   "outputs": [
    {
     "output_type": "display_data",
     "data": {
      "image/png": "[encoded data removed]",
      "text/plain": [
       "<Figure size 432x288 with 1 Axes>"
      ]
     },
     "metadata": {
      "tags": [],
      "needs_background": "light"
     }
    }
   ]
  },
  {
   "cell_type": "markdown",
   "metadata": {
    "id": "AylarGlnhNKz"
   },
   "source": [
    "Now, let's create a PyTorch `DataLoader`:"
   ]
  },
  {
   "cell_type": "code",
   "metadata": {
    "id": "7I8AdavLhNKz"
   },
   "source": [
    "from torch.utils.data import TensorDataset, DataLoader\n",
    "batch_size = 64 # mini-batch size\n",
    "num_workers = 4 # how many parallel workers are we gonna use for reading data\n",
    "shuffle = True # shuffle the dataset\n",
    "\n",
    "# Convert numpy array import torch tensor\n",
    "X_train = torch.FloatTensor(X_train)\n",
    "X_test = torch.FloatTensor(X_test)\n",
    "y_train = torch.LongTensor(y_train.reshape(-1, 1))\n",
    "y_test = torch.LongTensor(y_test.reshape(-1, 1))\n",
    "\n",
    "# First, create a dataset from torch tensor. A dataset define how to read data\n",
    "# and process data for creating mini-batches.\n",
    "train_dataset = TensorDataset(X_train, y_train)\n",
    "train_loader = DataLoader(train_dataset, batch_size=batch_size, \n",
    "                          num_workers=num_workers, shuffle=shuffle)"
   ],
   "execution_count": null,
   "outputs": []
  },
  {
   "cell_type": "code",
   "metadata": {
    "id": "6YBTdhFahNK1",
    "executionInfo": {
     "status": "ok",
     "timestamp": 1601662935337,
     "user_tz": 240,
     "elapsed": 4477,
     "user": {
      "displayName": "Vaibhav Sundharam",
      "photoUrl": "https://lh3.googleusercontent.com/a-/AOh14Ggf8pEKCJrbRi4ZfFzswWvQ_sKdbph3iOABmyAS=s64",
      "userId": "08654959544633965355"
     }
    },
    "outputId": "6f4ce630-566a-4476-b656-a1847f913706",
    "colab": {
     "base_uri": "https://localhost:8080/",
     "height": 52
    }
   },
   "source": [
    "print(X_train.shape)\n",
    "print(y_train.shape)"
   ],
   "execution_count": null,
   "outputs": [
    {
     "output_type": "stream",
     "text": [
      "torch.Size([700, 2])\n",
      "torch.Size([700, 1])\n"
     ],
     "name": "stdout"
    }
   ]
  },
  {
   "cell_type": "markdown",
   "metadata": {
    "id": "s3dXWWK-hNK3"
   },
   "source": [
    "Below, we provide a simple example on how to train your model with this dataloader:"
   ]
  },
  {
   "cell_type": "code",
   "metadata": {
    "id": "VJhzhy6uhNK3",
    "executionInfo": {
     "status": "ok",
     "timestamp": 1601662936151,
     "user_tz": 240,
     "elapsed": 5261,
     "user": {
      "displayName": "Vaibhav Sundharam",
      "photoUrl": "https://lh3.googleusercontent.com/a-/AOh14Ggf8pEKCJrbRi4ZfFzswWvQ_sKdbph3iOABmyAS=s64",
      "userId": "08654959544633965355"
     }
    },
    "outputId": "fc583659-5616-4942-c492-7ede68b58b29",
    "colab": {
     "base_uri": "https://localhost:8080/",
     "height": 104
    }
   },
   "source": [
    "epoch = 5 # an epoch means looping through all the data in the datasets\n",
    "lr = 1e-1\n",
    "\n",
    "# create a simple model that is probably not gonna work well\n",
    "model = nn.Linear(X_train.size(1), 1)\n",
    "optim = torch.optim.SGD(model.parameters(), lr=lr)\n",
    "\n",
    "for e in range(epoch):\n",
    "    loss_epoch = 0\n",
    "    # loop through train loader to get x and y\n",
    "    for x, y in train_loader:\n",
    "        optim.zero_grad()\n",
    "        y_pred = model(x)\n",
    "        # !!WARNING!!\n",
    "        # THIS IS A CLASSIFICATION TASK, SO YOU SHOULD NOT\n",
    "        # USE THIS LOSS FUNCTION. \n",
    "        loss = (y_pred - y.float()).abs().mean()\n",
    "        loss.backward()\n",
    "        optim.step()\n",
    "        loss_epoch += loss.item()\n",
    "    print(f'Epcoh {e+1}: {loss_epoch}')"
   ],
   "execution_count": null,
   "outputs": [
    {
     "output_type": "stream",
     "text": [
      "Epcoh 1: 6.287397176027298\n",
      "Epcoh 2: 3.1801482439041138\n",
      "Epcoh 3: 2.947307139635086\n",
      "Epcoh 4: 2.898352399468422\n",
      "Epcoh 5: 2.897049754858017\n"
     ],
     "name": "stdout"
    }
   ]
  },
  {
   "cell_type": "markdown",
   "metadata": {
    "id": "5cNWmp_khNK5"
   },
   "source": [
    "### 1.3.1 Your Simple NN\n",
    "Now, it is time for you to implement your own model for this classification task. Your job here is to:\n",
    "1. Complete the SimpleNN class. It should be a 2- or 3-layer NN with proper non-linearity.\n",
    "2. Train your model with SGD optimizer.\n",
    "3. Tune your model a bit so you can achieve at least 80% accuracy on training set.\n",
    "Hint: you might want to look up `nn.ReLU`, `nn.Sigmoid`, `nn.BCELoss` in the [official document](https://pytorch.org/docs/stable/). You are allowed to freely pick the hyperparameters of your model.\n",
    "4. **Please note this is a binary classification problem.**"
   ]
  },
  {
   "cell_type": "code",
   "metadata": {
    "id": "-df0tAG4hNK5"
   },
   "source": [
    "class SimpleNN(nn.Module):\n",
    "    \n",
    "    def __init__(self, D_in, H, D_out):\n",
    "        super(SimpleNN, self).__init__()\n",
    "        ################################################################################\n",
    "        # TODO:                                                                        #\n",
    "        # Construct your small feedforward NN here.                                    #\n",
    "        ################################################################################\n",
    "        self.fc = nn.Sequential(nn.Linear(D_in, H),\n",
    "                                nn.ReLU(),\n",
    "                                nn.Linear(H, H),                                \n",
    "                                nn.ReLU(),\n",
    "                                nn.Linear(H, D_out),\n",
    "                                nn.Sigmoid()\n",
    "                                )       \n",
    "        ################################################################################\n",
    "        #                                 END OF YOUR CODE                             #\n",
    "        ################################################################################\n",
    "        \n",
    "    def forward(self, x):\n",
    "        ################################################################################\n",
    "        # TODO:                                                                        #\n",
    "        # feed the input to your network, and output the predictions.                  #\n",
    "        ################################################################################\n",
    "        out = self.fc(x)\n",
    "        return out\n",
    "        ################################################################################\n",
    "        #                                 END OF YOUR CODE                             #\n",
    "        ################################################################################"
   ],
   "execution_count": null,
   "outputs": []
  },
  {
   "cell_type": "code",
   "metadata": {
    "id": "f0bv0CHmhNK9"
   },
   "source": [
    "# helper function for computing accuracy\n",
    "def get_acc(pred, y):\n",
    "    pred = pred.float()\n",
    "    y = y.float()\n",
    "    return (y==pred).sum().float()/y.size(0)*100."
   ],
   "execution_count": null,
   "outputs": []
  },
  {
   "cell_type": "code",
   "metadata": {
    "id": "qUsryY1BhNK7",
    "executionInfo": {
     "status": "ok",
     "timestamp": 1601662936498,
     "user_tz": 240,
     "elapsed": 5562,
     "user": {
      "displayName": "Vaibhav Sundharam",
      "photoUrl": "https://lh3.googleusercontent.com/a-/AOh14Ggf8pEKCJrbRi4ZfFzswWvQ_sKdbph3iOABmyAS=s64",
      "userId": "08654959544633965355"
     }
    },
    "outputId": "edfd797a-bb98-433e-b369-f4d3dcba620a",
    "colab": {
     "base_uri": "https://localhost:8080/",
     "height": 191
    }
   },
   "source": [
    "epoch = 10 # an epoch means looping through all the data in the datasets\n",
    "lr = 1e-1\n",
    "\n",
    "# create a simple model that is probably not gonna work well\n",
    "\n",
    "################################################################################\n",
    "# TODO:                                                                        #\n",
    "# Initialize your model and SGD optimizer here.                                #\n",
    "################################################################################\n",
    "model = SimpleNN(D_in=X_train.shape[1], H=128, D_out=1 ) \n",
    "optim = torch.optim.SGD(model.parameters(), lr=1e-4, momentum=0.9)\n",
    "################################################################################\n",
    "#                                 END OF YOUR CODE                             #\n",
    "################################################################################\n",
    "print_every = 1\n",
    "\n",
    "for e in range(epoch):\n",
    "    loss_per_epoch = 0  # record accmulative loss for each epoch\n",
    "    ################################################################################\n",
    "    # TODO:                                                                        #\n",
    "    # Loop through the dataloader and train your model with nn.BCELoss.            #\n",
    "    ################################################################################\n",
    "    for x, y in train_loader:\n",
    "      model.train()\n",
    "      optim.zero_grad()\n",
    "      #forward pass\n",
    "      y_pred = model(x)\n",
    "      loss = criterion(y_pred, y.float())\n",
    "      #backward pass\n",
    "      loss.backward()\n",
    "      optim.step()\n",
    "      loss_per_epoch += loss.item()\n",
    "    if e % print_every == 0:\n",
    "      with torch.no_grad():\n",
    "        model.eval()\n",
    "        y_pred = (model(X_train) > 0.5)\n",
    "        train_acc = get_acc(y_pred, y_train)        \n",
    "      print(f'Epcoh {e+1}: {loss_per_epoch}, Training accuracy: {train_acc}')    "
   ],
   "execution_count": null,
   "outputs": [
    {
     "output_type": "stream",
     "text": [
      "Epcoh 1: 175.69801330566406, Training accuracy: 53.14285659790039\n",
      "Epcoh 2: 163.93745517730713, Training accuracy: 76.14286041259766\n",
      "Epcoh 3: 149.43914890289307, Training accuracy: 78.14286041259766\n",
      "Epcoh 4: 135.1939582824707, Training accuracy: 79.42857360839844\n",
      "Epcoh 5: 122.69386386871338, Training accuracy: 80.14285278320312\n",
      "Epcoh 6: 112.03748607635498, Training accuracy: 80.42857360839844\n",
      "Epcoh 7: 103.87800884246826, Training accuracy: 80.42857360839844\n",
      "Epcoh 8: 97.95762014389038, Training accuracy: 80.71428680419922\n",
      "Epcoh 9: 93.56882953643799, Training accuracy: 81.0\n",
      "Epcoh 10: 90.28441905975342, Training accuracy: 81.71428680419922\n"
     ],
     "name": "stdout"
    }
   ]
  },
  {
   "cell_type": "markdown",
   "metadata": {
    "id": "VXZAgpSjhNK_"
   },
   "source": [
    "Evaluate your accuracy:"
   ]
  },
  {
   "cell_type": "code",
   "metadata": {
    "id": "nmuF7Fy_hNK_",
    "executionInfo": {
     "status": "ok",
     "timestamp": 1601662936499,
     "user_tz": 240,
     "elapsed": 5546,
     "user": {
      "displayName": "Vaibhav Sundharam",
      "photoUrl": "https://lh3.googleusercontent.com/a-/AOh14Ggf8pEKCJrbRi4ZfFzswWvQ_sKdbph3iOABmyAS=s64",
      "userId": "08654959544633965355"
     }
    },
    "outputId": "466832d9-386e-4a87-a497-26de4fb9fb71",
    "colab": {
     "base_uri": "https://localhost:8080/",
     "height": 35
    }
   },
   "source": [
    "y_pred = (model(X_train) > 0.5)\n",
    "train_acc = get_acc(y_pred, y_train)\n",
    "\n",
    "y_pred = (model(X_test) > 0.5)\n",
    "test_acc = get_acc(y_pred, y_test)\n",
    "print(f'Training accuracy: {train_acc}, Testing accuracy: {test_acc}')"
   ],
   "execution_count": null,
   "outputs": [
    {
     "output_type": "stream",
     "text": [
      "Training accuracy: 81.71428680419922, Testing accuracy: 83.66666412353516\n"
     ],
     "name": "stdout"
    }
   ]
  },
  {
   "cell_type": "markdown",
   "metadata": {
    "id": "6DchFh_ghNLA"
   },
   "source": [
    "# Section 2. Image Classification with CNN\n",
    "Now, we are back to the image classification problem. In this section, our goal is to, again, train models on CIFAR-10 to perform image classification. Your tasks here are to:\n",
    "1. Build and Train a simple feed-forward Neural Network (consists of only nn.Linear layer with activation function) for the classification task\n",
    "2. Build and Train a **Convolutional** Neural Network (CNN) for the classification task\n",
    "3. Try different settings for training your CNN\n",
    "4. Reproduce"
   ]
  },
  {
   "cell_type": "markdown",
   "metadata": {
    "id": "gYheieC6hNLB"
   },
   "source": [
    "In the following cell, we provide the code for creating a CIFAR10 dataloader. As you can see, PyTorch's `torchvision` package actually has an interface for the CIFAR10 dataset: "
   ]
  },
  {
   "cell_type": "code",
   "metadata": {
    "id": "EdtadpknhNLB",
    "executionInfo": {
     "status": "ok",
     "timestamp": 1601662937871,
     "user_tz": 240,
     "elapsed": 6905,
     "user": {
      "displayName": "Vaibhav Sundharam",
      "photoUrl": "https://lh3.googleusercontent.com/a-/AOh14Ggf8pEKCJrbRi4ZfFzswWvQ_sKdbph3iOABmyAS=s64",
      "userId": "08654959544633965355"
     }
    },
    "outputId": "41b45d76-bc0a-42df-ed2b-1916ad2519b3",
    "colab": {
     "base_uri": "https://localhost:8080/",
     "height": 52
    }
   },
   "source": [
    "import torchvision\n",
    "import torchvision.transforms as transforms\n",
    "\n",
    "# Preprocessing steps on the training/testing data. You can define your own data augmentation\n",
    "# here, and PyTorch's API will do the rest for you.\n",
    "transform_train = transforms.Compose([\n",
    "    transforms.ToTensor(),\n",
    "    transforms.Normalize((0.4914, 0.4822, 0.4465), (0.2023, 0.1994, 0.2010)),\n",
    "])\n",
    "\n",
    "transform_test = transforms.Compose([\n",
    "    transforms.ToTensor(),\n",
    "    transforms.Normalize((0.4914, 0.4822, 0.4465), (0.2023, 0.1994, 0.2010)),\n",
    "])\n",
    "\n",
    "# This will automatically download the dataset for you if it cannot find the data in root\n",
    "trainset = torchvision.datasets.CIFAR10(root='./data', train=True, download=True, transform=transform_train)\n",
    "testset = torchvision.datasets.CIFAR10(root='./data', train=False, download=True, transform=transform_test)"
   ],
   "execution_count": null,
   "outputs": [
    {
     "output_type": "stream",
     "text": [
      "Files already downloaded and verified\n",
      "Files already downloaded and verified\n"
     ],
     "name": "stdout"
    }
   ]
  },
  {
   "cell_type": "markdown",
   "metadata": {
    "id": "zKF6AvfnhNLD"
   },
   "source": [
    "## 2.1 Simple NN\n",
    "Implement a simple feed-forward neural network, and train it on the CIFAR-10 training set. Here's some specific requirements:\n",
    "1. The network should only consists of `nn.Linear` layers and the activation functions of your choices (e.g. `nn.Tanh`, `nn.ReLU`, `nn.Sigmoid`, etc). \n",
    "2. Train your model with `torch.optim.SGD` with the hyperparameters you like the most. \n",
    "\n",
    "Note that the hyperparameters work in previous assignment might not work the same, as the implementations of layers could be different."
   ]
  },
  {
   "cell_type": "code",
   "metadata": {
    "id": "X6HQV2Mk8S08",
    "executionInfo": {
     "status": "ok",
     "timestamp": 1601662937872,
     "user_tz": 240,
     "elapsed": 6894,
     "user": {
      "displayName": "Vaibhav Sundharam",
      "photoUrl": "https://lh3.googleusercontent.com/a-/AOh14Ggf8pEKCJrbRi4ZfFzswWvQ_sKdbph3iOABmyAS=s64",
      "userId": "08654959544633965355"
     }
    },
    "outputId": "e8f95433-065f-4fc7-a570-cfee77faa5e6",
    "colab": {
     "base_uri": "https://localhost:8080/",
     "height": 35
    }
   },
   "source": [
    "# Set device on GPU if available, else CPU\n",
    "device = torch.device('cuda' if torch.cuda.is_available() else 'cpu')\n",
    "print(device)"
   ],
   "execution_count": null,
   "outputs": [
    {
     "output_type": "stream",
     "text": [
      "cuda\n"
     ],
     "name": "stdout"
    }
   ]
  },
  {
   "cell_type": "markdown",
   "metadata": {
    "id": "YJcemWDchNLD"
   },
   "source": [
    "### 2.1.1 Design and training"
   ]
  },
  {
   "cell_type": "code",
   "metadata": {
    "id": "7graSS59hNLD"
   },
   "source": [
    "class SimpleNN(nn.Module):\n",
    "    \n",
    "    def __init__(self, D_in, H, D_out):\n",
    "        super(SimpleNN, self).__init__()\n",
    "        self.D_in = D_in\n",
    "        self.D_out = D_out\n",
    "        ################################################################################\n",
    "        # TODO:                                                                        #\n",
    "        # Construct your small feedforward NN here.                                    #\n",
    "        ################################################################################\n",
    "        self.fc = nn.Sequential(nn.Linear(self.D_in, H),\n",
    "                                nn.ReLU(),\n",
    "                                nn.Linear(H, 128),                                \n",
    "                                nn.ReLU(),\n",
    "                                nn.Linear(128, 256), \n",
    "                                nn.ReLU(),\n",
    "                                nn.Linear(256, self.D_out)                               \n",
    "                                ) \n",
    "        ################################################################################\n",
    "        #                                 END OF YOUR CODE                             #\n",
    "        ################################################################################\n",
    "        \n",
    "    def forward(self, x):\n",
    "        # note that: here, the data is of the shape (B, C, H, W)\n",
    "        # where B is the batch size, C is color channels, and H\n",
    "        # and W is height and width.\n",
    "        # To feed it into the linear layer, we need to reshape it\n",
    "        # with .view() function.\n",
    "        batch_size = x.size(0)\n",
    "        x = x.view(batch_size, -1) # reshape the data from (B, C, H, W) to (B, C*H*W)\n",
    "        ################################################################################\n",
    "        # TODO:                                                                        #\n",
    "        # Forward pass, output the prediction score.                                   #\n",
    "        ################################################################################\n",
    "        out = self.fc(x)\n",
    "        return out\n",
    "        ################################################################################\n",
    "        #                                 END OF YOUR CODE                             #\n",
    "        ################################################################################"
   ],
   "execution_count": null,
   "outputs": []
  },
  {
   "cell_type": "code",
   "metadata": {
    "id": "IUDrBRhOhNLF",
    "executionInfo": {
     "status": "ok",
     "timestamp": 1601662997114,
     "user_tz": 240,
     "elapsed": 66118,
     "user": {
      "displayName": "Vaibhav Sundharam",
      "photoUrl": "https://lh3.googleusercontent.com/a-/AOh14Ggf8pEKCJrbRi4ZfFzswWvQ_sKdbph3iOABmyAS=s64",
      "userId": "08654959544633965355"
     }
    },
    "outputId": "248d463b-f346-465f-e0f9-34db19150b4a",
    "colab": {
     "base_uri": "https://localhost:8080/",
     "height": 191
    }
   },
   "source": [
    "epoch = 10\n",
    "lr = 1e-2\n",
    "n_input = 3072\n",
    "n_classes = 10\n",
    "H = 64\n",
    "train_loader = torch.utils.data.DataLoader(trainset, batch_size=64, shuffle=True, num_workers=8)\n",
    "test_loader = torch.utils.data.DataLoader(testset, batch_size=100, shuffle=False, num_workers=8)\n",
    "\n",
    "################################################################################\n",
    "# TODO:                                                                        #\n",
    "# Your training code here.                                                     #\n",
    "################################################################################\n",
    "model = SimpleNN(D_in=n_input, H=H, D_out=n_classes)\n",
    "model = model.to(device)\n",
    "criterion = nn.CrossEntropyLoss()\n",
    "optim = torch.optim.SGD(model.parameters(), lr=lr)\n",
    "\n",
    "for e in range(epoch):\n",
    "  model.train()\n",
    "  loss_per_epoch = 0\n",
    "  for x, y in train_loader:\n",
    "    x = x.to(device)\n",
    "    y = y.to(device)\n",
    "    optim.zero_grad()\n",
    "    #forward pass\n",
    "    y_pred = model(x)\n",
    "    loss = criterion(y_pred, y)\n",
    "    #backward pass\n",
    "    loss.backward()\n",
    "    optim.step()\n",
    "    loss_per_epoch += loss.item()\n",
    "  print(f'Epcoh {e+1}: {loss_per_epoch}')\n",
    "################################################################################\n",
    "#                                 END OF YOUR CODE                             #\n",
    "################################################################################"
   ],
   "execution_count": null,
   "outputs": [
    {
     "output_type": "stream",
     "text": [
      "Epcoh 1: 1571.2740021944046\n",
      "Epcoh 2: 1324.7482823133469\n",
      "Epcoh 3: 1232.3335175514221\n",
      "Epcoh 4: 1173.9157831668854\n",
      "Epcoh 5: 1128.9998208284378\n",
      "Epcoh 6: 1091.8224670886993\n",
      "Epcoh 7: 1062.1408520936966\n",
      "Epcoh 8: 1034.2445068359375\n",
      "Epcoh 9: 1010.0154585838318\n",
      "Epcoh 10: 988.6545689105988\n"
     ],
     "name": "stdout"
    }
   ]
  },
  {
   "cell_type": "markdown",
   "metadata": {
    "id": "E8Cd7twvhNLH"
   },
   "source": [
    "Now evaluate your model with the helper function:"
   ]
  },
  {
   "cell_type": "code",
   "metadata": {
    "id": "kYytasglhNLI"
   },
   "source": [
    "def get_model_acc(model, loader):\n",
    "    ys = []\n",
    "    y_preds = []    \n",
    "    for x, y in loader:\n",
    "        x = x.to(device)\n",
    "        y = y.to(device)\n",
    "        ys.append(y)\n",
    "        # set the prediction to the one that has highest value\n",
    "        # Note that the the output size of model(x) is (B, 10)\n",
    "        y_preds.append(torch.argmax(model(x), dim=1))\n",
    "    y = torch.cat(ys, dim=0)\n",
    "    y_pred = torch.cat(y_preds, dim=0)\n",
    "    print((y == y_pred).sum())\n",
    "    return get_acc(y_pred, y)"
   ],
   "execution_count": null,
   "outputs": []
  },
  {
   "cell_type": "markdown",
   "metadata": {
    "id": "sJZJzFc1hNLJ"
   },
   "source": [
    "### 2.1.2 Evaluate NN\n",
    "Evaluate your NN. You should get an accuracy around **50%** on training set and **49%** on testing set."
   ]
  },
  {
   "cell_type": "code",
   "metadata": {
    "id": "EmICwfpghNLK",
    "executionInfo": {
     "status": "ok",
     "timestamp": 1601663003370,
     "user_tz": 240,
     "elapsed": 72355,
     "user": {
      "displayName": "Vaibhav Sundharam",
      "photoUrl": "https://lh3.googleusercontent.com/a-/AOh14Ggf8pEKCJrbRi4ZfFzswWvQ_sKdbph3iOABmyAS=s64",
      "userId": "08654959544633965355"
     }
    },
    "outputId": "de6fc0bb-2a93-489a-966d-4f263e8f7db3",
    "colab": {
     "base_uri": "https://localhost:8080/",
     "height": 69
    }
   },
   "source": [
    "with torch.no_grad():\n",
    "  model.eval()\n",
    "  train_acc = get_model_acc(model, train_loader)\n",
    "  test_acc = get_model_acc(model, test_loader)\n",
    "  print(f'Training accuracy: {train_acc}, Testing accuracy: {test_acc}')"
   ],
   "execution_count": null,
   "outputs": [
    {
     "output_type": "stream",
     "text": [
      "tensor(28118, device='cuda:0')\n",
      "tensor(5006, device='cuda:0')\n",
      "Training accuracy: 56.236000061035156, Testing accuracy: 50.05999755859375\n"
     ],
     "name": "stdout"
    }
   ]
  },
  {
   "cell_type": "markdown",
   "metadata": {
    "id": "45msV-hohNLM"
   },
   "source": [
    "## 2.2 Convolutional Neural Network (CNN)\n",
    "Convolutional layer has been proven to be extremely useful for vision-based task. As mentioned in the lecture, this speical layer allows the model to learn filters that capture crucial visual features. \n",
    "\n"
   ]
  },
  {
   "cell_type": "markdown",
   "metadata": {
    "id": "gRpWOvRVhNLN"
   },
   "source": [
    "### 2.2.1 Implement and Evaluate CNN\n",
    "In this section, you will need to construct a CNN for classifying CIFAR-10 image. Specifically, you need to:\n",
    "1. build a `CNNClassifier` with `nn.Conv2d`, `nn.Maxpool2d` and activation functions that you think are appropriate. \n",
    "2. You would need to flatten the output of your convolutional networks with `view()`, and feed it into a `nn.Linear` layer to predict the class labels of the input. \n",
    "\n",
    "Once you are done with your module, train it with `optim.SGD`, and evaluate it. You should get an accuracy around **55%** on training set and **53%** on testing set.\n",
    "\n",
    "Hint: You might want to look up `nn.Conv2d`, `nn.Maxpool2d`, `nn.CrossEntropyLoss()`, `view()` and `size()`."
   ]
  },
  {
   "cell_type": "code",
   "metadata": {
    "id": "iuI32M2uhNLN"
   },
   "source": [
    "class CNNClassifier(nn.Module):\n",
    "    \n",
    "    def __init__(self, inp_channels, out_classes):\n",
    "        super(CNNClassifier, self).__init__()\n",
    "        ################################################################################\n",
    "        # TODO:                                                                        #\n",
    "        # Construct a CNN with 2 or 3 convolutional layers and 1 linear layer for      #\n",
    "        # outputing class prediction. You are free to pick the hyperparameters         #\n",
    "        ################################################################################\n",
    "        self.inp_channels = inp_channels\n",
    "        self.out_classes = out_classes\n",
    "\n",
    "        self.cnn= nn.Sequential(            \n",
    "            nn.Conv2d(self.inp_channels, 128, kernel_size=3,  padding=1),\n",
    "            nn.BatchNorm2d(num_features=128),\n",
    "            nn.ReLU(),      \n",
    "            nn.MaxPool2d(kernel_size=(2,2), stride=(2,2)),\n",
    "\n",
    "            nn.Conv2d(128, 256, kernel_size=3,  padding=1),\n",
    "            nn.BatchNorm2d(num_features=256),\n",
    "            nn.ReLU(),      \n",
    "            nn.MaxPool2d(kernel_size=(2,2), stride=(2,2)),\n",
    "                    )\n",
    "        self.fc = nn.Sequential(\n",
    "            nn.Linear(256*8*8, self.out_classes),\n",
    "            )\n",
    "        ################################################################################\n",
    "        #                                 END OF YOUR CODE                             #\n",
    "        ################################################################################        \n",
    "        \n",
    "    def forward(self, x):\n",
    "        ################################################################################\n",
    "        # TODO:                                                                        #\n",
    "        # Forward pass of your network. First extract feature with CNN, and predict    #\n",
    "        # class scores with linear layer. Be careful about your input/output shape.    #\n",
    "        ################################################################################\n",
    "        #print(self.cnn(x).shape)\n",
    "        batch_size = x.size(0)      \n",
    "        return self.fc(self.cnn(x).view(batch_size, -1))        \n",
    "        ################################################################################\n",
    "        #                                 END OF YOUR CODE                             #\n",
    "        ################################################################################"
   ],
   "execution_count": null,
   "outputs": []
  },
  {
   "cell_type": "code",
   "metadata": {
    "id": "3WJTRDnXhNLO",
    "executionInfo": {
     "status": "ok",
     "timestamp": 1601663100430,
     "user_tz": 240,
     "elapsed": 169395,
     "user": {
      "displayName": "Vaibhav Sundharam",
      "photoUrl": "https://lh3.googleusercontent.com/a-/AOh14Ggf8pEKCJrbRi4ZfFzswWvQ_sKdbph3iOABmyAS=s64",
      "userId": "08654959544633965355"
     }
    },
    "outputId": "fd2de450-662c-465b-f232-8c4b96d0d120",
    "colab": {
     "base_uri": "https://localhost:8080/",
     "height": 295
    }
   },
   "source": [
    "# You can tune these hyperparameters as you like.\n",
    "epoch = 15\n",
    "lr = 1e-1\n",
    "n_input_channels = 3\n",
    "out_classes = 10\n",
    "batch_size = 64\n",
    "num_workers = num_workers\n",
    "\n",
    "train_loader = torch.utils.data.DataLoader(trainset, batch_size=batch_size, shuffle=True, num_workers=8)\n",
    "test_loader = torch.utils.data.DataLoader(testset, batch_size=100, shuffle=False, num_workers=8)\n",
    "\n",
    "################################################################################\n",
    "# TODO:                                                                        #\n",
    "# Your training code here.                                                     #\n",
    "################################################################################\n",
    "model = CNNClassifier(inp_channels=n_input_channels, out_classes=out_classes)\n",
    "model = model.to(device)\n",
    "optim = torch.optim.SGD(model.parameters(), lr=lr)\n",
    "criterion = nn.CrossEntropyLoss()\n",
    "start_time = time.time()\n",
    "for e in range(epoch):  \n",
    "  model.train()\n",
    "  loss_per_epoch = 0\n",
    "  for x, y in train_loader:\n",
    "    x = x.to(device)\n",
    "    y = y.to(device)\n",
    "    optim.zero_grad()\n",
    "    #forward pass\n",
    "    y_pred = model(x)\n",
    "    loss = criterion(y_pred, y)\n",
    "    #backward pass\n",
    "    loss.backward()\n",
    "    optim.step()\n",
    "    loss_per_epoch += loss.item()  \n",
    "  print(f'Epcoh {e+1}: {loss_per_epoch}')\n",
    "end_time = time.time()\n",
    "total_time = end_time - start_time\n",
    "print(f\"Time taken to execute the training loop is {np.floor(total_time)} seconds\")  \n",
    "################################################################################\n",
    "#                                 END OF YOUR CODE                             #\n",
    "################################################################################"
   ],
   "execution_count": null,
   "outputs": [
    {
     "output_type": "stream",
     "text": [
      "Epcoh 1: 1848.124501466751\n",
      "Epcoh 2: 921.4337480664253\n",
      "Epcoh 3: 796.7792166471481\n",
      "Epcoh 4: 728.2929726243019\n",
      "Epcoh 5: 678.7903335094452\n",
      "Epcoh 6: 641.1675462126732\n",
      "Epcoh 7: 608.4853229522705\n",
      "Epcoh 8: 581.1300250589848\n",
      "Epcoh 9: 554.5808143615723\n",
      "Epcoh 10: 525.9232038855553\n",
      "Epcoh 11: 500.98602053523064\n",
      "Epcoh 12: 479.24907982349396\n",
      "Epcoh 13: 456.0347394347191\n",
      "Epcoh 14: 434.4372520595789\n",
      "Epcoh 15: 411.97570019960403\n",
      "Time taken to execute the training loop is 96.0 seconds\n"
     ],
     "name": "stdout"
    }
   ]
  },
  {
   "cell_type": "code",
   "metadata": {
    "id": "NYZ6K5n0hNLT",
    "executionInfo": {
     "status": "ok",
     "timestamp": 1601663106586,
     "user_tz": 240,
     "elapsed": 175538,
     "user": {
      "displayName": "Vaibhav Sundharam",
      "photoUrl": "https://lh3.googleusercontent.com/a-/AOh14Ggf8pEKCJrbRi4ZfFzswWvQ_sKdbph3iOABmyAS=s64",
      "userId": "08654959544633965355"
     }
    },
    "outputId": "5b86c6b0-dc5c-42f9-fdd8-83d95b2b4488",
    "colab": {
     "base_uri": "https://localhost:8080/",
     "height": 69
    }
   },
   "source": [
    "# turn on evaluation mode. This is crucial when you have BatchNorm in your network,\n",
    "# as you want to use the running mean/std you obtain durining training time to normalize\n",
    "# your input data. Rememeber to call .train() function after evaluation\n",
    "with torch.no_grad():\n",
    "  model.eval()\n",
    "  train_acc = get_model_acc(model, train_loader)\n",
    "  test_acc = get_model_acc(model, test_loader)\n",
    "  print(f'Training accuracy: {train_acc}, Testing accuracy: {test_acc}')"
   ],
   "execution_count": null,
   "outputs": [
    {
     "output_type": "stream",
     "text": [
      "tensor(40411, device='cuda:0')\n",
      "tensor(7034, device='cuda:0')\n",
      "Training accuracy: 80.8219985961914, Testing accuracy: 70.33999633789062\n"
     ],
     "name": "stdout"
    }
   ]
  },
  {
   "cell_type": "markdown",
   "metadata": {
    "id": "IidJ8UI-y1Gr"
   },
   "source": [
    "### 2.2.2 STACK MORE LAYERS\n",
    "Now, **try at least 4 network architectures with different numbers of convolutional layers**. Train these settings with `optim.SGD`, plot the training/testing accuracy as a fuction of convolutional layers and describe what you have observed (running time, performance, etc). **Please make sure your figures are with clear legends and labels**."
   ]
  },
  {
   "cell_type": "code",
   "metadata": {
    "id": "giFqHRfOM-bj"
   },
   "source": [
    "# common initialization\n",
    "\n",
    "train_loader = torch.utils.data.DataLoader(trainset, batch_size=64, shuffle=True, num_workers=2)\n",
    "test_loader = torch.utils.data.DataLoader(testset, batch_size=100, shuffle=False, num_workers=2)\n",
    "criterion = nn.CrossEntropyLoss()\n",
    "n_classes = 10\n",
    "lr=1e-1"
   ],
   "execution_count": null,
   "outputs": []
  },
  {
   "cell_type": "code",
   "metadata": {
    "id": "jl4R0zy68kU2"
   },
   "source": [
    "# evaluation function \n",
    "def model_eval(model,train_loader,test_loader):\n",
    "  model.eval()\n",
    "  train_acc = get_model_acc(model, train_loader)\n",
    "  test_acc = get_model_acc(model, test_loader)\n",
    "  print(f'Training accuracy: {train_acc}, Testing accuracy: {test_acc}')\n",
    "  return float(train_acc),float(test_acc)  "
   ],
   "execution_count": null,
   "outputs": []
  },
  {
   "cell_type": "code",
   "metadata": {
    "id": "VqM34wiKwgCQ"
   },
   "source": [
    "# solver function for NN training\n",
    "\n",
    "def Solver_NN (model, train_loader, optim, criterion, epoch=501, lr=1e-1, print_every=20):\n",
    "  model = model.to(device)\n",
    "  starttime=time.time()\n",
    "  for e in range(epoch):\n",
    "    loss_epoch=0\n",
    "\n",
    "    for x,y in train_loader:\n",
    "      model.train()\n",
    "      x = x.to(device)\n",
    "      y =y.to(device)\n",
    "      optim.zero_grad()\n",
    "      batch_size=y.shape[0]      \n",
    "      #print(\"y is:\",y.shape)---> y is: torch.Size([64, 10])\n",
    "      y_pred=model(x)\n",
    "      #print(\"y_pred is:\",y_pred.shape)---> y_pred is: torch.Size([64, 10])\n",
    "      loss=criterion(y_pred,y)\n",
    "      loss.backward()\n",
    "      optim.step()\n",
    "      loss_epoch += loss.item()\n",
    "      \n",
    "    if e % print_every==0:\n",
    "      print(\"loss_epoch\",e, loss_epoch)\n",
    "    endtime=time.time()\n",
    "      \n",
    "  return model,endtime-starttime"
   ],
   "execution_count": null,
   "outputs": []
  },
  {
   "cell_type": "markdown",
   "metadata": {
    "id": "p9v-kaXJMBTu"
   },
   "source": [
    "####2.2.2 Architecture 1"
   ]
  },
  {
   "cell_type": "code",
   "metadata": {
    "id": "3CuXdBWLHlBY"
   },
   "source": [
    "# Architecture 1: 1 convolution layer 1 fully connected layer\n",
    "\n",
    "class Architecture_1(nn.Module):\n",
    "\n",
    "  def __init__(self,D_out):\n",
    "    super(Architecture_1,self).__init__()\n",
    "    self.conv1=nn.Conv2d(3,6,3)\n",
    "    self.fc1=nn.Linear(1350,D_out)\n",
    "\n",
    "  def forward(self,x):\n",
    "    x=F.max_pool2d(F.relu(self.conv1(x)),2)\n",
    "    x=x.view(-1, self.flat_features(x))\n",
    "    y_pred=self.fc1(x)\n",
    "    return F.softmax(y_pred,dim=1)\n",
    "\n",
    "  def flat_features(self, x):\n",
    "    size = x.size()[1:]  \n",
    "    num_features = 1\n",
    "    for s in size:\n",
    "      num_features *= s\n",
    "    return num_features\n"
   ],
   "execution_count": null,
   "outputs": []
  },
  {
   "cell_type": "code",
   "metadata": {
    "id": "j6x0bN1BMn7y",
    "executionInfo": {
     "status": "ok",
     "timestamp": 1601663463307,
     "user_tz": 240,
     "elapsed": 532223,
     "user": {
      "displayName": "Vaibhav Sundharam",
      "photoUrl": "https://lh3.googleusercontent.com/a-/AOh14Ggf8pEKCJrbRi4ZfFzswWvQ_sKdbph3iOABmyAS=s64",
      "userId": "08654959544633965355"
     }
    },
    "outputId": "174815bd-c38c-4ca1-ae6b-edd322a8d37d",
    "colab": {
     "base_uri": "https://localhost:8080/",
     "height": 69
    }
   },
   "source": [
    "# Training of first architecture\n",
    "\n",
    "model = Architecture_1(n_classes)\n",
    "optim = torch.optim.SGD(model.parameters(), lr=lr)\n",
    "modle,time_1 = Solver_NN(model,train_loader,optim,criterion,epoch=51,lr=1e-1,print_every=20)\n"
   ],
   "execution_count": null,
   "outputs": [
    {
     "output_type": "stream",
     "text": [
      "loss_epoch 0 1659.8100378513336\n",
      "loss_epoch 20 1452.608170390129\n",
      "loss_epoch 40 1428.9423788785934\n"
     ],
     "name": "stdout"
    }
   ]
  },
  {
   "cell_type": "code",
   "metadata": {
    "id": "pIVp6GyNAP55",
    "executionInfo": {
     "status": "ok",
     "timestamp": 1601663471277,
     "user_tz": 240,
     "elapsed": 540181,
     "user": {
      "displayName": "Vaibhav Sundharam",
      "photoUrl": "https://lh3.googleusercontent.com/a-/AOh14Ggf8pEKCJrbRi4ZfFzswWvQ_sKdbph3iOABmyAS=s64",
      "userId": "08654959544633965355"
     }
    },
    "outputId": "65babe56-4057-4298-c2b1-ddcb9a252c59",
    "colab": {
     "base_uri": "https://localhost:8080/",
     "height": 87
    }
   },
   "source": [
    "# Model evaluation\n",
    "with torch.no_grad():\n",
    "  model.eval()\n",
    "  train_acc_1 = get_model_acc(model, train_loader)\n",
    "  test_acc_1 = get_model_acc(model, test_loader)\n",
    "  print(f'Training accuracy: {train_acc}, Testing accuracy: {test_acc}')\n",
    "  print(\"Total time taken to execute architecture 1:\",np.floor(time_1/60),\"minutes\")"
   ],
   "execution_count": null,
   "outputs": [
    {
     "output_type": "stream",
     "text": [
      "tensor(29964, device='cuda:0')\n",
      "tensor(5337, device='cuda:0')\n",
      "Training accuracy: 80.8219985961914, Testing accuracy: 70.33999633789062\n",
      "Total time taken to execute architecture 1: 5.0 minutes\n"
     ],
     "name": "stdout"
    }
   ]
  },
  {
   "cell_type": "markdown",
   "metadata": {
    "id": "s5eEkFTmMHE4"
   },
   "source": [
    "####2.2.2 Architecture 2"
   ]
  },
  {
   "cell_type": "code",
   "metadata": {
    "id": "locY0OAMYjAR"
   },
   "source": [
    "# Architecture 2: 2 convolution layer 1 fully connected layer\n",
    "\n",
    "class Architecture_2(nn.Module):    \n",
    "    def __init__(self,D_out):\n",
    "        super(Architecture_2, self).__init__()\n",
    "        self.conv1=nn.Conv2d(3,16,3)\n",
    "        self.conv2=nn.Conv2d(16,32,3)\n",
    "        self.linear1=nn.Linear(1152,D_out)\n",
    "    \n",
    "    def flat_features(self,x):\n",
    "        size = x.size()[1:]  \n",
    "        num_features = 1\n",
    "        for s in size:\n",
    "          num_features *= s\n",
    "        return num_features    \n",
    "        \n",
    "    def forward(self, x):\n",
    "        x=F.max_pool2d(F.relu(self.conv1(x)),2)\n",
    "        x=F.max_pool2d(F.relu(self.conv2(x)),2)\n",
    "        x=x.view(-1, self.flat_features(x))\n",
    "        y_pred=self.linear1(x)\n",
    "        return F.softmax(y_pred,dim=1)"
   ],
   "execution_count": null,
   "outputs": []
  },
  {
   "cell_type": "code",
   "metadata": {
    "id": "tFipqBTfLzKM",
    "executionInfo": {
     "status": "ok",
     "timestamp": 1601663845729,
     "user_tz": 240,
     "elapsed": 914611,
     "user": {
      "displayName": "Vaibhav Sundharam",
      "photoUrl": "https://lh3.googleusercontent.com/a-/AOh14Ggf8pEKCJrbRi4ZfFzswWvQ_sKdbph3iOABmyAS=s64",
      "userId": "08654959544633965355"
     }
    },
    "outputId": "15afe362-e02b-448e-c4f4-363e9e2ad723",
    "colab": {
     "base_uri": "https://localhost:8080/",
     "height": 69
    }
   },
   "source": [
    "# Training of second architecture\n",
    "model = Architecture_2(n_classes)\n",
    "optim = torch.optim.SGD(model.parameters(), lr=lr)\n",
    "modle,time_2 = Solver_NN(model,train_loader,optim,criterion,epoch=51,lr=1e-1,print_every=20)"
   ],
   "execution_count": null,
   "outputs": [
    {
     "output_type": "stream",
     "text": [
      "loss_epoch 0 1682.5546048879623\n",
      "loss_epoch 20 1431.0463063716888\n",
      "loss_epoch 40 1409.3187897205353\n"
     ],
     "name": "stdout"
    }
   ]
  },
  {
   "cell_type": "code",
   "metadata": {
    "id": "dw78CGzi-CRs",
    "executionInfo": {
     "status": "ok",
     "timestamp": 1601663853754,
     "user_tz": 240,
     "elapsed": 922623,
     "user": {
      "displayName": "Vaibhav Sundharam",
      "photoUrl": "https://lh3.googleusercontent.com/a-/AOh14Ggf8pEKCJrbRi4ZfFzswWvQ_sKdbph3iOABmyAS=s64",
      "userId": "08654959544633965355"
     }
    },
    "outputId": "1632efaa-90d5-4016-e013-cf87ff6f6185",
    "colab": {
     "base_uri": "https://localhost:8080/",
     "height": 87
    }
   },
   "source": [
    "# Model evaluation\n",
    "with torch.no_grad():\n",
    "  model.eval()\n",
    "  train_acc_2 = get_model_acc(model, train_loader)\n",
    "  test_acc_2 = get_model_acc(model, test_loader)\n",
    "  print(f'Training accuracy: {train_acc}, Testing accuracy: {test_acc}')\n",
    "  print(\"Total time taken to execute architecture 2:\",np.floor(time_2/60),\"minutes\")"
   ],
   "execution_count": null,
   "outputs": [
    {
     "output_type": "stream",
     "text": [
      "tensor(32666, device='cuda:0')\n",
      "tensor(5948, device='cuda:0')\n",
      "Training accuracy: 80.8219985961914, Testing accuracy: 70.33999633789062\n",
      "Total time taken to execute architecture 2: 6.0 minutes\n"
     ],
     "name": "stdout"
    }
   ]
  },
  {
   "cell_type": "markdown",
   "metadata": {
    "id": "B-auo9nIMNIV"
   },
   "source": [
    "#### 2.2.2 Architecture 3"
   ]
  },
  {
   "cell_type": "code",
   "metadata": {
    "id": "hrFUHBdT_rmZ"
   },
   "source": [
    "# Architecture 3: 3 convolution layer 1 fully connected layer\n",
    "\n",
    "class Architecture_3(nn.Module):    \n",
    "    def __init__(self,D_out):\n",
    "        super(Architecture_3, self).__init__()\n",
    "        self.conv1=nn.Conv2d(3,6,3)\n",
    "        self.conv2=nn.Conv2d(6,16,3)\n",
    "        self.conv3=nn.Conv2d(16,32,3)\n",
    "        self.linear1=nn.Linear(576,D_out)\n",
    "\n",
    "    def flat_features(self,x):\n",
    "        size = x.size()[1:] \n",
    "        num_features = 1\n",
    "        for s in size:\n",
    "          num_features *= s\n",
    "        return num_features    \n",
    "        \n",
    "    def forward(self, x):\n",
    "        x=F.max_pool2d(F.relu(self.conv1(x)),2)\n",
    "        x=F.max_pool2d(F.relu(self.conv2(x)),2)\n",
    "        x=x.view(-1, self.flat_features(x))\n",
    "        y_pred=self.linear1(x)\n",
    "        return F.softmax(y_pred,dim=1)"
   ],
   "execution_count": null,
   "outputs": []
  },
  {
   "cell_type": "code",
   "metadata": {
    "id": "css-SfJFMTjZ",
    "executionInfo": {
     "status": "ok",
     "timestamp": 1601664228675,
     "user_tz": 240,
     "elapsed": 1297525,
     "user": {
      "displayName": "Vaibhav Sundharam",
      "photoUrl": "https://lh3.googleusercontent.com/a-/AOh14Ggf8pEKCJrbRi4ZfFzswWvQ_sKdbph3iOABmyAS=s64",
      "userId": "08654959544633965355"
     }
    },
    "outputId": "30306d97-dd25-4a28-e560-949e803351c9",
    "colab": {
     "base_uri": "https://localhost:8080/",
     "height": 69
    }
   },
   "source": [
    "# Training of third architecture\n",
    "model = Architecture_3(n_classes)\n",
    "optim = torch.optim.SGD(model.parameters(), lr=lr)\n",
    "modle,time_3 = Solver_NN(model,train_loader,optim,criterion,epoch=51,lr=1e-1,print_every=20)"
   ],
   "execution_count": null,
   "outputs": [
    {
     "output_type": "stream",
     "text": [
      "loss_epoch 0 1718.1336311101913\n",
      "loss_epoch 20 1439.7194821834564\n",
      "loss_epoch 40 1433.2903089523315\n"
     ],
     "name": "stdout"
    }
   ]
  },
  {
   "cell_type": "code",
   "metadata": {
    "id": "ozR--kBJMWlI",
    "executionInfo": {
     "status": "ok",
     "timestamp": 1601664237393,
     "user_tz": 240,
     "elapsed": 1306230,
     "user": {
      "displayName": "Vaibhav Sundharam",
      "photoUrl": "https://lh3.googleusercontent.com/a-/AOh14Ggf8pEKCJrbRi4ZfFzswWvQ_sKdbph3iOABmyAS=s64",
      "userId": "08654959544633965355"
     }
    },
    "outputId": "88c557e7-4bcb-4041-cef2-197617ef6abd",
    "colab": {
     "base_uri": "https://localhost:8080/",
     "height": 87
    }
   },
   "source": [
    "# Model evaluation\n",
    "with torch.no_grad():\n",
    "  model.eval()\n",
    "  train_acc_3 = get_model_acc(model, train_loader)\n",
    "  test_acc_3 = get_model_acc(model, test_loader)\n",
    "  print(f'Training accuracy: {train_acc}, Testing accuracy: {test_acc}')\n",
    "  print(\"Total time taken to execute architecture 3:\",np.floor(time_3/60),\"minutes\")"
   ],
   "execution_count": null,
   "outputs": [
    {
     "output_type": "stream",
     "text": [
      "tensor(31044, device='cuda:0')\n",
      "tensor(5878, device='cuda:0')\n",
      "Training accuracy: 80.8219985961914, Testing accuracy: 70.33999633789062\n",
      "Total time taken to execute architecture 3: 6.0 minutes\n"
     ],
     "name": "stdout"
    }
   ]
  },
  {
   "cell_type": "markdown",
   "metadata": {
    "id": "brUTjgG1MXsf"
   },
   "source": [
    "####2.2.2 Architecture 4"
   ]
  },
  {
   "cell_type": "code",
   "metadata": {
    "id": "71Rm8HBBr7We"
   },
   "source": [
    "# Architecture 4: 4 convolution layer 1 fully connected layer\n",
    "\n",
    "class Architecture_4(nn.Module):    \n",
    "    def __init__(self,D_out):\n",
    "        super(Architecture_4, self).__init__()\n",
    "\n",
    "        self.conv1=nn.Conv2d(3,6,3)\n",
    "        self.conv2=nn.Conv2d(6,16,3)\n",
    "        self.conv3=nn.Conv2d(16,32,3)\n",
    "        self.conv4=nn.Conv2d(32,64,3)\n",
    "        self.linear1=nn.Linear(256,D_out)        \n",
    "\n",
    "    def flat_features(self,x):\n",
    "        size = x.size()[1:] \n",
    "        num_features = 1\n",
    "        for s in size:\n",
    "          num_features *= s\n",
    "        return num_features    \n",
    "        \n",
    "    def forward(self, x):\n",
    "        x=F.relu(self.conv1(x))\n",
    "        x=F.max_pool2d(F.relu(self.conv2(x)),2)\n",
    "        x=F.relu(self.conv3(x))\n",
    "        x=F.max_pool2d(F.relu(self.conv4(x)),5)        \n",
    "        x=x.view(-1, self.flat_features(x))\n",
    "        y_pred=self.linear1(x)\n",
    "        return F.softmax(y_pred,dim=1)"
   ],
   "execution_count": null,
   "outputs": []
  },
  {
   "cell_type": "code",
   "metadata": {
    "id": "ZKTd9JqJMmmX",
    "executionInfo": {
     "status": "ok",
     "timestamp": 1601664623580,
     "user_tz": 240,
     "elapsed": 1692400,
     "user": {
      "displayName": "Vaibhav Sundharam",
      "photoUrl": "https://lh3.googleusercontent.com/a-/AOh14Ggf8pEKCJrbRi4ZfFzswWvQ_sKdbph3iOABmyAS=s64",
      "userId": "08654959544633965355"
     }
    },
    "outputId": "cc2fb522-6901-4ccb-a8c9-2ca30284891b",
    "colab": {
     "base_uri": "https://localhost:8080/",
     "height": 69
    }
   },
   "source": [
    "# Training of forth architecture\n",
    "model = Architecture_4(n_classes)\n",
    "optim = torch.optim.SGD(model.parameters(), lr=lr)\n",
    "modle,time_4=Solver_NN(model,train_loader,optim,criterion,epoch=51,lr=1e-1,print_every=20)"
   ],
   "execution_count": null,
   "outputs": [
    {
     "output_type": "stream",
     "text": [
      "loss_epoch 0 1774.9383907318115\n",
      "loss_epoch 20 1464.6752924919128\n",
      "loss_epoch 40 1846.4793665409088\n"
     ],
     "name": "stdout"
    }
   ]
  },
  {
   "cell_type": "code",
   "metadata": {
    "id": "4jcCqmndMrE_",
    "executionInfo": {
     "status": "ok",
     "timestamp": 1601664632474,
     "user_tz": 240,
     "elapsed": 1701285,
     "user": {
      "displayName": "Vaibhav Sundharam",
      "photoUrl": "https://lh3.googleusercontent.com/a-/AOh14Ggf8pEKCJrbRi4ZfFzswWvQ_sKdbph3iOABmyAS=s64",
      "userId": "08654959544633965355"
     }
    },
    "outputId": "69235b29-8381-446d-8ccf-9484c5726c93",
    "colab": {
     "base_uri": "https://localhost:8080/",
     "height": 87
    }
   },
   "source": [
    "# Model evaluation\n",
    "with torch.no_grad():\n",
    "  model.eval()\n",
    "  train_acc_4 = get_model_acc(model, train_loader)\n",
    "  test_acc_4 = get_model_acc(model, test_loader)\n",
    "  print(f'Training accuracy: {train_acc}, Testing accuracy: {test_acc}')\n",
    "print(\"Total time taken to execute architecture 3:\",np.floor(time_4/60),\"minutes\")"
   ],
   "execution_count": null,
   "outputs": [
    {
     "output_type": "stream",
     "text": [
      "tensor(4998, device='cuda:0')\n",
      "tensor(1000, device='cuda:0')\n",
      "Training accuracy: 80.8219985961914, Testing accuracy: 70.33999633789062\n",
      "Total time taken to execute architecture 3: 6.0 minutes\n"
     ],
     "name": "stdout"
    }
   ]
  },
  {
   "cell_type": "code",
   "metadata": {
    "id": "STcSe2Jki7SC",
    "executionInfo": {
     "status": "ok",
     "timestamp": 1601664632476,
     "user_tz": 240,
     "elapsed": 1701277,
     "user": {
      "displayName": "Vaibhav Sundharam",
      "photoUrl": "https://lh3.googleusercontent.com/a-/AOh14Ggf8pEKCJrbRi4ZfFzswWvQ_sKdbph3iOABmyAS=s64",
      "userId": "08654959544633965355"
     }
    },
    "outputId": "5ba23b1c-c546-408e-dfa6-991e5de6dc09",
    "colab": {
     "base_uri": "https://localhost:8080/",
     "height": 107
    }
   },
   "source": [
    "# plotting accuracy \n",
    "conv_layer=[1,2,3,4]\n",
    "time_list=[time_1/60,time_2/60,time_3/60,time_4/60]\n",
    "train_accuracy=[train_acc_1,train_acc_2,train_acc_3,train_acc_4]\n",
    "test_accuracy=[test_acc_1,test_acc_2,test_acc_3,test_acc_4]\n",
    "\n",
    "print(\"convolution layers:\",conv_layer)\n",
    "print(\"time taken:\",time_list)\n",
    "print(\"train accuracy: \",train_accuracy)\n",
    "print(\"test accuracy: \",test_accuracy)"
   ],
   "execution_count": null,
   "outputs": [
    {
     "output_type": "stream",
     "text": [
      "convolution layers: [1, 2, 3, 4]\n",
      "time taken: [5.949123938878377, 6.2328135887781775, 6.249791657924652, 6.443557314078013]\n",
      "train accuracy:  [tensor(59.9280, device='cuda:0'), tensor(65.3320, device='cuda:0'), tensor(62.0880, device='cuda:0'), tensor(9.9960, device='cuda:0')]\n",
      "test accuracy:  [tensor(53.3700, device='cuda:0'), tensor(59.4800, device='cuda:0'), tensor(58.7800, device='cuda:0'), tensor(10.0000, device='cuda:0')]\n"
     ],
     "name": "stdout"
    }
   ]
  },
  {
   "cell_type": "code",
   "metadata": {
    "id": "aPij__cC3Niw",
    "executionInfo": {
     "status": "ok",
     "timestamp": 1601664632478,
     "user_tz": 240,
     "elapsed": 1701270,
     "user": {
      "displayName": "Vaibhav Sundharam",
      "photoUrl": "https://lh3.googleusercontent.com/a-/AOh14Ggf8pEKCJrbRi4ZfFzswWvQ_sKdbph3iOABmyAS=s64",
      "userId": "08654959544633965355"
     }
    },
    "outputId": "d0fae33e-a493-4ba2-f107-4b486fa23b04",
    "colab": {
     "base_uri": "https://localhost:8080/",
     "height": 297
    }
   },
   "source": [
    "plt.plot(conv_layer,train_accuracy,'ro')\n",
    "plt.ylabel('Training Accuracies')\n",
    "plt.xlabel('Number of Convolution Layers')"
   ],
   "execution_count": null,
   "outputs": [
    {
     "output_type": "execute_result",
     "data": {
      "text/plain": [
       "Text(0.5, 0, 'Number of Convolution Layers')"
      ]
     },
     "metadata": {
      "tags": []
     },
     "execution_count": 44
    },
    {
     "output_type": "display_data",
     "data": {
      "image/png": "[encoded data removed]",
      "text/plain": [
       "<Figure size 432x288 with 1 Axes>"
      ]
     },
     "metadata": {
      "tags": [],
      "needs_background": "light"
     }
    }
   ]
  },
  {
   "cell_type": "code",
   "metadata": {
    "id": "JpR5SwCc2kcN",
    "executionInfo": {
     "status": "ok",
     "timestamp": 1601664632793,
     "user_tz": 240,
     "elapsed": 1701576,
     "user": {
      "displayName": "Vaibhav Sundharam",
      "photoUrl": "https://lh3.googleusercontent.com/a-/AOh14Ggf8pEKCJrbRi4ZfFzswWvQ_sKdbph3iOABmyAS=s64",
      "userId": "08654959544633965355"
     }
    },
    "outputId": "9932631a-c4e1-488c-b49e-23a9d179f103",
    "colab": {
     "base_uri": "https://localhost:8080/",
     "height": 297
    }
   },
   "source": [
    "plt.plot(conv_layer,test_accuracy,'ro')\n",
    "plt.ylabel('Testing Accuracies')\n",
    "plt.xlabel('Number of Convolution Layers')"
   ],
   "execution_count": null,
   "outputs": [
    {
     "output_type": "execute_result",
     "data": {
      "text/plain": [
       "Text(0.5, 0, 'Number of Convolution Layers')"
      ]
     },
     "metadata": {
      "tags": []
     },
     "execution_count": 45
    },
    {
     "output_type": "display_data",
     "data": {
      "image/png": "[encoded data removed]",
      "text/plain": [
       "<Figure size 432x288 with 1 Axes>"
      ]
     },
     "metadata": {
      "tags": [],
      "needs_background": "light"
     }
    }
   ]
  },
  {
   "cell_type": "code",
   "metadata": {
    "id": "yRF4c2eT3VfS",
    "executionInfo": {
     "status": "ok",
     "timestamp": 1601664632795,
     "user_tz": 240,
     "elapsed": 1701569,
     "user": {
      "displayName": "Vaibhav Sundharam",
      "photoUrl": "https://lh3.googleusercontent.com/a-/AOh14Ggf8pEKCJrbRi4ZfFzswWvQ_sKdbph3iOABmyAS=s64",
      "userId": "08654959544633965355"
     }
    },
    "outputId": "885acd56-becf-4653-ce73-5a2d9ab6a163",
    "colab": {
     "base_uri": "https://localhost:8080/",
     "height": 297
    }
   },
   "source": [
    "plt.plot(conv_layer,time_list,'ro')\n",
    "plt.ylabel('Time Taken')\n",
    "plt.xlabel('Number of Convolution Layers')"
   ],
   "execution_count": null,
   "outputs": [
    {
     "output_type": "execute_result",
     "data": {
      "text/plain": [
       "Text(0.5, 0, 'Number of Convolution Layers')"
      ]
     },
     "metadata": {
      "tags": []
     },
     "execution_count": 46
    },
    {
     "output_type": "display_data",
     "data": {
      "image/png": "[encoded data removed]",
      "text/plain": [
       "<Figure size 432x288 with 1 Axes>"
      ]
     },
     "metadata": {
      "tags": [],
      "needs_background": "light"
     }
    }
   ]
  },
  {
   "cell_type": "markdown",
   "metadata": {
    "id": "ZlWB5nC0hNLY"
   },
   "source": [
    "### 2.2.3 Optimizer? Optimizer!\n",
    "So far, we only use SGD as our optimizer. Now, pick two other optimizers, train your favorite CNN models, and compare the performance you get. What did you see?"
   ]
  },
  {
   "cell_type": "markdown",
   "metadata": {
    "id": "8-tbeDD-sQAG"
   },
   "source": [
    "####ASGD"
   ]
  },
  {
   "cell_type": "code",
   "metadata": {
    "id": "f6BoDvyuhNLY",
    "executionInfo": {
     "status": "ok",
     "timestamp": 1601664739174,
     "user_tz": 240,
     "elapsed": 1807939,
     "user": {
      "displayName": "Vaibhav Sundharam",
      "photoUrl": "https://lh3.googleusercontent.com/a-/AOh14Ggf8pEKCJrbRi4ZfFzswWvQ_sKdbph3iOABmyAS=s64",
      "userId": "08654959544633965355"
     }
    },
    "outputId": "160c140a-3a7f-46dc-e4d1-3d7de4b800df",
    "colab": {
     "base_uri": "https://localhost:8080/",
     "height": 347
    }
   },
   "source": [
    "################################################################################\n",
    "# TODO:                                                                        #\n",
    "# Your training code here.                                                     #\n",
    "################################################################################\n",
    "epoch = 15\n",
    "lr = 1e-1\n",
    "n_input_channels = 3\n",
    "out_classes = 10\n",
    "batch_size = 64\n",
    "num_workers = num_workers\n",
    "\n",
    "train_loader = torch.utils.data.DataLoader(trainset, batch_size=batch_size, shuffle=True, num_workers=8)\n",
    "test_loader = torch.utils.data.DataLoader(testset, batch_size=100, shuffle=False, num_workers=8)\n",
    "\n",
    "model = CNNClassifier(inp_channels=n_input_channels, out_classes=out_classes)\n",
    "model = model.to(device)\n",
    "optim = torch.optim.ASGD(model.parameters(), lr=lr)\n",
    "criterion = nn.CrossEntropyLoss()\n",
    "\n",
    "start_time = time.time()\n",
    "for e in range(epoch):  \n",
    "  model.train()\n",
    "  loss_per_epoch = 0\n",
    "  for x, y in train_loader:\n",
    "    x = x.to(device)\n",
    "    y = y.to(device)\n",
    "    optim.zero_grad()\n",
    "    #forward pass\n",
    "    y_pred = model(x)\n",
    "    loss = criterion(y_pred, y)\n",
    "    #backward pass\n",
    "    loss.backward()\n",
    "    optim.step()\n",
    "    loss_per_epoch += loss.item()  \n",
    "  print(f'Epcoh {e+1}: {loss_per_epoch}')\n",
    "end_time = time.time()\n",
    "total_time = end_time - start_time\n",
    "print(f\"Time taken to execute the training loop is {np.floor(total_time)} seconds\")\n",
    "with torch.no_grad():\n",
    "  model.eval()\n",
    "  train_acc = get_model_acc(model, train_loader)\n",
    "  test_acc = get_model_acc(model, test_loader)\n",
    "  print(f'Training accuracy: {train_acc}, Testing accuracy: {test_acc}')  \n",
    "################################################################################\n",
    "#                                 END OF YOUR CODE                             #\n",
    "################################################################################"
   ],
   "execution_count": null,
   "outputs": [
    {
     "output_type": "stream",
     "text": [
      "Epcoh 1: 1789.9744527339935\n",
      "Epcoh 2: 877.6084138154984\n",
      "Epcoh 3: 757.0503795742989\n",
      "Epcoh 4: 676.338152885437\n",
      "Epcoh 5: 616.4140462577343\n",
      "Epcoh 6: 567.689550101757\n",
      "Epcoh 7: 528.1395924985409\n",
      "Epcoh 8: 490.6578414440155\n",
      "Epcoh 9: 460.8674835264683\n",
      "Epcoh 10: 425.8060773015022\n",
      "Epcoh 11: 399.98363034427166\n",
      "Epcoh 12: 371.06649796664715\n",
      "Epcoh 13: 344.0134539604187\n",
      "Epcoh 14: 317.48354287445545\n",
      "Epcoh 15: 292.21043133735657\n",
      "Time taken to execute the training loop is 99.0 seconds\n",
      "tensor(41794, device='cuda:0')\n",
      "tensor(6995, device='cuda:0')\n",
      "Training accuracy: 83.58799743652344, Testing accuracy: 69.94999694824219\n"
     ],
     "name": "stdout"
    }
   ]
  },
  {
   "cell_type": "markdown",
   "metadata": {
    "id": "Wj9iB0t4txkf"
   },
   "source": [
    "#### ADAM"
   ]
  },
  {
   "cell_type": "code",
   "metadata": {
    "id": "ItYKjsY9tzKG",
    "executionInfo": {
     "status": "ok",
     "timestamp": 1601664846917,
     "user_tz": 240,
     "elapsed": 1915673,
     "user": {
      "displayName": "Vaibhav Sundharam",
      "photoUrl": "https://lh3.googleusercontent.com/a-/AOh14Ggf8pEKCJrbRi4ZfFzswWvQ_sKdbph3iOABmyAS=s64",
      "userId": "08654959544633965355"
     }
    },
    "outputId": "2f608833-1366-4449-b739-b37270f048f0",
    "colab": {
     "base_uri": "https://localhost:8080/",
     "height": 347
    }
   },
   "source": [
    "################################################################################\n",
    "# TODO:                                                                        #\n",
    "# Your training code here.                                                     #\n",
    "################################################################################\n",
    "epoch = 15\n",
    "lr = 1e-1\n",
    "n_input_channels = 3\n",
    "out_classes = 10\n",
    "batch_size = 64\n",
    "num_workers = num_workers\n",
    "\n",
    "train_loader = torch.utils.data.DataLoader(trainset, batch_size=batch_size, shuffle=True, num_workers=8)\n",
    "test_loader = torch.utils.data.DataLoader(testset, batch_size=100, shuffle=False, num_workers=8)\n",
    "\n",
    "model = CNNClassifier(inp_channels=n_input_channels, out_classes=out_classes)\n",
    "model = model.to(device)\n",
    "optim = torch.optim.Adam(model.parameters(), lr=lr)\n",
    "criterion = nn.CrossEntropyLoss()\n",
    "\n",
    "start_time = time.time()\n",
    "for e in range(epoch):  \n",
    "  model.train()\n",
    "  loss_per_epoch = 0\n",
    "  for x, y in train_loader:\n",
    "    x = x.to(device)\n",
    "    y = y.to(device)\n",
    "    optim.zero_grad()\n",
    "    #forward pass\n",
    "    y_pred = model(x)\n",
    "    loss = criterion(y_pred, y)\n",
    "    #backward pass\n",
    "    loss.backward()\n",
    "    optim.step()\n",
    "    loss_per_epoch += loss.item()  \n",
    "  print(f'Epcoh {e+1}: {loss_per_epoch}')\n",
    "end_time = time.time()\n",
    "total_time = end_time - start_time\n",
    "print(f\"Time taken to execute the training loop is {np.floor(total_time)} seconds\")  \n",
    "with torch.no_grad():\n",
    "  model.eval()\n",
    "  train_acc = get_model_acc(model, train_loader)\n",
    "  test_acc = get_model_acc(model, test_loader)\n",
    "  print(f'Training accuracy: {train_acc}, Testing accuracy: {test_acc}')\n",
    "################################################################################\n",
    "#                                 END OF YOUR CODE                             #\n",
    "################################################################################"
   ],
   "execution_count": null,
   "outputs": [
    {
     "output_type": "stream",
     "text": [
      "Epcoh 1: 5464.410979986191\n",
      "Epcoh 2: 1806.8083250522614\n",
      "Epcoh 3: 1807.565086364746\n",
      "Epcoh 4: 1807.3427579402924\n",
      "Epcoh 5: 1808.016051530838\n",
      "Epcoh 6: 1806.9712190628052\n",
      "Epcoh 7: 1807.853481054306\n",
      "Epcoh 8: 1807.576355457306\n",
      "Epcoh 9: 1807.5924625396729\n",
      "Epcoh 10: 1807.9151401519775\n",
      "Epcoh 11: 1812.5880377292633\n",
      "Epcoh 12: 1806.6752436161041\n",
      "Epcoh 13: 1808.2384593486786\n",
      "Epcoh 14: 1808.150095462799\n",
      "Epcoh 15: 1808.0302906036377\n",
      "Time taken to execute the training loop is 101.0 seconds\n",
      "tensor(5000, device='cuda:0')\n",
      "tensor(1000, device='cuda:0')\n",
      "Training accuracy: 9.999999046325684, Testing accuracy: 9.999999046325684\n"
     ],
     "name": "stdout"
    }
   ]
  },
  {
   "cell_type": "markdown",
   "metadata": {
    "id": "JfFEgKlihNLa"
   },
   "source": [
    "### 2.2.4 Improve Your Model\n",
    "Again, we want you to play with your model a bit harder, and improve it. You are free to use everything you can find in the documents (`BatchNorm`, `SeLU`, etc), as long as it is not a **predefined network architectures in PyTorch package**. You can also implement some famous network architectures to push the performance. \n",
    "\n",
    "(A simple network with 5-6 `nn.Conv2d` can give you at least 70% accuracy on testing set)."
   ]
  },
  {
   "cell_type": "code",
   "metadata": {
    "id": "-8FcXCmihNLa"
   },
   "source": [
    "class ImprovedCNNClassifier(nn.Module):\n",
    "    \n",
    "    def __init__(self, inp_channels, out_classes):\n",
    "        super(ImprovedCNNClassifier, self).__init__()\n",
    "        ################################################################################\n",
    " \n",
    "        ################################################################################\n",
    "        self.inp_channels = inp_channels\n",
    "        self.out_classes = out_classes\n",
    "\n",
    "        self.cnn= nn.Sequential(    \n",
    "                  nn.Conv2d(self.inp_channels, 64, kernel_size=3,  padding=1),\n",
    "                  nn.BatchNorm2d(num_features=64),\n",
    "                  nn.ReLU(),      \n",
    "                  nn.MaxPool2d(kernel_size=(2,2), stride=(2,2)),               \n",
    "\n",
    "                  nn.Conv2d(64,128,kernel_size=3,padding=1),\n",
    "                  nn.BatchNorm2d(num_features=128),\n",
    "                  nn.ReLU(),            \n",
    "                  nn.MaxPool2d(kernel_size=(2,2),stride=(2,2)),\n",
    "\n",
    "                  nn.Conv2d(128, 256, kernel_size=3, padding=1),\n",
    "                  nn.BatchNorm2d(num_features=256),\n",
    "                  nn.ReLU(),\n",
    "                  nn.MaxPool2d(kernel_size=(2,2),stride=(2,2)),            \n",
    "\n",
    "                  nn.Conv2d(256,512,kernel_size=3,padding=1),\n",
    "                  nn.BatchNorm2d(num_features=512),\n",
    "                  nn.ReLU(),\n",
    "                  nn.MaxPool2d(kernel_size=(2,2),stride=(2,2))                               \n",
    "                    )\n",
    "        \n",
    "        self.fc = nn.Sequential(\n",
    "                  nn.Linear(512*2*2, self.out_classes)\n",
    "                                )\n",
    "            \n",
    "        ################################################################################\n",
    "        #                                 END OF YOUR CODE                             #\n",
    "        ################################################################################        \n",
    "        \n",
    "    def forward(self, x):\n",
    "        ################################################################################\n",
    "        \n",
    "        ################################################################################\n",
    "        batch_size = x.size(0)\n",
    "        return self.fc(self.cnn(x).view(batch_size, -1))\n",
    "        ################################################################################\n",
    "        #                                 END OF YOUR CODE                             #\n",
    "        ################################################################################"
   ],
   "execution_count": null,
   "outputs": []
  },
  {
   "cell_type": "code",
   "metadata": {
    "id": "P42drSz-A12p",
    "executionInfo": {
     "status": "ok",
     "timestamp": 1601664955428,
     "user_tz": 240,
     "elapsed": 2024170,
     "user": {
      "displayName": "Vaibhav Sundharam",
      "photoUrl": "https://lh3.googleusercontent.com/a-/AOh14Ggf8pEKCJrbRi4ZfFzswWvQ_sKdbph3iOABmyAS=s64",
      "userId": "08654959544633965355"
     }
    },
    "outputId": "19153c1a-4f3d-47d6-b4cf-79e01b61809a",
    "colab": {
     "base_uri": "https://localhost:8080/",
     "height": 277
    }
   },
   "source": [
    "# You can tune these hyperparameters as you like.\n",
    "epoch = 15\n",
    "lr = 1e-1\n",
    "n_input_channels = 3\n",
    "out_classes = 10\n",
    "batch_size = 64\n",
    "num_workers = num_workers\n",
    "\n",
    "train_loader = torch.utils.data.DataLoader(trainset, batch_size=batch_size, shuffle=True, num_workers=8)\n",
    "test_loader = torch.utils.data.DataLoader(testset, batch_size=100, shuffle=False, num_workers=8)\n",
    "\n",
    "################################################################################\n",
    "# TODO:                                                                        #\n",
    "# Your training code here.                                                     #\n",
    "################################################################################\n",
    "model = ImprovedCNNClassifier(inp_channels=n_input_channels, out_classes=out_classes)\n",
    "model = model.to(device)\n",
    "optim = torch.optim.ASGD(model.parameters(), lr=lr)\n",
    "criterion = nn.CrossEntropyLoss()\n",
    "for e in range(epoch):  \n",
    "  loss_per_epoch = 0\n",
    "  for x, y in train_loader:\n",
    "    x = x.to(device)\n",
    "    y = y.to(device)\n",
    "    optim.zero_grad()\n",
    "    #forward pass\n",
    "    y_pred = model(x)\n",
    "    loss = criterion(y_pred, y)\n",
    "    #backward pass\n",
    "    loss.backward()\n",
    "    optim.step()\n",
    "    loss_per_epoch += loss.item()\n",
    "  print(f'Epcoh {e}: {loss_per_epoch}')\n",
    "################################################################################\n",
    "#                                 END OF YOUR CODE                             #\n",
    "################################################################################"
   ],
   "execution_count": null,
   "outputs": [
    {
     "output_type": "stream",
     "text": [
      "Epcoh 0: 1641.8123282790184\n",
      "Epcoh 1: 845.3395230174065\n",
      "Epcoh 2: 651.4943274855614\n",
      "Epcoh 3: 533.4737193584442\n",
      "Epcoh 4: 447.5976009964943\n",
      "Epcoh 5: 371.1997924298048\n",
      "Epcoh 6: 300.29603050649166\n",
      "Epcoh 7: 228.73108843714\n",
      "Epcoh 8: 163.40552857518196\n",
      "Epcoh 9: 109.26212782040238\n",
      "Epcoh 10: 58.95695037022233\n",
      "Epcoh 11: 30.62287332280539\n",
      "Epcoh 12: 10.39679919788614\n",
      "Epcoh 13: 4.7324338116450235\n",
      "Epcoh 14: 3.0281314443564042\n"
     ],
     "name": "stdout"
    }
   ]
  },
  {
   "cell_type": "code",
   "metadata": {
    "id": "nI49R-p2BnL3",
    "executionInfo": {
     "status": "ok",
     "timestamp": 1601664962352,
     "user_tz": 240,
     "elapsed": 2031086,
     "user": {
      "displayName": "Vaibhav Sundharam",
      "photoUrl": "https://lh3.googleusercontent.com/a-/AOh14Ggf8pEKCJrbRi4ZfFzswWvQ_sKdbph3iOABmyAS=s64",
      "userId": "08654959544633965355"
     }
    },
    "outputId": "54601296-d79d-49b8-cd69-5d573c7934ed",
    "colab": {
     "base_uri": "https://localhost:8080/",
     "height": 69
    },
    "pycharm": {
     "name": "#%%\n"
    }
   },
   "source": [
    "with torch.no_grad():\n",
    "  model.eval()\n",
    "  train_acc = get_model_acc(model, train_loader)\n",
    "  test_acc = get_model_acc(model, test_loader)\n",
    "  print(f'Training accuracy: {train_acc}, Testing accuracy: {test_acc}')"
   ],
   "execution_count": null,
   "outputs": [
    {
     "output_type": "stream",
     "text": [
      "tensor(50000, device='cuda:0')\n",
      "tensor(8283, device='cuda:0')\n",
      "Training accuracy: 100.0, Testing accuracy: 82.83000183105469\n"
     ],
     "name": "stdout"
    }
   ]
  }
 ]
}