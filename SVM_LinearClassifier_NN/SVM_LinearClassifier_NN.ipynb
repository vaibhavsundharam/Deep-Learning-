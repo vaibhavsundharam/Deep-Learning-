{
 "nbformat": 4,
 "nbformat_minor": 0,
 "metadata": {
  "kernelspec": {
   "display_name": "Python 3",
   "language": "python",
   "name": "python3"
  },
  "language_info": {
   "codemirror_mode": {
    "name": "ipython",
    "version": 3
   },
   "file_extension": ".py",
   "mimetype": "text/x-python",
   "name": "python",
   "nbconvert_exporter": "python",
   "pygments_lexer": "ipython3",
   "version": "3.7.6"
  },
  "colab": {
   "name": "Assignment_1.ipynb",
   "provenance": [],
   "collapsed_sections": [
    "G7vN9PE-ZFvg",
    "GTRCBnN_kHT9",
    "aceZWtbjkHUt"
   ],
   "toc_visible": true,
   "machine_shape": "hm"
  },
  "accelerator": "GPU"
 },
 "cells": [
  {
   "cell_type": "markdown",
   "metadata": {
    "id": "w8JaM8B4kHTz"
   },
   "source": [
    "1. SVM Classifier\n",
    "    - Calculating loss and gradient\n",
    "2. Linear Classfier with Softmax \n",
    "    - Calculating loss and gradient\n",
    "3. Simple Neural Network with Multilayer Perceptrons\n",
    "    - Read the forward and backward propogation\n",
    "    - Experiment with simple NN\n",
    "\n",
    "This is inspired and adopted from Stanford CS231n, UIUC Deep Learning course and Deep Learning Lab from Professor Vicente Ordonez at the University of Virginia.\n",
    "\n",
    "\n",
    "\n",
    "\n",
    "\n",
    "\n",
    "\n"
   ]
  },
  {
   "cell_type": "markdown",
   "metadata": {
    "id": "azorfmJ2kHT3"
   },
   "source": [
    "You would need to use **Python 3.6+** along with the following packages:\n",
    "```\n",
    "1. numupy\n",
    "2. matplotlib\n",
    "3. scipy\n",
    "```\n",
    "All packages above can be installed through `pip install`.\n",
    "\n",
    "In addition, you will need to have [CIFAR10](https://www.cs.toronto.edu/~kriz/cifar.html) dataset in your `cifar10/cifar-10-batches-py` folder. We provide a bash script `cifar10/get_dataset.sh` to help you download and unpack the dataset.\n",
    "\n",
    "Once you are done with the things above, you can proceed to execute the following cells:\n"
   ]
  },
  {
   "cell_type": "markdown",
   "metadata": {
    "id": "G7vN9PE-ZFvg"
   },
   "source": [
    "# Section 0. Environment Set Up"
   ]
  },
  {
   "cell_type": "code",
   "metadata": {
    "id": "rxWAks53ole3",
    "executionInfo": {
     "status": "ok",
     "timestamp": 1600383908222,
     "user_tz": 240,
     "elapsed": 779,
     "user": {
      "displayName": "Vaibhav Sundharam",
      "photoUrl": "https://lh3.googleusercontent.com/a-/AOh14Ggf8pEKCJrbRi4ZfFzswWvQ_sKdbph3iOABmyAS=s64",
      "userId": "08654959544633965355"
     }
    },
    "outputId": "31dafeb7-8869-40da-be73-bace2b58d3a1",
    "colab": {
     "base_uri": "https://localhost:8080/"
    }
   },
   "source": [
    "# print base directory\n",
    "!pwd"
   ],
   "execution_count": null,
   "outputs": [
    {
     "output_type": "stream",
     "text": [
      "/content\n"
     ],
     "name": "stdout"
    }
   ]
  },
  {
   "cell_type": "code",
   "metadata": {
    "id": "KX5TVjbzK1fE"
   },
   "source": [
    "import torch"
   ],
   "execution_count": null,
   "outputs": []
  },
  {
   "cell_type": "code",
   "metadata": {
    "id": "bsIWiuWsK2Wq",
    "executionInfo": {
     "status": "ok",
     "timestamp": 1600383912002,
     "user_tz": 240,
     "elapsed": 4542,
     "user": {
      "displayName": "Vaibhav Sundharam",
      "photoUrl": "https://lh3.googleusercontent.com/a-/AOh14Ggf8pEKCJrbRi4ZfFzswWvQ_sKdbph3iOABmyAS=s64",
      "userId": "08654959544633965355"
     }
    },
    "outputId": "3a09be73-786b-4f36-cf0f-2a1953ca2a36",
    "colab": {
     "base_uri": "https://localhost:8080/"
    }
   },
   "source": [
    "# Check whether GPU is available\n",
    "torch.cuda.is_available()"
   ],
   "execution_count": null,
   "outputs": [
    {
     "output_type": "execute_result",
     "data": {
      "text/plain": [
       "True"
      ]
     },
     "metadata": {
      "tags": []
     },
     "execution_count": 4
    }
   ]
  },
  {
   "cell_type": "code",
   "metadata": {
    "id": "wFrlouUCK4K9",
    "executionInfo": {
     "status": "ok",
     "timestamp": 1600383912003,
     "user_tz": 240,
     "elapsed": 4536,
     "user": {
      "displayName": "Vaibhav Sundharam",
      "photoUrl": "https://lh3.googleusercontent.com/a-/AOh14Ggf8pEKCJrbRi4ZfFzswWvQ_sKdbph3iOABmyAS=s64",
      "userId": "08654959544633965355"
     }
    },
    "outputId": "b49691aa-86f8-47f3-e126-97749a11ef4f",
    "colab": {
     "base_uri": "https://localhost:8080/"
    }
   },
   "source": [
    "# Check the name of the GPU\n",
    "torch.cuda.get_device_name()"
   ],
   "execution_count": null,
   "outputs": [
    {
     "output_type": "execute_result",
     "data": {
      "application/vnd.google.colaboratory.intrinsic+json": {
       "type": "string"
      },
      "text/plain": [
       "'Tesla V100-SXM2-16GB'"
      ]
     },
     "metadata": {
      "tags": []
     },
     "execution_count": 5
    }
   ]
  },
  {
   "cell_type": "code",
   "metadata": {
    "id": "FzO_nj7_K6Gf",
    "executionInfo": {
     "status": "ok",
     "timestamp": 1600383912009,
     "user_tz": 240,
     "elapsed": 4531,
     "user": {
      "displayName": "Vaibhav Sundharam",
      "photoUrl": "https://lh3.googleusercontent.com/a-/AOh14Ggf8pEKCJrbRi4ZfFzswWvQ_sKdbph3iOABmyAS=s64",
      "userId": "08654959544633965355"
     }
    },
    "outputId": "aa91439f-504b-40ed-a0ed-46d764133e06",
    "colab": {
     "base_uri": "https://localhost:8080/"
    }
   },
   "source": [
    "# Check GPU id\n",
    "torch.cuda.current_device()"
   ],
   "execution_count": null,
   "outputs": [
    {
     "output_type": "execute_result",
     "data": {
      "text/plain": [
       "0"
      ]
     },
     "metadata": {
      "tags": []
     },
     "execution_count": 6
    }
   ]
  },
  {
   "cell_type": "code",
   "metadata": {
    "id": "8IW94TYaK7_u"
   },
   "source": [
    "# Set device on GPU if available, else CPU\n",
    "device = torch.device('cuda' if torch.cuda.is_available() else 'cpu')"
   ],
   "execution_count": null,
   "outputs": []
  },
  {
   "cell_type": "code",
   "metadata": {
    "id": "iOtDHVPmkHT4"
   },
   "source": [
    "import random\n",
    "import numpy as np\n",
    "from data_process import get_CIFAR10_data\n",
    "import math\n",
    "import matplotlib.pyplot as plt\n",
    "%load_ext autoreload\n",
    "%autoreload 2\n",
    "%matplotlib inline"
   ],
   "execution_count": null,
   "outputs": []
  },
  {
   "cell_type": "code",
   "metadata": {
    "id": "nU3p5AEEnJuN",
    "executionInfo": {
     "status": "ok",
     "timestamp": 1600383912015,
     "user_tz": 240,
     "elapsed": 4522,
     "user": {
      "displayName": "Vaibhav Sundharam",
      "photoUrl": "https://lh3.googleusercontent.com/a-/AOh14Ggf8pEKCJrbRi4ZfFzswWvQ_sKdbph3iOABmyAS=s64",
      "userId": "08654959544633965355"
     }
    },
    "outputId": "2e54fbf6-2e10-4bd4-ace8-1f0899bf8980",
    "colab": {
     "base_uri": "https://localhost:8080/"
    }
   },
   "source": [
    "#changing directory to cifar10\n",
    "%cd cifar10"
   ],
   "execution_count": null,
   "outputs": [
    {
     "output_type": "stream",
     "text": [
      "/content/cifar10\n"
     ],
     "name": "stdout"
    }
   ]
  },
  {
   "cell_type": "code",
   "metadata": {
    "id": "LJK9DaabncHJ",
    "executionInfo": {
     "status": "ok",
     "timestamp": 1600383923261,
     "user_tz": 240,
     "elapsed": 15760,
     "user": {
      "displayName": "Vaibhav Sundharam",
      "photoUrl": "https://lh3.googleusercontent.com/a-/AOh14Ggf8pEKCJrbRi4ZfFzswWvQ_sKdbph3iOABmyAS=s64",
      "userId": "08654959544633965355"
     }
    },
    "outputId": "378d57bf-7d79-40a6-888c-5f273cae5ea4",
    "colab": {
     "base_uri": "https://localhost:8080/"
    }
   },
   "source": [
    "!/content/cifar10/get_datasets.sh"
   ],
   "execution_count": null,
   "outputs": [
    {
     "output_type": "stream",
     "text": [
      "  % Total    % Received % Xferd  Average Speed   Time    Time     Time  Current\n",
      "                                 Dload  Upload   Total   Spent    Left  Speed\n",
      "100  162M  100  162M    0     0  21.1M      0  0:00:07  0:00:07 --:--:-- 28.9M\n",
      "cifar-10-batches-py/\n",
      "cifar-10-batches-py/data_batch_4\n",
      "cifar-10-batches-py/readme.html\n",
      "cifar-10-batches-py/test_batch\n",
      "cifar-10-batches-py/data_batch_3\n",
      "cifar-10-batches-py/batches.meta\n",
      "cifar-10-batches-py/data_batch_2\n",
      "cifar-10-batches-py/data_batch_5\n",
      "cifar-10-batches-py/data_batch_1\n"
     ],
     "name": "stdout"
    }
   ]
  },
  {
   "cell_type": "markdown",
   "metadata": {
    "id": "GTRCBnN_kHT9"
   },
   "source": [
    "# Loading CIFAR-10"
   ]
  },
  {
   "cell_type": "markdown",
   "metadata": {
    "id": "T-8hOR8pkHT9"
   },
   "source": [
    "In the following cells, we would first load the CIFAR10 dataset, and prepare them for our classifier:"
   ]
  },
  {
   "cell_type": "code",
   "metadata": {
    "id": "lcjMMj3QoYCy",
    "executionInfo": {
     "status": "ok",
     "timestamp": 1600383923262,
     "user_tz": 240,
     "elapsed": 13738,
     "user": {
      "displayName": "Vaibhav Sundharam",
      "photoUrl": "https://lh3.googleusercontent.com/a-/AOh14Ggf8pEKCJrbRi4ZfFzswWvQ_sKdbph3iOABmyAS=s64",
      "userId": "08654959544633965355"
     }
    },
    "outputId": "4046082f-8073-4245-8777-74e64218b8f8",
    "colab": {
     "base_uri": "https://localhost:8080/"
    }
   },
   "source": [
    "# reverting back to thr base directory\n",
    "%cd /content"
   ],
   "execution_count": null,
   "outputs": [
    {
     "output_type": "stream",
     "text": [
      "/content\n"
     ],
     "name": "stdout"
    }
   ]
  },
  {
   "cell_type": "code",
   "metadata": {
    "id": "Q5XJzL4DkHT-"
   },
   "source": [
    "# You can change these numbers for experimentation\n",
    "# For submission we will use the default values \n",
    "TRAIN_IMAGES = 49000\n",
    "VAL_IMAGES = 1000\n",
    "TEST_IMAGES = 1000"
   ],
   "execution_count": null,
   "outputs": []
  },
  {
   "cell_type": "code",
   "metadata": {
    "id": "V1SYZCidkHUD"
   },
   "source": [
    "data = get_CIFAR10_data(TRAIN_IMAGES, VAL_IMAGES, TEST_IMAGES, subtract_mean=False)\n",
    "X_train, y_train = data['X_train'], data['y_train']\n",
    "X_val, y_val = data['X_val'], data['y_val']\n",
    "X_test, y_test = data['X_test'], data['y_test']"
   ],
   "execution_count": null,
   "outputs": []
  },
  {
   "cell_type": "code",
   "metadata": {
    "id": "Uv_Gb5z7kHUN",
    "executionInfo": {
     "status": "ok",
     "timestamp": 1600383924807,
     "user_tz": 240,
     "elapsed": 15266,
     "user": {
      "displayName": "Vaibhav Sundharam",
      "photoUrl": "https://lh3.googleusercontent.com/a-/AOh14Ggf8pEKCJrbRi4ZfFzswWvQ_sKdbph3iOABmyAS=s64",
      "userId": "08654959544633965355"
     }
    },
    "outputId": "511b0aa4-d29e-4724-8b3b-e355c97ef025",
    "colab": {
     "base_uri": "https://localhost:8080/"
    }
   },
   "source": [
    "print(f\"X_train_shape:{X_train.shape}\")\n",
    "print(f\"y_train_shape:{y_train.shape}\")\n",
    "print(f\"X_val_shape:{X_val.shape}\")\n",
    "print(f\"y_val_shape:{y_val.shape}\")\n",
    "print(f\"X_test_shape:{X_test.shape}\")\n",
    "print(f\"y_test_shape:{y_test.shape}\")"
   ],
   "execution_count": null,
   "outputs": [
    {
     "output_type": "stream",
     "text": [
      "X_train_shape:(49000, 32, 32, 3)\n",
      "y_train_shape:(49000,)\n",
      "X_val_shape:(1000, 32, 32, 3)\n",
      "y_val_shape:(1000,)\n",
      "X_test_shape:(1000, 32, 32, 3)\n",
      "y_test_shape:(1000,)\n"
     ],
     "name": "stdout"
    }
   ]
  },
  {
   "cell_type": "markdown",
   "metadata": {
    "id": "njMVgznSkHUR"
   },
   "source": [
    "Now, we visualize the dataset to get a better idea of it."
   ]
  },
  {
   "cell_type": "code",
   "metadata": {
    "id": "9VAs0sPLkHUT",
    "executionInfo": {
     "status": "ok",
     "timestamp": 1600383926841,
     "user_tz": 240,
     "elapsed": 17291,
     "user": {
      "displayName": "Vaibhav Sundharam",
      "photoUrl": "https://lh3.googleusercontent.com/a-/AOh14Ggf8pEKCJrbRi4ZfFzswWvQ_sKdbph3iOABmyAS=s64",
      "userId": "08654959544633965355"
     }
    },
    "outputId": "d0a4d2a4-77a5-4cd5-e28d-8cbcce723181",
    "colab": {
     "base_uri": "https://localhost:8080/"
    }
   },
   "source": [
    "# Visualize some examples from the dataset.\n",
    "# We show a few examples of training images from each class.\n",
    "classes = ['plane', 'car', 'bird', 'cat', 'deer', 'dog', 'frog', 'horse', 'ship', 'truck']\n",
    "num_classes = len(classes)\n",
    "samples_per_class = 7\n",
    "for y, cls in enumerate(classes):\n",
    "    idxs = np.flatnonzero(y_train == y)\n",
    "    idxs = np.random.choice(idxs, samples_per_class, replace=False)\n",
    "    for i, idx in enumerate(idxs):\n",
    "        plt_idx = i * num_classes + y + 1\n",
    "        plt.subplot(samples_per_class, num_classes, plt_idx)\n",
    "        plt.imshow(X_train[idx].astype('uint8'))\n",
    "        plt.axis('off')\n",
    "        if i == 0:\n",
    "            plt.title(cls)\n",
    "plt.show()"
   ],
   "execution_count": null,
   "outputs": [
    {
     "output_type": "display_data",
     "data": {
      "image/png": "[encoded data removed]",
      "text/plain": [
       "<Figure size 432x288 with 70 Axes>"
      ]
     },
     "metadata": {
      "tags": [],
      "needs_background": "light"
     }
    }
   ]
  },
  {
   "cell_type": "markdown",
   "metadata": {
    "id": "-RmuzHQAkHUY"
   },
   "source": [
    "We then subtract all the images with the **mean image** of the training set. This trick is commonly used in Computer Vision community, as it arranges the features into a range that is more manageable for the models."
   ]
  },
  {
   "cell_type": "code",
   "metadata": {
    "id": "vLCzq0_ykHUZ"
   },
   "source": [
    "mean_image = np.mean(X_train, axis=0)\n",
    "X_train -= mean_image\n",
    "X_val -= mean_image\n",
    "X_test -= mean_image"
   ],
   "execution_count": null,
   "outputs": []
  },
  {
   "cell_type": "markdown",
   "metadata": {
    "id": "uj_hbXbTkHUe"
   },
   "source": [
    "Now, we convert the sets of images from dimensions of **(N, 3, 32, 32) -> (N, 3072)** where N is the number of images so that each **3x32x32** image is represented by a single vector. This allows us to feed the data into our classifiers."
   ]
  },
  {
   "cell_type": "code",
   "metadata": {
    "id": "78XJ3wXFkHUf"
   },
   "source": [
    "X_train = np.reshape(X_train, (X_train.shape[0], -1))\n",
    "X_val = np.reshape(X_val, (X_val.shape[0], -1))\n",
    "X_test = np.reshape(X_test, (X_test.shape[0], -1))"
   ],
   "execution_count": null,
   "outputs": []
  },
  {
   "cell_type": "code",
   "metadata": {
    "id": "YybRxae9kHUj",
    "executionInfo": {
     "status": "ok",
     "timestamp": 1600383927035,
     "user_tz": 240,
     "elapsed": 17466,
     "user": {
      "displayName": "Vaibhav Sundharam",
      "photoUrl": "https://lh3.googleusercontent.com/a-/AOh14Ggf8pEKCJrbRi4ZfFzswWvQ_sKdbph3iOABmyAS=s64",
      "userId": "08654959544633965355"
     }
    },
    "outputId": "e1c451ac-8be0-4e47-8de4-9162ac0168d4",
    "colab": {
     "base_uri": "https://localhost:8080/"
    }
   },
   "source": [
    "print(f\"X_train_shape:{X_train.shape}\")\n",
    "print(f\"X_val_shape:{X_val.shape}\")\n",
    "print(f\"X_test_shape:{X_test.shape}\")"
   ],
   "execution_count": null,
   "outputs": [
    {
     "output_type": "stream",
     "text": [
      "X_train_shape:(49000, 3072)\n",
      "X_val_shape:(1000, 3072)\n",
      "X_test_shape:(1000, 3072)\n"
     ],
     "name": "stdout"
    }
   ]
  },
  {
   "cell_type": "markdown",
   "metadata": {
    "id": "2pb_hFjFkHUn"
   },
   "source": [
    "Here, we concatenate all the features with ones. This trick is particularly convenient, as in this case, we only need to deal with a single weight matrix $W$ instead of both $W$ and bias $b$ in our training code."
   ]
  },
  {
   "cell_type": "code",
   "metadata": {
    "id": "o22um9n8kHUn"
   },
   "source": [
    "X_train = np.hstack([X_train, np.ones((X_train.shape[0], 1))])\n",
    "X_val = np.hstack([X_val, np.ones((X_val.shape[0], 1))])\n",
    "X_test = np.hstack([X_test, np.ones((X_test.shape[0], 1))])"
   ],
   "execution_count": null,
   "outputs": []
  },
  {
   "cell_type": "code",
   "metadata": {
    "id": "51N4H_wPkHUq",
    "executionInfo": {
     "status": "ok",
     "timestamp": 1600383927562,
     "user_tz": 240,
     "elapsed": 17976,
     "user": {
      "displayName": "Vaibhav Sundharam",
      "photoUrl": "https://lh3.googleusercontent.com/a-/AOh14Ggf8pEKCJrbRi4ZfFzswWvQ_sKdbph3iOABmyAS=s64",
      "userId": "08654959544633965355"
     }
    },
    "outputId": "7a5881c3-8014-4d9e-e06a-ae9699e3421f",
    "colab": {
     "base_uri": "https://localhost:8080/"
    }
   },
   "source": [
    "# you should get the following output:\n",
    "# (49000, 3073)\n",
    "# (1000, 3073)\n",
    "# (1000, 3073)\n",
    "print(X_train.shape)\n",
    "print(X_val.shape)\n",
    "print(X_test.shape)"
   ],
   "execution_count": null,
   "outputs": [
    {
     "output_type": "stream",
     "text": [
      "(49000, 3073)\n",
      "(1000, 3073)\n",
      "(1000, 3073)\n"
     ],
     "name": "stdout"
    }
   ]
  },
  {
   "cell_type": "markdown",
   "metadata": {
    "id": "aceZWtbjkHUt"
   },
   "source": [
    "### Calculate Classification Accuracy"
   ]
  },
  {
   "cell_type": "markdown",
   "metadata": {
    "id": "xhq80xBvkHUu"
   },
   "source": [
    "Here is a simple helper function for calculation the classification accuracy:"
   ]
  },
  {
   "cell_type": "code",
   "metadata": {
    "id": "MeFH9g6CkHUv"
   },
   "source": [
    "def get_acc(pred, y_test):\n",
    "    return np.sum(y_test==pred)/len(y_test)*100"
   ],
   "execution_count": null,
   "outputs": []
  },
  {
   "cell_type": "code",
   "metadata": {
    "id": "R1Q4ud5RkHUy",
    "executionInfo": {
     "status": "ok",
     "timestamp": 1600383927563,
     "user_tz": 240,
     "elapsed": 17969,
     "user": {
      "displayName": "Vaibhav Sundharam",
      "photoUrl": "https://lh3.googleusercontent.com/a-/AOh14Ggf8pEKCJrbRi4ZfFzswWvQ_sKdbph3iOABmyAS=s64",
      "userId": "08654959544633965355"
     }
    },
    "outputId": "d8340399-0b9a-4943-e678-8a23aa6db08b",
    "colab": {
     "base_uri": "https://localhost:8080/"
    }
   },
   "source": [
    "# test get_acc\n",
    "print(get_acc(y_train, y_train))"
   ],
   "execution_count": null,
   "outputs": [
    {
     "output_type": "stream",
     "text": [
      "100.0\n"
     ],
     "name": "stdout"
    }
   ]
  },
  {
   "cell_type": "markdown",
   "metadata": {
    "id": "4H36rYUTkHU2"
   },
   "source": [
    "# Section 1. Support Vector Machines (with SGD)"
   ]
  },
  {
   "cell_type": "markdown",
   "metadata": {
    "id": "R7mSPGDbkHU3"
   },
   "source": [
    "In this section, you will need to implement a **soft margin SVM** for a **multi-class classification problem**. In the soft margin SVM, you will maximize the margin between positive and negative training examples and penalize margin violations using a hinge loss.\n",
    "\n",
    "We will optimize the SVM loss using SGD. This means you must compute the loss function with respect to model weights. You will use this gradient to update the model weights.\n",
    "\n",
    "SVM optimized with SGD has 3 hyperparameters that you can experiment with :\n",
    "- `lr` - the learning rate of your model. This parameter scales by how much the weights are changed according to the calculated gradient update\n",
    "- `n_iter` - the number of training batches you are gonna use for updating your model.\n",
    "- `reg_const` - Hyperparameter to determine the strength of regularization. In this case it is a coefficient on the term which maximizes the margin."
   ]
  },
  {
   "cell_type": "markdown",
   "metadata": {
    "id": "0YazPyiEkHU4"
   },
   "source": [
    "## 1.1. Implementing SVM with SGD\n",
    "\n",
    "Recall that the multiclass SVM loss can be written as:\n",
    "\\begin{align}\n",
    "\\begin{gathered}\n",
    "s=f(x_i, W) \\\\\n",
    "L_i = \\sum_{j\\neq y_i} \\left[ \\max(0, s_j - s_{y_i} + margin) \\right]\n",
    "\\end{gathered}\n",
    "\\end{align}\n",
    "where $s={s_j}$ is the vector of prediction scores of all class, $s_j$ is the prediction score for class $j$, and $y_i$ is the groud truth class label. The margin is usually set to 1. Now, to learn the weights $W$, we can differentiate the function $L_i$ to get the gradient:\n",
    "\\begin{equation}\n",
    "\\begin{gathered}\n",
    "\\nabla_{w_{y_i}} L_i = - \\left( \\sum_{j\\neq y_i} \\mathbb{I}(w_j^Tx_i - w_{y_i}^Tx_i + margin > 0) \\right) x_i\\\\\n",
    "\\end{gathered}\n",
    "\\end{equation}\n",
    "where $\\mathbb{I}$ is the indicator function that is one if the condition inside is true or zero otherwise, and $w_j$ represents the row $j$ in your weight matrix $W$. To implement this, you’d simply count the number of classes that didn’t meet the desired margin (and hence contributed to the loss function) and then the data vector $x_i$ scaled by this number is the gradient. Note that, in the equation above, we are only calculating the gradient with respect to the row of $W$ that corresponds to the correct class $y_i$. For the other rows $j\\neq y_i$, we have:\n",
    "\\begin{equation}\n",
    "\\nabla_{w_j} L_i = \\mathbb{I}(w_j^Tx_i - w_{y_i}^Tx_i + margin > 0) x_i\n",
    "\\end{equation}\n",
    "Now, we have derived the gradient expression above, it is time to turn these equations into the actual running code.\n",
    "We provide a template for implementing your SVM classfier below. You have to fill in the **TODO** part, and train your classifier."
   ]
  },
  {
   "cell_type": "code",
   "metadata": {
    "id": "gizNaEmdkHU4"
   },
   "source": [
    "class SVM():\n",
    "    def __init__(self, input_size, output_size):\n",
    "        \"\"\"\n",
    "        Initialises Softmax classifier with initializing \n",
    "        weights, alpha(learning rate), number of epochs\n",
    "        and regularization constant.\n",
    "        \"\"\"\n",
    "        self.input_size = input_size\n",
    "        self.output_size = output_size\n",
    "        self.w = np.random.randn(input_size, output_size) * 0.001 #weights\n",
    "        #print(self.w.shape)\n",
    "        \n",
    "    def calc_grad_and_loss(self, X_train, y_train, reg, margin):\n",
    "        \"\"\"\n",
    "          Calculate gradient of the svm hinge loss.\n",
    "          \n",
    "          Inputs have dimension D, there are C classes, and we operate on minibatches\n",
    "          of N examples.\n",
    "\n",
    "          Inputs:\n",
    "          - X_train: A numpy array of shape (N, D) containing a minibatch of data.\n",
    "          - y_train: A numpy array of shape (N,) containing training labels; y[i] = c means\n",
    "            that X[i] has label c, where 0 <= c < C.\n",
    "          - reg: A float number Regularization strength;\n",
    "          - margin: A float number margin for the multi-class SVM loss (usually set to 1);\n",
    "\n",
    "          Returns:\n",
    "          - gradient with respect to weights w; an array of same shape as w;\n",
    "          - multi-class SVM loss;\n",
    "        \"\"\"\n",
    "        ################################################################################\n",
    "        # TODO:                                                                        #\n",
    "        # Calculate the loss and gradient for the SVM classifier.                      #\n",
    "        ################################################################################\n",
    "        #Loss     \n",
    "        num_train = X_train.shape[0]   \n",
    "        scores = np.dot(X_train, self.w)       \n",
    "        y_correct_scores =  np.expand_dims(scores[np.arange(num_train),y_train], axis=1)\n",
    "        loss_i = np.maximum(0, scores - y_correct_scores + margin)\n",
    "        loss_i[np.arange(scores.shape[0]),y_train] = 0\n",
    "        loss = np.mean(np.sum(loss_i, axis=1)) \n",
    "        loss += 0.5*reg*np.sum(self.w*self.w)   \n",
    "\n",
    "        #Gradient\n",
    "        mask = np.zeros(loss_i.shape)\n",
    "        mask[loss_i > 0] = 1\n",
    "        count = np.sum(mask,axis=1)\n",
    "        mask[np.arange(num_train),y_train] = -count\n",
    "        grad_w = np.dot(X_train.T, mask)\n",
    "        grad_w /= num_train\n",
    "        grad_w += reg*self.w       \n",
    "        ################################################################################\n",
    "        #                                 END OF YOUR CODE                             #\n",
    "        ################################################################################\n",
    "\n",
    "        return grad_w, loss\n",
    "        \n",
    "    def train(self, X_train, y_train, lr=0.01, reg_const=0.05, margin=1.0, \n",
    "              n_iters=1500, batch_size=200):\n",
    "        \"\"\"\n",
    "        Train SVM classifier by taking one Stochastic Gradient Descent update\n",
    "        on the input minibatch.\n",
    "\n",
    "        Inputs:\n",
    "        - X_train: A numpy array of shape (N, D) containing training data;\n",
    "        N examples with D dimensions\n",
    "        - y_train: A numpy array of shape (N,) containing training labels;\n",
    "        - lr: A float number learning rate;\n",
    "        - reg_const: A float number Regularization strength;\n",
    "        - margin: A float number margin for the multi-class SVM loss (usually set to 1);\n",
    "        - n_iters: An integer number indicating the number of training iteration;\n",
    "        - batch_size: An integer indicating the number of samples per batch;\n",
    "        Returns:\n",
    "        - loss: Loss for this particular input batch.\n",
    "        \"\"\"\n",
    "        loss_hist = []\n",
    "\n",
    "        for i in range(n_iter):\n",
    "            batch_indices = np.random.choice(len(X_train), batch_size)\n",
    "            X_batch = X_train[batch_indices]\n",
    "            y_batch = y_train[batch_indices]\n",
    "            grad, loss = self.calc_grad_and_loss(X_batch, y_batch, reg_const, margin)\n",
    "            self.w -= lr * grad\n",
    "            if (i + 1) % 100 == 0:\n",
    "                print(f'Iter {i+1}/{n_iter} - loss: {loss} ')\n",
    "            loss_hist.append(loss)\n",
    "        return loss_hist\n",
    "\n",
    "    def predict(self, X_test):\n",
    "        \"\"\"\n",
    "        Use the trained weights of svm classifier to predict labels for\n",
    "        data points.\n",
    "\n",
    "        Inputs:\n",
    "        - X_test: A numpy array of shape (N, D) containing training data; there are N\n",
    "          training samples each of dimension D.\n",
    "\n",
    "        Returns:\n",
    "        - pred: Predicted labels for the data in X_test. pred is a 1-dimensional\n",
    "          array of length N, and each element is an integer giving the predicted\n",
    "          class.\n",
    "        \"\"\"\n",
    "        ################################################################################\n",
    "        # TODO:                                                                        #\n",
    "        # Make a prediction based on your classifier weights                           #\n",
    "        ################################################################################\n",
    "        pred = np.argmax(np.dot(X_test, self.w),axis=1)        \n",
    "        ################################################################################\n",
    "        #                                 END OF YOUR CODE                             #\n",
    "        ################################################################################\n",
    "        return pred\n",
    "    \n"
   ],
   "execution_count": null,
   "outputs": []
  },
  {
   "cell_type": "markdown",
   "metadata": {
    "id": "lmgLjNN9kHU9"
   },
   "source": [
    "### Train your SVM\n",
    "Now, train your SVM classifier. You should expect the loss decreases as the training goes on."
   ]
  },
  {
   "cell_type": "code",
   "metadata": {
    "id": "OstM06y1kHU-",
    "executionInfo": {
     "status": "ok",
     "timestamp": 1600383939581,
     "user_tz": 240,
     "elapsed": 5100,
     "user": {
      "displayName": "Vaibhav Sundharam",
      "photoUrl": "https://lh3.googleusercontent.com/a-/AOh14Ggf8pEKCJrbRi4ZfFzswWvQ_sKdbph3iOABmyAS=s64",
      "userId": "08654959544633965355"
     }
    },
    "outputId": "9a0df7a6-2712-4ac7-d71e-d72157ff88ea",
    "colab": {
     "base_uri": "https://localhost:8080/",
     "height": 277
    }
   },
   "source": [
    "n_iter = 1500\n",
    "batch_size = 200\n",
    "num_classes = np.max(y_train) + 1\n",
    "num_features = X_train.shape[1]\n",
    "svm = SVM(num_features, num_classes)\n",
    "loss_hist = svm.train(X_train, y_train, lr=1e-7, reg_const=5e3, n_iters=1500)"
   ],
   "execution_count": null,
   "outputs": [
    {
     "output_type": "stream",
     "text": [
      "Iter 100/1500 - loss: 79.03677173104386 \n",
      "Iter 200/1500 - loss: 71.0230321705143 \n",
      "Iter 300/1500 - loss: 63.20491397962487 \n",
      "Iter 400/1500 - loss: 58.1953762092337 \n",
      "Iter 500/1500 - loss: 52.135930613172775 \n",
      "Iter 600/1500 - loss: 48.24727285443192 \n",
      "Iter 700/1500 - loss: 44.09079934856503 \n",
      "Iter 800/1500 - loss: 39.02712868273249 \n",
      "Iter 900/1500 - loss: 35.68173489664177 \n",
      "Iter 1000/1500 - loss: 32.740372512140596 \n",
      "Iter 1100/1500 - loss: 29.845115058359244 \n",
      "Iter 1200/1500 - loss: 27.826991157383272 \n",
      "Iter 1300/1500 - loss: 25.253236738439103 \n",
      "Iter 1400/1500 - loss: 22.979234173239128 \n",
      "Iter 1500/1500 - loss: 21.504768492657682 \n"
     ],
     "name": "stdout"
    }
   ]
  },
  {
   "cell_type": "markdown",
   "metadata": {
    "id": "5Hlc2R19kHVB"
   },
   "source": [
    "### Plot the Loss Curve\n",
    "Plotting the loss curve is a proper etiquette for Machine Learning/Deep Learning practitioner."
   ]
  },
  {
   "cell_type": "code",
   "metadata": {
    "id": "IUdK0pnxkHVB",
    "executionInfo": {
     "status": "ok",
     "timestamp": 1600383943463,
     "user_tz": 240,
     "elapsed": 471,
     "user": {
      "displayName": "Vaibhav Sundharam",
      "photoUrl": "https://lh3.googleusercontent.com/a-/AOh14Ggf8pEKCJrbRi4ZfFzswWvQ_sKdbph3iOABmyAS=s64",
      "userId": "08654959544633965355"
     }
    },
    "outputId": "ba9688b8-6897-4ec0-83bd-ed03b77f1264",
    "colab": {
     "base_uri": "https://localhost:8080/",
     "height": 279
    }
   },
   "source": [
    "plt.plot(loss_hist);\n",
    "plt.ylabel('loss');\n",
    "plt.xlabel('iteration');"
   ],
   "execution_count": null,
   "outputs": [
    {
     "output_type": "display_data",
     "data": {
      "image/png": "[encoded data removed]",
      "text/plain": [
       "<Figure size 432x288 with 1 Axes>"
      ]
     },
     "metadata": {
      "tags": [],
      "needs_background": "light"
     }
    }
   ]
  },
  {
   "cell_type": "markdown",
   "metadata": {
    "id": "ovGAmvrfkHVH"
   },
   "source": [
    "### Accuracy?\n",
    "If the SVM is implemented correctly, you shuold get an training/validation accuracy around 34%-35%."
   ]
  },
  {
   "cell_type": "code",
   "metadata": {
    "id": "C2tV83wYkHVI",
    "executionInfo": {
     "status": "ok",
     "timestamp": 1600383948242,
     "user_tz": 240,
     "elapsed": 925,
     "user": {
      "displayName": "Vaibhav Sundharam",
      "photoUrl": "https://lh3.googleusercontent.com/a-/AOh14Ggf8pEKCJrbRi4ZfFzswWvQ_sKdbph3iOABmyAS=s64",
      "userId": "08654959544633965355"
     }
    },
    "outputId": "08e1510a-cf4f-42da-d957-3c07d4543bea",
    "colab": {
     "base_uri": "https://localhost:8080/",
     "height": 52
    }
   },
   "source": [
    "pred_svm = svm.predict(X_train)\n",
    "print('The training accuracy is given by : %f' % (get_acc(pred_svm, y_train)))\n",
    "pred_svm = svm.predict(X_val)\n",
    "print('The validation accuracy is given by : %f' % (get_acc(pred_svm, y_val)))"
   ],
   "execution_count": null,
   "outputs": [
    {
     "output_type": "stream",
     "text": [
      "The training accuracy is given by : 34.132653\n",
      "The validation accuracy is given by : 34.900000\n"
     ],
     "name": "stdout"
    }
   ]
  },
  {
   "cell_type": "markdown",
   "metadata": {
    "id": "S3iZT8sCkHVL"
   },
   "source": [
    "## Section 1.2. Improve your SVM\n",
    "Now, try to improve the accuracy of your classifier. You can perform hyperparameter search with cross-validation, or conduct some extra preprocessing on the data. **Note that you should never use the `X_test` and `y_test` for tuning your model.**"
   ]
  },
  {
   "cell_type": "markdown",
   "metadata": {
    "id": "FMTz3JfeVZ2F"
   },
   "source": [
    "a) Increasing the number of iterations"
   ]
  },
  {
   "cell_type": "code",
   "metadata": {
    "id": "LtAWFNtdkHVM",
    "executionInfo": {
     "status": "ok",
     "timestamp": 1600383971262,
     "user_tz": 240,
     "elapsed": 17997,
     "user": {
      "displayName": "Vaibhav Sundharam",
      "photoUrl": "https://lh3.googleusercontent.com/a-/AOh14Ggf8pEKCJrbRi4ZfFzswWvQ_sKdbph3iOABmyAS=s64",
      "userId": "08654959544633965355"
     }
    },
    "outputId": "aaf53d55-3d10-46eb-be19-86ee4d80a108",
    "colab": {
     "base_uri": "https://localhost:8080/",
     "height": 971
    }
   },
   "source": [
    "n_iter = 5500\n",
    "batch_size = 200\n",
    "num_classes = np.max(y_train) + 1\n",
    "num_features = X_train.shape[1]\n",
    "svm = SVM(num_features, num_classes)\n",
    "loss_hist = svm.train(X_train, y_train, lr=1e-7, reg_const=5e3, n_iters=5500)"
   ],
   "execution_count": null,
   "outputs": [
    {
     "output_type": "stream",
     "text": [
      "Iter 100/5500 - loss: 82.25343616426014 \n",
      "Iter 200/5500 - loss: 72.91354298984567 \n",
      "Iter 300/5500 - loss: 66.26495098324834 \n",
      "Iter 400/5500 - loss: 58.33261106998825 \n",
      "Iter 500/5500 - loss: 52.41449310223651 \n",
      "Iter 600/5500 - loss: 48.254241007813 \n",
      "Iter 700/5500 - loss: 44.37265958633934 \n",
      "Iter 800/5500 - loss: 40.57961818927581 \n",
      "Iter 900/5500 - loss: 36.68403139147191 \n",
      "Iter 1000/5500 - loss: 33.8855279983543 \n",
      "Iter 1100/5500 - loss: 29.967329253546907 \n",
      "Iter 1200/5500 - loss: 28.35105679600425 \n",
      "Iter 1300/5500 - loss: 25.786537739755918 \n",
      "Iter 1400/5500 - loss: 23.72999403811794 \n",
      "Iter 1500/5500 - loss: 21.986167934192842 \n",
      "Iter 1600/5500 - loss: 20.119752680812304 \n",
      "Iter 1700/5500 - loss: 18.18724612310509 \n",
      "Iter 1800/5500 - loss: 16.857459229490296 \n",
      "Iter 1900/5500 - loss: 16.239437354206853 \n",
      "Iter 2000/5500 - loss: 15.088248428972788 \n",
      "Iter 2100/5500 - loss: 13.992142269771303 \n",
      "Iter 2200/5500 - loss: 12.879139485433654 \n",
      "Iter 2300/5500 - loss: 12.084840758742907 \n",
      "Iter 2400/5500 - loss: 11.986900509754662 \n",
      "Iter 2500/5500 - loss: 11.065612049285491 \n",
      "Iter 2600/5500 - loss: 10.59359318675298 \n",
      "Iter 2700/5500 - loss: 9.315398891074205 \n",
      "Iter 2800/5500 - loss: 9.791721648615454 \n",
      "Iter 2900/5500 - loss: 8.725810328211292 \n",
      "Iter 3000/5500 - loss: 7.791551097485918 \n",
      "Iter 3100/5500 - loss: 7.512934468859915 \n",
      "Iter 3200/5500 - loss: 7.72287929652428 \n",
      "Iter 3300/5500 - loss: 7.560074595816702 \n",
      "Iter 3400/5500 - loss: 7.060235190166779 \n",
      "Iter 3500/5500 - loss: 6.521918191844658 \n",
      "Iter 3600/5500 - loss: 6.780422894534645 \n",
      "Iter 3700/5500 - loss: 6.2136673048995 \n",
      "Iter 3800/5500 - loss: 6.671396766491776 \n",
      "Iter 3900/5500 - loss: 6.635267338778585 \n",
      "Iter 4000/5500 - loss: 5.482454127382133 \n",
      "Iter 4100/5500 - loss: 5.667950639624416 \n",
      "Iter 4200/5500 - loss: 5.417079650382352 \n",
      "Iter 4300/5500 - loss: 5.147173569064813 \n",
      "Iter 4400/5500 - loss: 5.507126744906804 \n",
      "Iter 4500/5500 - loss: 4.881572563141837 \n",
      "Iter 4600/5500 - loss: 5.062989828921461 \n",
      "Iter 4700/5500 - loss: 5.021062376109665 \n",
      "Iter 4800/5500 - loss: 4.745908184525382 \n",
      "Iter 4900/5500 - loss: 4.8399125454505825 \n",
      "Iter 5000/5500 - loss: 4.485446609431525 \n",
      "Iter 5100/5500 - loss: 5.172757148222936 \n",
      "Iter 5200/5500 - loss: 5.130713365918934 \n",
      "Iter 5300/5500 - loss: 5.049097901744726 \n",
      "Iter 5400/5500 - loss: 4.892385558993584 \n",
      "Iter 5500/5500 - loss: 4.653376724495706 \n"
     ],
     "name": "stdout"
    }
   ]
  },
  {
   "cell_type": "markdown",
   "metadata": {
    "id": "GmJVBIjjkHVO"
   },
   "source": [
    " Test SVM\n",
    "Evaluate the testing accuracy of your SVM:"
   ]
  },
  {
   "cell_type": "code",
   "metadata": {
    "id": "WjaVRQKqkHVP",
    "executionInfo": {
     "status": "ok",
     "timestamp": 1600383988544,
     "user_tz": 240,
     "elapsed": 523,
     "user": {
      "displayName": "Vaibhav Sundharam",
      "photoUrl": "https://lh3.googleusercontent.com/a-/AOh14Ggf8pEKCJrbRi4ZfFzswWvQ_sKdbph3iOABmyAS=s64",
      "userId": "08654959544633965355"
     }
    },
    "outputId": "9a95ccd2-07ca-4a8e-aa98-f007f90dae06",
    "colab": {
     "base_uri": "https://localhost:8080/",
     "height": 35
    }
   },
   "source": [
    "pred_svm = svm.predict(X_test)\n",
    "print('The testing accuracy is given by : %f' % (get_acc(pred_svm, y_test)))"
   ],
   "execution_count": null,
   "outputs": [
    {
     "output_type": "stream",
     "text": [
      "The testing accuracy is given by : 38.900000\n"
     ],
     "name": "stdout"
    }
   ]
  },
  {
   "cell_type": "markdown",
   "metadata": {
    "id": "tS4Ls5n5XHfS"
   },
   "source": [
    "b) Grid Search"
   ]
  },
  {
   "cell_type": "code",
   "metadata": {
    "id": "A71v5k6KXDQV",
    "executionInfo": {
     "status": "ok",
     "timestamp": 1600384146326,
     "user_tz": 240,
     "elapsed": 155774,
     "user": {
      "displayName": "Vaibhav Sundharam",
      "photoUrl": "https://lh3.googleusercontent.com/a-/AOh14Ggf8pEKCJrbRi4ZfFzswWvQ_sKdbph3iOABmyAS=s64",
      "userId": "08654959544633965355"
     }
    },
    "outputId": "481efa95-c28b-4472-cc2d-95dc20a60a38",
    "colab": {
     "base_uri": "https://localhost:8080/",
     "height": 1000
    }
   },
   "source": [
    "learning_rates = [1e-8, 1e-7, 3e-7, 5e-7]\n",
    "regularization = [1e4, 2e4, 3e4, 4e4, 5e4, 6e4, 7e4, 8e4]\n",
    "n_iter = 1500\n",
    "batch_size = 100\n",
    "num_classes = np.max(y_train) + 1\n",
    "num_features = X_train.shape[1]\n",
    "best_validation_accuracy = -1\n",
    "results ={}\n",
    "for l in learning_rates:  \n",
    "  for r in regularization:\n",
    "    svm = SVM(num_features, num_classes)\n",
    "    print(f\"Hyperparameters- learning_rate: {l}, regularization: {r}\")\n",
    "    loss_hist = svm.train(X_train, y_train, lr=l, reg_const=r, n_iters=n_iter)\n",
    "\n",
    "    pred_svm = svm.predict(X_train)\n",
    "    print(f\"The training accuracy is given by : {get_acc(pred_svm, y_train)}\")\n",
    "\n",
    "    pred_svm = svm.predict(X_val)\n",
    "    validation_accuracy = get_acc(pred_svm, y_val)    \n",
    "    print(f\"The validation accuracy is given by : {validation_accuracy}\")\n",
    "    \n",
    "    pred_svm = svm.predict(X_test)\n",
    "    test_accuracy = get_acc(pred_svm, y_test)    \n",
    "    print(f\"The testing accuracy is given by : {test_accuracy}\")\n",
    "\n",
    "    results[(l, r)] = validation_accuracy\n",
    "\n",
    "    if validation_accuracy > best_validation_accuracy:\n",
    "      best_validation_accuracy = validation_accuracy\n",
    "      best_svm = svm\n",
    "    print(f\"Best val accuracy:{best_validation_accuracy}\")\n",
    "    print(\"done\\n\")\n"
   ],
   "execution_count": null,
   "outputs": [
    {
     "output_type": "stream",
     "text": [
      "Hyperparameters- learning_rate: 1e-08, regularization: 10000.0\n",
      "Iter 100/1500 - loss: 168.04810695223813 \n",
      "Iter 200/1500 - loss: 165.3024966087627 \n",
      "Iter 300/1500 - loss: 159.29646263067667 \n",
      "Iter 400/1500 - loss: 154.16429308466672 \n",
      "Iter 500/1500 - loss: 149.99075796745103 \n",
      "Iter 600/1500 - loss: 146.5088984811837 \n",
      "Iter 700/1500 - loss: 144.3347413973288 \n",
      "Iter 800/1500 - loss: 142.88438253358746 \n",
      "Iter 900/1500 - loss: 138.16245347751246 \n",
      "Iter 1000/1500 - loss: 135.9785413942311 \n",
      "Iter 1100/1500 - loss: 134.2664016873195 \n",
      "Iter 1200/1500 - loss: 128.995432851259 \n",
      "Iter 1300/1500 - loss: 126.96800830125916 \n",
      "Iter 1400/1500 - loss: 124.78382930989649 \n",
      "Iter 1500/1500 - loss: 122.67732421166014 \n",
      "The training accuracy is given by : 22.544897959183675\n",
      "The validation accuracy is given by : 25.0\n",
      "The testing accuracy is given by : 22.5\n",
      "Best val accuracy:25.0\n",
      "done\n",
      "\n",
      "Hyperparameters- learning_rate: 1e-08, regularization: 20000.0\n",
      "Iter 100/1500 - loss: 313.2021372675652 \n",
      "Iter 200/1500 - loss: 299.36114886573773 \n",
      "Iter 300/1500 - loss: 286.1550051973675 \n",
      "Iter 400/1500 - loss: 276.30635546834606 \n",
      "Iter 500/1500 - loss: 262.9302506029039 \n",
      "Iter 600/1500 - loss: 252.5995075975152 \n",
      "Iter 700/1500 - loss: 244.11369922185054 \n",
      "Iter 800/1500 - loss: 233.1556793974254 \n",
      "Iter 900/1500 - loss: 223.0146040180309 \n",
      "Iter 1000/1500 - loss: 214.67407682606938 \n",
      "Iter 1100/1500 - loss: 206.54270022817715 \n",
      "Iter 1200/1500 - loss: 198.79175493217446 \n",
      "Iter 1300/1500 - loss: 190.75083932012683 \n",
      "Iter 1400/1500 - loss: 184.00591552649414 \n",
      "Iter 1500/1500 - loss: 176.29765280993848 \n",
      "The training accuracy is given by : 23.69795918367347\n",
      "The validation accuracy is given by : 24.8\n",
      "The testing accuracy is given by : 22.5\n",
      "Best val accuracy:25.0\n",
      "done\n",
      "\n",
      "Hyperparameters- learning_rate: 1e-08, regularization: 30000.0\n",
      "Iter 100/1500 - loss: 451.79699875884273 \n",
      "Iter 200/1500 - loss: 424.04166617441155 \n",
      "Iter 300/1500 - loss: 399.03056251076174 \n",
      "Iter 400/1500 - loss: 374.1338400267255 \n",
      "Iter 500/1500 - loss: 352.88638468890537 \n",
      "Iter 600/1500 - loss: 331.77953924777654 \n",
      "Iter 700/1500 - loss: 312.2024134683747 \n",
      "Iter 800/1500 - loss: 294.6551602225036 \n",
      "Iter 900/1500 - loss: 277.2418462609015 \n",
      "Iter 1000/1500 - loss: 260.49474263947127 \n",
      "Iter 1100/1500 - loss: 245.7004378516378 \n",
      "Iter 1200/1500 - loss: 231.0080376300579 \n",
      "Iter 1300/1500 - loss: 217.9643579501539 \n",
      "Iter 1400/1500 - loss: 206.0383097156534 \n",
      "Iter 1500/1500 - loss: 193.54520985783554 \n",
      "The training accuracy is given by : 22.975510204081633\n",
      "The validation accuracy is given by : 24.3\n",
      "The testing accuracy is given by : 22.400000000000002\n",
      "Best val accuracy:25.0\n",
      "done\n",
      "\n",
      "Hyperparameters- learning_rate: 1e-08, regularization: 40000.0\n",
      "Iter 100/1500 - loss: 584.2514320070802 \n",
      "Iter 200/1500 - loss: 540.2829868629452 \n",
      "Iter 300/1500 - loss: 498.355821179355 \n",
      "Iter 400/1500 - loss: 457.9264572180982 \n",
      "Iter 500/1500 - loss: 423.56800253890884 \n",
      "Iter 600/1500 - loss: 390.9384481592538 \n",
      "Iter 700/1500 - loss: 360.28340014342496 \n",
      "Iter 800/1500 - loss: 332.82286504308695 \n",
      "Iter 900/1500 - loss: 307.1552841970653 \n",
      "Iter 1000/1500 - loss: 283.2770098661588 \n",
      "Iter 1100/1500 - loss: 261.4310812982209 \n",
      "Iter 1200/1500 - loss: 242.4586996320955 \n",
      "Iter 1300/1500 - loss: 223.58521500779423 \n",
      "Iter 1400/1500 - loss: 207.35747212386437 \n",
      "Iter 1500/1500 - loss: 190.50205386460334 \n",
      "The training accuracy is given by : 24.60612244897959\n",
      "The validation accuracy is given by : 23.599999999999998\n",
      "The testing accuracy is given by : 24.4\n",
      "Best val accuracy:25.0\n",
      "done\n",
      "\n",
      "Hyperparameters- learning_rate: 1e-08, regularization: 50000.0\n",
      "Iter 100/1500 - loss: 712.2746240925464 \n",
      "Iter 200/1500 - loss: 644.8286827829327 \n",
      "Iter 300/1500 - loss: 584.6439209634614 \n",
      "Iter 400/1500 - loss: 527.3101401570101 \n",
      "Iter 500/1500 - loss: 477.2266847298791 \n",
      "Iter 600/1500 - loss: 433.33198010699806 \n",
      "Iter 700/1500 - loss: 390.501253294879 \n",
      "Iter 800/1500 - loss: 354.2739576846037 \n",
      "Iter 900/1500 - loss: 321.644513000303 \n",
      "Iter 1000/1500 - loss: 290.5700345345167 \n",
      "Iter 1100/1500 - loss: 263.20956934084296 \n",
      "Iter 1200/1500 - loss: 238.47549011990037 \n",
      "Iter 1300/1500 - loss: 216.67880462360986 \n",
      "Iter 1400/1500 - loss: 195.8769923071764 \n",
      "Iter 1500/1500 - loss: 177.8901258130132 \n",
      "The training accuracy is given by : 25.732653061224493\n",
      "The validation accuracy is given by : 27.6\n",
      "The testing accuracy is given by : 26.700000000000003\n",
      "Best val accuracy:27.6\n",
      "done\n",
      "\n",
      "Hyperparameters- learning_rate: 1e-08, regularization: 60000.0\n",
      "Iter 100/1500 - loss: 829.9157768828697 \n",
      "Iter 200/1500 - loss: 732.9685065189939 \n",
      "Iter 300/1500 - loss: 649.6708950367514 \n",
      "Iter 400/1500 - loss: 575.6157069668077 \n",
      "Iter 500/1500 - loss: 512.6955667059524 \n",
      "Iter 600/1500 - loss: 455.1231168279782 \n",
      "Iter 700/1500 - loss: 403.82272815314735 \n",
      "Iter 800/1500 - loss: 357.30936397344993 \n",
      "Iter 900/1500 - loss: 316.7077455583289 \n",
      "Iter 1000/1500 - loss: 281.8316645081589 \n",
      "Iter 1100/1500 - loss: 250.13845075919346 \n",
      "Iter 1200/1500 - loss: 222.39113666413076 \n",
      "Iter 1300/1500 - loss: 197.16856168355068 \n",
      "Iter 1400/1500 - loss: 175.22416133700796 \n",
      "Iter 1500/1500 - loss: 155.16234070155423 \n",
      "The training accuracy is given by : 26.49183673469388\n",
      "The validation accuracy is given by : 26.5\n",
      "The testing accuracy is given by : 27.0\n",
      "Best val accuracy:27.6\n",
      "done\n",
      "\n",
      "Hyperparameters- learning_rate: 1e-08, regularization: 70000.0\n",
      "Iter 100/1500 - loss: 955.9350097010024 \n",
      "Iter 200/1500 - loss: 830.9361377255376 \n",
      "Iter 300/1500 - loss: 721.4751258410672 \n",
      "Iter 400/1500 - loss: 627.1267415114738 \n",
      "Iter 500/1500 - loss: 546.7722216939534 \n",
      "Iter 600/1500 - loss: 476.3287854821011 \n",
      "Iter 700/1500 - loss: 412.5158968521962 \n",
      "Iter 800/1500 - loss: 359.5097124483245 \n",
      "Iter 900/1500 - loss: 313.1308191878042 \n",
      "Iter 1000/1500 - loss: 272.17656710432016 \n",
      "Iter 1100/1500 - loss: 237.70000855322695 \n",
      "Iter 1200/1500 - loss: 206.54925054376795 \n",
      "Iter 1300/1500 - loss: 180.89952726723143 \n",
      "Iter 1400/1500 - loss: 157.09687383767076 \n",
      "Iter 1500/1500 - loss: 137.3082233994567 \n",
      "The training accuracy is given by : 26.96530612244898\n",
      "The validation accuracy is given by : 26.3\n",
      "The testing accuracy is given by : 26.0\n",
      "Best val accuracy:27.6\n",
      "done\n",
      "\n",
      "Hyperparameters- learning_rate: 1e-08, regularization: 80000.0\n",
      "Iter 100/1500 - loss: 1059.5971082061133 \n",
      "Iter 200/1500 - loss: 901.5908465577797 \n",
      "Iter 300/1500 - loss: 769.2625479488355 \n",
      "Iter 400/1500 - loss: 655.6489979825079 \n",
      "Iter 500/1500 - loss: 558.3416497966355 \n",
      "Iter 600/1500 - loss: 476.22215933000166 \n",
      "Iter 700/1500 - loss: 406.07019007307906 \n",
      "Iter 800/1500 - loss: 346.632096131254 \n",
      "Iter 900/1500 - loss: 296.6680004970881 \n",
      "Iter 1000/1500 - loss: 253.54892679669697 \n",
      "Iter 1100/1500 - loss: 216.55503887321916 \n",
      "Iter 1200/1500 - loss: 184.41789615651447 \n",
      "Iter 1300/1500 - loss: 158.53925097193942 \n",
      "Iter 1400/1500 - loss: 135.47760495432547 \n",
      "Iter 1500/1500 - loss: 115.76393263241125 \n",
      "The training accuracy is given by : 28.59387755102041\n",
      "The validation accuracy is given by : 28.999999999999996\n",
      "The testing accuracy is given by : 29.099999999999998\n",
      "Best val accuracy:28.999999999999996\n",
      "done\n",
      "\n",
      "Hyperparameters- learning_rate: 1e-07, regularization: 10000.0\n",
      "Iter 100/1500 - loss: 133.63719114314247 \n",
      "Iter 200/1500 - loss: 109.23359294370759 \n",
      "Iter 300/1500 - loss: 89.77006842670679 \n",
      "Iter 400/1500 - loss: 72.99906078165601 \n",
      "Iter 500/1500 - loss: 60.352133669839006 \n",
      "Iter 600/1500 - loss: 49.55237346984441 \n",
      "Iter 700/1500 - loss: 41.96699244265493 \n",
      "Iter 800/1500 - loss: 35.2133975551626 \n",
      "Iter 900/1500 - loss: 29.646338916458895 \n",
      "Iter 1000/1500 - loss: 25.438370122916474 \n",
      "Iter 1100/1500 - loss: 21.2460589334015 \n",
      "Iter 1200/1500 - loss: 17.564472325909087 \n",
      "Iter 1300/1500 - loss: 16.088941142591143 \n",
      "Iter 1400/1500 - loss: 14.242609443409668 \n",
      "Iter 1500/1500 - loss: 11.488160722985143 \n",
      "The training accuracy is given by : 37.76122448979592\n",
      "The validation accuracy is given by : 38.800000000000004\n",
      "The testing accuracy is given by : 38.1\n",
      "Best val accuracy:38.800000000000004\n",
      "done\n",
      "\n",
      "Hyperparameters- learning_rate: 1e-07, regularization: 20000.0\n",
      "Iter 100/1500 - loss: 218.7532512864654 \n",
      "Iter 200/1500 - loss: 145.73155226961507 \n",
      "Iter 300/1500 - loss: 98.10986589312722 \n",
      "Iter 400/1500 - loss: 67.34501302177705 \n",
      "Iter 500/1500 - loss: 47.04400225055532 \n",
      "Iter 600/1500 - loss: 32.94745515423273 \n",
      "Iter 700/1500 - loss: 23.556134992567458 \n",
      "Iter 800/1500 - loss: 17.282911801217278 \n",
      "Iter 900/1500 - loss: 13.197979610007138 \n",
      "Iter 1000/1500 - loss: 10.381515952324982 \n",
      "Iter 1100/1500 - loss: 8.906672872462371 \n",
      "Iter 1200/1500 - loss: 7.0963741782681655 \n",
      "Iter 1300/1500 - loss: 6.431594370949393 \n",
      "Iter 1400/1500 - loss: 5.454723144523401 \n",
      "Iter 1500/1500 - loss: 5.969490745348412 \n",
      "The training accuracy is given by : 38.69795918367347\n",
      "The validation accuracy is given by : 39.6\n",
      "The testing accuracy is given by : 37.3\n",
      "Best val accuracy:39.6\n",
      "done\n",
      "\n",
      "Hyperparameters- learning_rate: 1e-07, regularization: 30000.0\n",
      "Iter 100/1500 - loss: 261.291395576314 \n",
      "Iter 200/1500 - loss: 144.1129054688541 \n",
      "Iter 300/1500 - loss: 80.68787151145439 \n",
      "Iter 400/1500 - loss: 46.610723176222685 \n",
      "Iter 500/1500 - loss: 27.543168690976547 \n",
      "Iter 600/1500 - loss: 17.0789537727806 \n",
      "Iter 700/1500 - loss: 12.187600242341226 \n",
      "Iter 800/1500 - loss: 8.17572035669387 \n",
      "Iter 900/1500 - loss: 6.935933793383793 \n",
      "Iter 1000/1500 - loss: 5.964709203602273 \n",
      "Iter 1100/1500 - loss: 5.779914212396001 \n",
      "Iter 1200/1500 - loss: 5.312411921065498 \n",
      "Iter 1300/1500 - loss: 5.508273733177862 \n",
      "Iter 1400/1500 - loss: 5.686524126525538 \n",
      "Iter 1500/1500 - loss: 5.3305282197529475 \n",
      "The training accuracy is given by : 37.84285714285714\n",
      "The validation accuracy is given by : 38.3\n",
      "The testing accuracy is given by : 39.300000000000004\n",
      "Best val accuracy:39.6\n",
      "done\n",
      "\n",
      "Hyperparameters- learning_rate: 1e-07, regularization: 40000.0\n",
      "Iter 100/1500 - loss: 285.56508824878375 \n",
      "Iter 200/1500 - loss: 129.45457990284928 \n",
      "Iter 300/1500 - loss: 60.881543197819695 \n",
      "Iter 400/1500 - loss: 29.964947630864177 \n",
      "Iter 500/1500 - loss: 16.24220921491836 \n",
      "Iter 600/1500 - loss: 10.502716705958825 \n",
      "Iter 700/1500 - loss: 7.562880948764198 \n",
      "Iter 800/1500 - loss: 5.553983181314954 \n",
      "Iter 900/1500 - loss: 5.4340902997764005 \n",
      "Iter 1000/1500 - loss: 5.412704957290791 \n",
      "Iter 1100/1500 - loss: 5.232401024817168 \n",
      "Iter 1200/1500 - loss: 4.8495680352390025 \n",
      "Iter 1300/1500 - loss: 4.7211984773058315 \n",
      "Iter 1400/1500 - loss: 5.06997143197031 \n",
      "Iter 1500/1500 - loss: 5.357997281032557 \n",
      "The training accuracy is given by : 37.09387755102041\n",
      "The validation accuracy is given by : 38.800000000000004\n",
      "The testing accuracy is given by : 36.4\n",
      "Best val accuracy:39.6\n",
      "done\n",
      "\n",
      "Hyperparameters- learning_rate: 1e-07, regularization: 50000.0\n",
      "Iter 100/1500 - loss: 294.08386089018256 \n",
      "Iter 200/1500 - loss: 110.29353696699837 \n",
      "Iter 300/1500 - loss: 43.40020509151194 \n",
      "Iter 400/1500 - loss: 19.331056645585555 \n",
      "Iter 500/1500 - loss: 10.590305765670694 \n",
      "Iter 600/1500 - loss: 7.30681070991997 \n",
      "Iter 700/1500 - loss: 6.03809431806753 \n",
      "Iter 800/1500 - loss: 5.380627237367739 \n",
      "Iter 900/1500 - loss: 5.571614248842743 \n",
      "Iter 1000/1500 - loss: 5.394384304160689 \n",
      "Iter 1100/1500 - loss: 5.490705886395867 \n",
      "Iter 1200/1500 - loss: 5.952212187996243 \n",
      "Iter 1300/1500 - loss: 5.099283623428052 \n",
      "Iter 1400/1500 - loss: 5.302458272374685 \n",
      "Iter 1500/1500 - loss: 4.91960058369378 \n",
      "The training accuracy is given by : 37.114285714285714\n",
      "The validation accuracy is given by : 38.6\n",
      "The testing accuracy is given by : 36.7\n",
      "Best val accuracy:39.6\n",
      "done\n",
      "\n",
      "Hyperparameters- learning_rate: 1e-07, regularization: 60000.0\n",
      "Iter 100/1500 - loss: 284.9350488551455 \n",
      "Iter 200/1500 - loss: 89.10462547634732 \n",
      "Iter 300/1500 - loss: 30.218051151977566 \n",
      "Iter 400/1500 - loss: 12.40221665403022 \n",
      "Iter 500/1500 - loss: 7.7602792840237935 \n",
      "Iter 600/1500 - loss: 6.383030343233875 \n",
      "Iter 700/1500 - loss: 5.50589551239303 \n",
      "Iter 800/1500 - loss: 5.017554519766301 \n",
      "Iter 900/1500 - loss: 5.886656407721061 \n",
      "Iter 1000/1500 - loss: 5.534983493171587 \n",
      "Iter 1100/1500 - loss: 5.278051466155062 \n",
      "Iter 1200/1500 - loss: 5.384857397592374 \n",
      "Iter 1300/1500 - loss: 4.835230652319593 \n",
      "Iter 1400/1500 - loss: 5.376761059655743 \n",
      "Iter 1500/1500 - loss: 5.881908287069167 \n",
      "The training accuracy is given by : 35.93265306122449\n",
      "The validation accuracy is given by : 35.199999999999996\n",
      "The testing accuracy is given by : 35.8\n",
      "Best val accuracy:39.6\n",
      "done\n",
      "\n",
      "Hyperparameters- learning_rate: 1e-07, regularization: 70000.0\n",
      "Iter 100/1500 - loss: 271.9417740722932 \n",
      "Iter 200/1500 - loss: 70.41205493948401 \n",
      "Iter 300/1500 - loss: 20.48278260575153 \n",
      "Iter 400/1500 - loss: 9.055398241462495 \n",
      "Iter 500/1500 - loss: 6.479481220736456 \n",
      "Iter 600/1500 - loss: 5.6132708455121625 \n",
      "Iter 700/1500 - loss: 5.651719017630834 \n",
      "Iter 800/1500 - loss: 5.553605989997836 \n",
      "Iter 900/1500 - loss: 5.306751448149789 \n",
      "Iter 1000/1500 - loss: 5.420871302552728 \n",
      "Iter 1100/1500 - loss: 5.556599773230823 \n",
      "Iter 1200/1500 - loss: 5.536962226247837 \n",
      "Iter 1300/1500 - loss: 5.730900009219406 \n",
      "Iter 1400/1500 - loss: 5.790294209875059 \n",
      "Iter 1500/1500 - loss: 5.4793728207646115 \n",
      "The training accuracy is given by : 36.46122448979592\n",
      "The validation accuracy is given by : 38.0\n",
      "The testing accuracy is given by : 37.3\n",
      "Best val accuracy:39.6\n",
      "done\n",
      "\n",
      "Hyperparameters- learning_rate: 1e-07, regularization: 80000.0\n",
      "Iter 100/1500 - loss: 254.7464758551718 \n",
      "Iter 200/1500 - loss: 54.84274351234082 \n",
      "Iter 300/1500 - loss: 15.260981455989418 \n",
      "Iter 400/1500 - loss: 7.056417693873714 \n",
      "Iter 500/1500 - loss: 5.939990360450973 \n",
      "Iter 600/1500 - loss: 6.248575428936605 \n",
      "Iter 700/1500 - loss: 5.660561152099052 \n",
      "Iter 800/1500 - loss: 5.286693516375668 \n",
      "Iter 900/1500 - loss: 5.548758005179161 \n",
      "Iter 1000/1500 - loss: 5.795902621005424 \n",
      "Iter 1100/1500 - loss: 5.5933484915128755 \n",
      "Iter 1200/1500 - loss: 5.885404415526287 \n",
      "Iter 1300/1500 - loss: 5.567232588597284 \n",
      "Iter 1400/1500 - loss: 5.8788486383617755 \n",
      "Iter 1500/1500 - loss: 5.746755401230441 \n",
      "The training accuracy is given by : 36.367346938775505\n",
      "The validation accuracy is given by : 37.9\n",
      "The testing accuracy is given by : 36.7\n",
      "Best val accuracy:39.6\n",
      "done\n",
      "\n",
      "Hyperparameters- learning_rate: 3e-07, regularization: 10000.0\n",
      "Iter 100/1500 - loss: 92.72751081927446 \n",
      "Iter 200/1500 - loss: 52.60574268971972 \n",
      "Iter 300/1500 - loss: 29.87164152916276 \n",
      "Iter 400/1500 - loss: 18.464084920257076 \n",
      "Iter 500/1500 - loss: 11.709596538023792 \n",
      "Iter 600/1500 - loss: 8.86678237856886 \n",
      "Iter 700/1500 - loss: 7.104428329607929 \n",
      "Iter 800/1500 - loss: 5.867472272956896 \n",
      "Iter 900/1500 - loss: 5.622945597082624 \n",
      "Iter 1000/1500 - loss: 5.1520521555311785 \n",
      "Iter 1100/1500 - loss: 5.093223091494621 \n",
      "Iter 1200/1500 - loss: 4.066315237653901 \n",
      "Iter 1300/1500 - loss: 4.335802680699401 \n",
      "Iter 1400/1500 - loss: 5.243440249233645 \n",
      "Iter 1500/1500 - loss: 4.784469615829076 \n",
      "The training accuracy is given by : 37.24081632653061\n",
      "The validation accuracy is given by : 37.3\n",
      "The testing accuracy is given by : 36.8\n",
      "Best val accuracy:39.6\n",
      "done\n",
      "\n",
      "Hyperparameters- learning_rate: 3e-07, regularization: 20000.0\n",
      "Iter 100/1500 - loss: 98.11480462140585 \n",
      "Iter 200/1500 - loss: 32.33670521780462 \n",
      "Iter 300/1500 - loss: 13.385181306100987 \n",
      "Iter 400/1500 - loss: 7.34263299796733 \n",
      "Iter 500/1500 - loss: 5.362717284121924 \n",
      "Iter 600/1500 - loss: 5.193198078916005 \n",
      "Iter 700/1500 - loss: 5.1895782011220595 \n",
      "Iter 800/1500 - loss: 5.204079889689517 \n",
      "Iter 900/1500 - loss: 5.720599780588104 \n",
      "Iter 1000/1500 - loss: 4.9062161319031885 \n",
      "Iter 1100/1500 - loss: 4.870748895524224 \n",
      "Iter 1200/1500 - loss: 5.32311969854509 \n",
      "Iter 1300/1500 - loss: 4.743890745339236 \n",
      "Iter 1400/1500 - loss: 4.829019739597793 \n",
      "Iter 1500/1500 - loss: 5.13333023965863 \n",
      "The training accuracy is given by : 37.3734693877551\n",
      "The validation accuracy is given by : 39.1\n",
      "The testing accuracy is given by : 36.7\n",
      "Best val accuracy:39.6\n",
      "done\n",
      "\n",
      "Hyperparameters- learning_rate: 3e-07, regularization: 30000.0\n",
      "Iter 100/1500 - loss: 82.22692623262391 \n",
      "Iter 200/1500 - loss: 17.78615247875433 \n",
      "Iter 300/1500 - loss: 7.719356489365527 \n",
      "Iter 400/1500 - loss: 5.983975222773625 \n",
      "Iter 500/1500 - loss: 5.338779712499457 \n",
      "Iter 600/1500 - loss: 5.327714528009551 \n",
      "Iter 700/1500 - loss: 5.191133503446201 \n",
      "Iter 800/1500 - loss: 5.306659441248812 \n",
      "Iter 900/1500 - loss: 5.735638090288802 \n",
      "Iter 1000/1500 - loss: 5.256624812399665 \n",
      "Iter 1100/1500 - loss: 5.223648957645369 \n",
      "Iter 1200/1500 - loss: 5.234450870868709 \n",
      "Iter 1300/1500 - loss: 5.426360415953185 \n",
      "Iter 1400/1500 - loss: 5.023960552712067 \n",
      "Iter 1500/1500 - loss: 5.23719425799356 \n",
      "The training accuracy is given by : 36.66326530612245\n",
      "The validation accuracy is given by : 36.6\n",
      "The testing accuracy is given by : 36.7\n",
      "Best val accuracy:39.6\n",
      "done\n",
      "\n",
      "Hyperparameters- learning_rate: 3e-07, regularization: 40000.0\n",
      "Iter 100/1500 - loss: 60.372801421741244 \n",
      "Iter 200/1500 - loss: 10.113670148056993 \n",
      "Iter 300/1500 - loss: 6.084923490272393 \n",
      "Iter 400/1500 - loss: 5.373306082175636 \n",
      "Iter 500/1500 - loss: 5.113041797797449 \n",
      "Iter 600/1500 - loss: 5.534320691794702 \n",
      "Iter 700/1500 - loss: 5.840032653252069 \n",
      "Iter 800/1500 - loss: 5.262968242998153 \n",
      "Iter 900/1500 - loss: 5.522285334837862 \n",
      "Iter 1000/1500 - loss: 5.166432626933429 \n",
      "Iter 1100/1500 - loss: 5.186925187252867 \n",
      "Iter 1200/1500 - loss: 5.185908303971394 \n",
      "Iter 1300/1500 - loss: 6.102127209139216 \n",
      "Iter 1400/1500 - loss: 5.291032061141669 \n",
      "Iter 1500/1500 - loss: 5.188723442840924 \n",
      "The training accuracy is given by : 36.73061224489796\n",
      "The validation accuracy is given by : 38.3\n",
      "The testing accuracy is given by : 37.1\n",
      "Best val accuracy:39.6\n",
      "done\n",
      "\n",
      "Hyperparameters- learning_rate: 3e-07, regularization: 50000.0\n",
      "Iter 100/1500 - loss: 42.897205530436764 \n",
      "Iter 200/1500 - loss: 7.107390588402285 \n",
      "Iter 300/1500 - loss: 5.243204409044332 \n",
      "Iter 400/1500 - loss: 5.6011746826707 \n",
      "Iter 500/1500 - loss: 6.066260104020829 \n",
      "Iter 600/1500 - loss: 5.429693854413044 \n",
      "Iter 700/1500 - loss: 5.55079426875121 \n",
      "Iter 800/1500 - loss: 5.733387592573495 \n",
      "Iter 900/1500 - loss: 5.472690398908249 \n",
      "Iter 1000/1500 - loss: 5.316418331976307 \n",
      "Iter 1100/1500 - loss: 5.723993100615442 \n",
      "Iter 1200/1500 - loss: 5.14195206134197 \n",
      "Iter 1300/1500 - loss: 5.224943564838895 \n",
      "Iter 1400/1500 - loss: 5.639724183790904 \n",
      "Iter 1500/1500 - loss: 5.789316875942884 \n",
      "The training accuracy is given by : 34.63469387755102\n",
      "The validation accuracy is given by : 36.1\n",
      "The testing accuracy is given by : 32.7\n",
      "Best val accuracy:39.6\n",
      "done\n",
      "\n",
      "Hyperparameters- learning_rate: 3e-07, regularization: 60000.0\n",
      "Iter 100/1500 - loss: 30.65374032121384 \n",
      "Iter 200/1500 - loss: 5.9045977596640675 \n",
      "Iter 300/1500 - loss: 5.4334908743726285 \n",
      "Iter 400/1500 - loss: 5.576472502552001 \n",
      "Iter 500/1500 - loss: 5.325721965005291 \n",
      "Iter 600/1500 - loss: 5.4076770731905315 \n",
      "Iter 700/1500 - loss: 5.22125897839054 \n",
      "Iter 800/1500 - loss: 5.630258470017033 \n",
      "Iter 900/1500 - loss: 5.527342955490425 \n",
      "Iter 1000/1500 - loss: 5.748299740381197 \n",
      "Iter 1100/1500 - loss: 5.074593865963298 \n",
      "Iter 1200/1500 - loss: 5.457675484892827 \n",
      "Iter 1300/1500 - loss: 5.752635664350033 \n",
      "Iter 1400/1500 - loss: 5.959331566014684 \n",
      "Iter 1500/1500 - loss: 5.7265916452467716 \n",
      "The training accuracy is given by : 35.538775510204076\n",
      "The validation accuracy is given by : 36.3\n",
      "The testing accuracy is given by : 34.300000000000004\n",
      "Best val accuracy:39.6\n",
      "done\n",
      "\n",
      "Hyperparameters- learning_rate: 3e-07, regularization: 70000.0\n",
      "Iter 100/1500 - loss: 21.641079142857848 \n",
      "Iter 200/1500 - loss: 5.789216033809733 \n",
      "Iter 300/1500 - loss: 5.210316174164603 \n",
      "Iter 400/1500 - loss: 5.63176702146798 \n",
      "Iter 500/1500 - loss: 5.174282048762236 \n",
      "Iter 600/1500 - loss: 5.799418889165902 \n",
      "Iter 700/1500 - loss: 6.008383274902601 \n",
      "Iter 800/1500 - loss: 5.754918098979679 \n",
      "Iter 900/1500 - loss: 5.295918678077596 \n",
      "Iter 1000/1500 - loss: 5.770347437851592 \n",
      "Iter 1100/1500 - loss: 5.821732474239743 \n",
      "Iter 1200/1500 - loss: 5.599369921859189 \n",
      "Iter 1300/1500 - loss: 5.6130100890925 \n",
      "Iter 1400/1500 - loss: 5.567925549971175 \n",
      "Iter 1500/1500 - loss: 4.957570771026341 \n",
      "The training accuracy is given by : 34.70204081632653\n",
      "The validation accuracy is given by : 35.8\n",
      "The testing accuracy is given by : 36.1\n",
      "Best val accuracy:39.6\n",
      "done\n",
      "\n",
      "Hyperparameters- learning_rate: 3e-07, regularization: 80000.0\n",
      "Iter 100/1500 - loss: 15.401438106145168 \n",
      "Iter 200/1500 - loss: 5.620604324442103 \n",
      "Iter 300/1500 - loss: 5.356809706264296 \n",
      "Iter 400/1500 - loss: 6.215428442343331 \n",
      "Iter 500/1500 - loss: 6.6752853481902115 \n",
      "Iter 600/1500 - loss: 5.164710687869233 \n",
      "Iter 700/1500 - loss: 5.548389375530793 \n",
      "Iter 800/1500 - loss: 5.086654234206044 \n",
      "Iter 900/1500 - loss: 5.643151115838995 \n",
      "Iter 1000/1500 - loss: 5.9619998546721416 \n",
      "Iter 1100/1500 - loss: 5.429185486606584 \n",
      "Iter 1200/1500 - loss: 6.025549881261024 \n",
      "Iter 1300/1500 - loss: 5.2339683042793075 \n",
      "Iter 1400/1500 - loss: 5.542480080637834 \n",
      "Iter 1500/1500 - loss: 6.226446322371377 \n",
      "The training accuracy is given by : 34.28163265306122\n",
      "The validation accuracy is given by : 35.0\n",
      "The testing accuracy is given by : 34.300000000000004\n",
      "Best val accuracy:39.6\n",
      "done\n",
      "\n",
      "Hyperparameters- learning_rate: 5e-07, regularization: 10000.0\n",
      "Iter 100/1500 - loss: 63.90711711241547 \n",
      "Iter 200/1500 - loss: 26.445407415964 \n",
      "Iter 300/1500 - loss: 12.70615054824544 \n",
      "Iter 400/1500 - loss: 7.622797494699263 \n",
      "Iter 500/1500 - loss: 5.704143895386112 \n",
      "Iter 600/1500 - loss: 5.11116905823217 \n",
      "Iter 700/1500 - loss: 5.752003094686564 \n",
      "Iter 800/1500 - loss: 5.3611526849868545 \n",
      "Iter 900/1500 - loss: 5.0885036851114105 \n",
      "Iter 1000/1500 - loss: 5.208643119229487 \n",
      "Iter 1100/1500 - loss: 5.60005599648627 \n",
      "Iter 1200/1500 - loss: 5.862328372558631 \n",
      "Iter 1300/1500 - loss: 5.033746988446727 \n",
      "Iter 1400/1500 - loss: 5.218899150419239 \n",
      "Iter 1500/1500 - loss: 5.422372250638299 \n",
      "The training accuracy is given by : 35.7530612244898\n",
      "The validation accuracy is given by : 34.599999999999994\n",
      "The testing accuracy is given by : 34.300000000000004\n",
      "Best val accuracy:39.6\n",
      "done\n",
      "\n",
      "Hyperparameters- learning_rate: 5e-07, regularization: 20000.0\n",
      "Iter 100/1500 - loss: 46.244128192660284 \n",
      "Iter 200/1500 - loss: 10.912315646634914 \n",
      "Iter 300/1500 - loss: 5.935075771807802 \n",
      "Iter 400/1500 - loss: 4.890220712800282 \n",
      "Iter 500/1500 - loss: 4.937725853588678 \n",
      "Iter 600/1500 - loss: 5.4124926262516775 \n",
      "Iter 700/1500 - loss: 5.177204995358679 \n",
      "Iter 800/1500 - loss: 4.695061052005475 \n",
      "Iter 900/1500 - loss: 6.503535879737032 \n",
      "Iter 1000/1500 - loss: 5.721789814203336 \n",
      "Iter 1100/1500 - loss: 5.196937708193492 \n",
      "Iter 1200/1500 - loss: 4.508382531096356 \n",
      "Iter 1300/1500 - loss: 5.268810052304346 \n",
      "Iter 1400/1500 - loss: 5.33862332490839 \n",
      "Iter 1500/1500 - loss: 5.278746223632734 \n",
      "The training accuracy is given by : 34.953061224489794\n",
      "The validation accuracy is given by : 35.099999999999994\n",
      "The testing accuracy is given by : 34.4\n",
      "Best val accuracy:39.6\n",
      "done\n",
      "\n",
      "Hyperparameters- learning_rate: 5e-07, regularization: 30000.0\n",
      "Iter 100/1500 - loss: 27.97031426226267 \n",
      "Iter 200/1500 - loss: 6.795937412098318 \n",
      "Iter 300/1500 - loss: 5.364364627582559 \n",
      "Iter 400/1500 - loss: 5.518083143556875 \n",
      "Iter 500/1500 - loss: 5.248709468454171 \n",
      "Iter 600/1500 - loss: 6.309752362490768 \n",
      "Iter 700/1500 - loss: 5.591759566649895 \n",
      "Iter 800/1500 - loss: 5.680056855599756 \n",
      "Iter 900/1500 - loss: 5.473909614560919 \n",
      "Iter 1000/1500 - loss: 4.880271865068451 \n",
      "Iter 1100/1500 - loss: 5.3936034519127425 \n",
      "Iter 1200/1500 - loss: 5.535020668744522 \n",
      "Iter 1300/1500 - loss: 6.143536960380162 \n",
      "Iter 1400/1500 - loss: 5.278404343604314 \n",
      "Iter 1500/1500 - loss: 5.488891085455686 \n",
      "The training accuracy is given by : 34.63469387755102\n",
      "The validation accuracy is given by : 35.0\n",
      "The testing accuracy is given by : 34.0\n",
      "Best val accuracy:39.6\n",
      "done\n",
      "\n",
      "Hyperparameters- learning_rate: 5e-07, regularization: 40000.0\n",
      "Iter 100/1500 - loss: 16.68689498199898 \n",
      "Iter 200/1500 - loss: 5.818691898455304 \n",
      "Iter 300/1500 - loss: 5.474665480461092 \n",
      "Iter 400/1500 - loss: 5.371996947089492 \n",
      "Iter 500/1500 - loss: 5.117697414438343 \n",
      "Iter 600/1500 - loss: 5.749291261257525 \n",
      "Iter 700/1500 - loss: 5.525905392539427 \n",
      "Iter 800/1500 - loss: 5.20764229822297 \n",
      "Iter 900/1500 - loss: 5.183248960959565 \n",
      "Iter 1000/1500 - loss: 5.714940279257243 \n",
      "Iter 1100/1500 - loss: 6.3856023882542035 \n",
      "Iter 1200/1500 - loss: 5.196541079018763 \n",
      "Iter 1300/1500 - loss: 5.937108989969805 \n",
      "Iter 1400/1500 - loss: 6.011231179231966 \n",
      "Iter 1500/1500 - loss: 6.10281382254486 \n",
      "The training accuracy is given by : 35.35306122448979\n",
      "The validation accuracy is given by : 37.0\n",
      "The testing accuracy is given by : 35.199999999999996\n",
      "Best val accuracy:39.6\n",
      "done\n",
      "\n",
      "Hyperparameters- learning_rate: 5e-07, regularization: 50000.0\n",
      "Iter 100/1500 - loss: 11.092569508891977 \n",
      "Iter 200/1500 - loss: 5.532029920940163 \n",
      "Iter 300/1500 - loss: 6.143154900232865 \n",
      "Iter 400/1500 - loss: 5.721463957138257 \n",
      "Iter 500/1500 - loss: 5.957471466524671 \n",
      "Iter 600/1500 - loss: 5.517117618132929 \n",
      "Iter 700/1500 - loss: 5.677696124564873 \n",
      "Iter 800/1500 - loss: 5.962375075164037 \n",
      "Iter 900/1500 - loss: 6.076793385369417 \n",
      "Iter 1000/1500 - loss: 6.6427003542375 \n",
      "Iter 1100/1500 - loss: 5.52758645911776 \n",
      "Iter 1200/1500 - loss: 5.984690239507855 \n",
      "Iter 1300/1500 - loss: 6.073608719505764 \n",
      "Iter 1400/1500 - loss: 6.069176625601585 \n",
      "Iter 1500/1500 - loss: 5.884157090576826 \n",
      "The training accuracy is given by : 32.86938775510204\n",
      "The validation accuracy is given by : 32.9\n",
      "The testing accuracy is given by : 33.7\n",
      "Best val accuracy:39.6\n",
      "done\n",
      "\n",
      "Hyperparameters- learning_rate: 5e-07, regularization: 60000.0\n",
      "Iter 100/1500 - loss: 7.523307234965308 \n",
      "Iter 200/1500 - loss: 6.379186609352696 \n",
      "Iter 300/1500 - loss: 6.581657936895751 \n",
      "Iter 400/1500 - loss: 5.425015610431163 \n",
      "Iter 500/1500 - loss: 5.7044678781310765 \n",
      "Iter 600/1500 - loss: 5.593830384116982 \n",
      "Iter 700/1500 - loss: 5.7200937294806335 \n",
      "Iter 800/1500 - loss: 5.363498564911166 \n",
      "Iter 900/1500 - loss: 5.913365404825001 \n",
      "Iter 1000/1500 - loss: 6.170227056186198 \n",
      "Iter 1100/1500 - loss: 5.710098476802627 \n",
      "Iter 1200/1500 - loss: 5.41991897621834 \n",
      "Iter 1300/1500 - loss: 5.747330455778441 \n",
      "Iter 1400/1500 - loss: 5.8750574292083915 \n",
      "Iter 1500/1500 - loss: 5.769709270308075 \n",
      "The training accuracy is given by : 32.43469387755102\n",
      "The validation accuracy is given by : 33.4\n",
      "The testing accuracy is given by : 32.5\n",
      "Best val accuracy:39.6\n",
      "done\n",
      "\n",
      "Hyperparameters- learning_rate: 5e-07, regularization: 70000.0\n",
      "Iter 100/1500 - loss: 6.262083667713122 \n",
      "Iter 200/1500 - loss: 5.712669689425825 \n",
      "Iter 300/1500 - loss: 5.821287507939906 \n",
      "Iter 400/1500 - loss: 5.886641039592547 \n",
      "Iter 500/1500 - loss: 5.890666427149158 \n",
      "Iter 600/1500 - loss: 6.041676154874522 \n",
      "Iter 700/1500 - loss: 5.780040174950418 \n",
      "Iter 800/1500 - loss: 6.1890948755773305 \n",
      "Iter 900/1500 - loss: 5.318103361476269 \n",
      "Iter 1000/1500 - loss: 6.242570560658426 \n",
      "Iter 1100/1500 - loss: 5.928356516791042 \n",
      "Iter 1200/1500 - loss: 5.695477477486107 \n",
      "Iter 1300/1500 - loss: 5.85297180443437 \n",
      "Iter 1400/1500 - loss: 5.951108510409653 \n",
      "Iter 1500/1500 - loss: 4.719419574598848 \n",
      "The training accuracy is given by : 34.30612244897959\n",
      "The validation accuracy is given by : 35.3\n",
      "The testing accuracy is given by : 33.7\n",
      "Best val accuracy:39.6\n",
      "done\n",
      "\n",
      "Hyperparameters- learning_rate: 5e-07, regularization: 80000.0\n",
      "Iter 100/1500 - loss: 6.767915185384139 \n",
      "Iter 200/1500 - loss: 6.243651142182358 \n",
      "Iter 300/1500 - loss: 5.70906029439539 \n",
      "Iter 400/1500 - loss: 5.895822538446524 \n",
      "Iter 500/1500 - loss: 5.62182915458531 \n",
      "Iter 600/1500 - loss: 5.92723307064266 \n",
      "Iter 700/1500 - loss: 5.880856209804978 \n",
      "Iter 800/1500 - loss: 6.238766205177544 \n",
      "Iter 900/1500 - loss: 6.010420244136016 \n",
      "Iter 1000/1500 - loss: 5.9026582739851 \n",
      "Iter 1100/1500 - loss: 7.0433529145334655 \n",
      "Iter 1200/1500 - loss: 6.288777309838875 \n",
      "Iter 1300/1500 - loss: 5.799970255700915 \n",
      "Iter 1400/1500 - loss: 5.527592905915281 \n",
      "Iter 1500/1500 - loss: 5.609792473622569 \n",
      "The training accuracy is given by : 32.593877551020405\n",
      "The validation accuracy is given by : 31.8\n",
      "The testing accuracy is given by : 31.8\n",
      "Best val accuracy:39.6\n",
      "done\n",
      "\n"
     ],
     "name": "stdout"
    }
   ]
  },
  {
   "cell_type": "code",
   "metadata": {
    "id": "3RPdEgbi3MGP",
    "executionInfo": {
     "status": "ok",
     "timestamp": 1600384279540,
     "user_tz": 240,
     "elapsed": 415,
     "user": {
      "displayName": "Vaibhav Sundharam",
      "photoUrl": "https://lh3.googleusercontent.com/a-/AOh14Ggf8pEKCJrbRi4ZfFzswWvQ_sKdbph3iOABmyAS=s64",
      "userId": "08654959544633965355"
     }
    },
    "outputId": "89689419-b806-4df7-8b9f-ef03911ed715",
    "colab": {
     "base_uri": "https://localhost:8080/",
     "height": 72
    }
   },
   "source": [
    "print(f\"Results: {results}\")\n",
    "pred_svm = best_svm.predict(X_test)\n",
    "print('The best testing accuracy is given by : %f' % (get_acc(pred_svm, y_test)))"
   ],
   "execution_count": null,
   "outputs": [
    {
     "output_type": "stream",
     "text": [
      "Results: {(1e-08, 10000.0): 25.0, (1e-08, 20000.0): 24.8, (1e-08, 30000.0): 24.3, (1e-08, 40000.0): 23.599999999999998, (1e-08, 50000.0): 27.6, (1e-08, 60000.0): 26.5, (1e-08, 70000.0): 26.3, (1e-08, 80000.0): 28.999999999999996, (1e-07, 10000.0): 38.800000000000004, (1e-07, 20000.0): 39.6, (1e-07, 30000.0): 38.3, (1e-07, 40000.0): 38.800000000000004, (1e-07, 50000.0): 38.6, (1e-07, 60000.0): 35.199999999999996, (1e-07, 70000.0): 38.0, (1e-07, 80000.0): 37.9, (3e-07, 10000.0): 37.3, (3e-07, 20000.0): 39.1, (3e-07, 30000.0): 36.6, (3e-07, 40000.0): 38.3, (3e-07, 50000.0): 36.1, (3e-07, 60000.0): 36.3, (3e-07, 70000.0): 35.8, (3e-07, 80000.0): 35.0, (5e-07, 10000.0): 34.599999999999994, (5e-07, 20000.0): 35.099999999999994, (5e-07, 30000.0): 35.0, (5e-07, 40000.0): 37.0, (5e-07, 50000.0): 32.9, (5e-07, 60000.0): 33.4, (5e-07, 70000.0): 35.3, (5e-07, 80000.0): 31.8}\n",
      "The best testing accuracy is given by : 37.300000\n"
     ],
     "name": "stdout"
    }
   ]
  },
  {
   "cell_type": "markdown",
   "metadata": {
    "id": "SplDAGHokHVS"
   },
   "source": [
    "### Visualization\n",
    "Visualize the weights of your best model. "
   ]
  },
  {
   "cell_type": "code",
   "metadata": {
    "id": "SFyew7_IkHVT",
    "executionInfo": {
     "status": "ok",
     "timestamp": 1600386566609,
     "user_tz": 240,
     "elapsed": 1168,
     "user": {
      "displayName": "Vaibhav Sundharam",
      "photoUrl": "https://lh3.googleusercontent.com/a-/AOh14Ggf8pEKCJrbRi4ZfFzswWvQ_sKdbph3iOABmyAS=s64",
      "userId": "08654959544633965355"
     }
    },
    "outputId": "ce12ee73-d753-47cc-9000-3a3b9408ae48",
    "colab": {
     "base_uri": "https://localhost:8080/",
     "height": 223
    }
   },
   "source": [
    "# Visualize the learned weights for each class.\n",
    "# Hint: reshape your weights (w/o bias) to (32, 32, 3, 10), then use min-max normalization and rescale them back to 0-255.\n",
    "classes = ['plane', 'car', 'bird', 'cat', 'deer', 'dog', 'frog', 'horse', 'ship', 'truck']\n",
    "#print(best_svm.w.shape)\n",
    "best_weights = best_svm.w[:-1, :]\n",
    "best_weights = best_weights.reshape(32,32,3,10)\n",
    "best_weights_min, best_weights_max = np.min(best_weights), np.max(best_weights)\n",
    "\n",
    "# plot for each class\n",
    "for i in range(len(classes)):\n",
    "  plt.subplot(2, 5, i + 1) \n",
    "  img = 255.0 * (best_weights[:, :, :, i].squeeze() - best_weights_min) / (best_weights_max - best_weights_min)\n",
    "  plt.imshow(img.astype('uint8'))\n",
    "  plt.axis('off')\n",
    "  plt.title(classes[i])"
   ],
   "execution_count": null,
   "outputs": [
    {
     "output_type": "display_data",
     "data": {
      "image/png": "[encoded data removed]",
      "text/plain": [
       "<Figure size 432x288 with 10 Axes>"
      ]
     },
     "metadata": {
      "tags": [],
      "needs_background": "light"
     }
    }
   ]
  },
  {
   "cell_type": "markdown",
   "metadata": {
    "id": "bX8SlMMEkHVW"
   },
   "source": [
    "Describe what your visualized SVM weights look like, and offer a brief explanation for why they look the way that they do."
   ]
  },
  {
   "cell_type": "markdown",
   "metadata": {
    "id": "vRxCYC7ukHVW"
   },
   "source": [
    "Your comments: It appears that the weights are like a template and the SVM algorithm tries to best match the given input image with one of the templates. For example, the car template looks somewhat like a car. Also, if we look at the ship template, it seems that there is some object in the middle surrounded by blue color, which could imply water. "
   ]
  },
  {
   "cell_type": "markdown",
   "metadata": {
    "id": "AciM6hx4kHVX"
   },
   "source": [
    "# Section 2. Softmax Classifier (with SGD)"
   ]
  },
  {
   "cell_type": "markdown",
   "metadata": {
    "collapsed": true,
    "id": "YUVCWZ_BkHVY"
   },
   "source": [
    "Next, you will train a Softmax classifier. This classifier consists of a linear function of the input data followed by a softmax function which outputs a vector of dimension C (number of classes) for each data point. Each entry of the softmax output vector corresponds to a confidence in one of the C classes, and like a probability distribution, the entries of the output vector sum to 1. \n",
    "\n",
    "## Section 2.1. Implement the Softmax Classifier\n",
    "Recall that, from the lecture, we can write down the loss function as:\n",
    "\\begin{align}\n",
    "\\begin{gathered}\n",
    "s=f(x_i, W) \\\\\n",
    "L_i = -\\log\\left({\\frac{e^{s_{y_i}}} {\\sum_j e^{s_j}} }\\right)\n",
    "\\end{gathered}\n",
    "\\end{align}\n",
    "\n",
    "And, through some calculations, we can obtain the expression for the gradient:\n",
    "\\begin{align}\n",
    "\\nabla_{w_{l}} L_i = \\left(\\frac{e^{w_l^Tx_i}} {\\sum_j e^{w_j^Tx_i}} - \\mathbb{I}\\left(y_i=l\\right)\\right) x_i\\\\\n",
    "\\end{align}\n"
   ]
  },
  {
   "cell_type": "markdown",
   "metadata": {
    "id": "ALnkKF2akHVZ"
   },
   "source": [
    "The softmax classifier also has 3 hyperparameters that you can experiment with :\n",
    "- `lr` - the learning rate of your model. This parameter scales by how much the weights are changed according to the calculated gradient update\n",
    "- `n_iter` - the number of training batches you are gonna use for updating your model.\n",
    "- `reg_const` - Hyperparameter to determine the strength of regularization. In this case it is a coefficient on the term which maximizes the margin."
   ]
  },
  {
   "cell_type": "markdown",
   "metadata": {
    "id": "PfAXAo7kkHVa"
   },
   "source": [
    "Same as the previous section, we provide a template for you to implement your classifier:"
   ]
  },
  {
   "cell_type": "code",
   "metadata": {
    "id": "g-AvM9qqkHVa"
   },
   "source": [
    " class Softmax_Classfier():\n",
    "    def __init__(self, input_size, output_size):\n",
    "        \"\"\"\n",
    "        Initialises Softmax classifier with initializing \n",
    "        weights, alpha(learning rate), number of epochs\n",
    "        and regularization constant.\n",
    "        \"\"\"\n",
    "        self.input_size = input_size\n",
    "        self.output_size = output_size\n",
    "        self.w = np.random.randn(input_size, output_size) * 0.001\n",
    "    \n",
    "    def softmax(self, logits, esp=1e-7):\n",
    "        ################################################################################\n",
    "        # TODO:                                                                        #\n",
    "        # Implement the softmax function here.                                         #\n",
    "        ################################################################################\n",
    "        scores = np.exp(logits)\n",
    "        probs = scores / np.sum(scores, axis=1, keepdims=True)        \n",
    "        ################################################################################\n",
    "        #                                 END OF YOUR CODE                             #\n",
    "        ################################################################################\n",
    "        return probs\n",
    "    \n",
    "    def calc_grad_and_loss(self, X_train, y_train, reg_const):\n",
    "        \"\"\"\n",
    "          Calculate gradient of the svm hinge loss.\n",
    "          \n",
    "          Inputs have dimension D, there are C classes, and we operate on minibatches\n",
    "          of N examples.\n",
    "\n",
    "          Inputs:\n",
    "          - X_train: A numpy array of shape (N, D) containing a minibatch of data.\n",
    "          - y_train: A numpy array of shape (N,) containing training labels; y[i] = c means\n",
    "            that X[i] has label c, where 0 <= c < C.\n",
    "          - reg: A float number Regularization strength;\n",
    "\n",
    "          Returns:\n",
    "          - gradient with respect to weights w; an array of same shape as w;\n",
    "          - multi-class SVM loss;\n",
    "         \"\"\" \n",
    "        ################################################################################\n",
    "        # TODO:                                                                        #\n",
    "        # Calculate the loss and gradient for the SVM classifier.                      #\n",
    "        ################################################################################\n",
    "        # Loss\n",
    "        num_train = X_train.shape[0]   \n",
    "        scores = np.dot(X_train, self.w)       \n",
    "        scores_softmax = self.softmax(scores)        \n",
    "        loss = -np.log(scores_softmax)        \n",
    "        loss = loss[np.arange(num_train), y_train]\n",
    "        loss = np.sum(loss)\n",
    "        loss /=num_train\n",
    "        loss += 0.5*reg_const*np.sum(self.w*self.w) \n",
    "        #print(loss) \n",
    "\n",
    "        #Gradient\n",
    "        temp = scores_softmax\n",
    "        temp[np.arange(num_train),y_train] =-1\n",
    "        grad_w = np.dot(X_train.T, temp)\n",
    "        grad_w /=num_train\n",
    "        grad_w += reg_const*self.w       \n",
    "        ################################################################################\n",
    "        #                                 END OF YOUR CODE                             #\n",
    "        ################################################################################\n",
    "        return grad_w, loss\n",
    "        \n",
    "    def train(self, X_train, y_train, lr=0.01, reg_const=0.05, \n",
    "              n_iters=1500, batch_size=200):\n",
    "        \"\"\"\n",
    "        Train softmax classifier by taking one Stochastic Gradient Descent update\n",
    "        on the input minibatch.\n",
    "\n",
    "        Inputs:\n",
    "        - X_train: A numpy array of shape (N, D) containing training data;\n",
    "        N examples with D dimensions\n",
    "        - y_train: A numpy array of shape (N,) containing training labels;\n",
    "        - lr: A float number learning rate;\n",
    "        - reg_const: A float number Regularization strength;\n",
    "        - n_iters: An integer number indicating the number of training iteration;\n",
    "        - batch_size: An integer indicating the number of samples per batch;\n",
    "        Returns:\n",
    "        - loss: Loss for this particular input batch.\n",
    "        \"\"\"\n",
    "        loss_hist = []\n",
    "\n",
    "        for i in range(n_iter):\n",
    "            batch_indices = np.random.choice(len(X_train), batch_size)\n",
    "            X_batch = X_train[batch_indices]\n",
    "            y_batch = y_train[batch_indices]\n",
    "            grad, loss = self.calc_grad_and_loss(X_batch, y_batch, reg_const)\n",
    "            self.w -= lr * grad\n",
    "            if (i + 1) % 100 == 0:\n",
    "                print(f'Iter {i+1}/{n_iter} - loss: {loss} ')\n",
    "            loss_hist.append(loss)\n",
    "        return loss_hist\n",
    "\n",
    "    def predict(self, X_test):\n",
    "        \"\"\"\n",
    "        Use the trained weights of svm classifier to predict labels for\n",
    "        data points.\n",
    "\n",
    "        Inputs:\n",
    "        - X_test: A numpy array of shape (N, D) containing training data; there are N\n",
    "          training samples each of dimension D.\n",
    "\n",
    "        Returns:\n",
    "        - pred: Predicted labels for the data in X_test. pred is a 1-dimensional\n",
    "          array of length N, and each element is an integer giving the predicted\n",
    "          class.\n",
    "        \"\"\"\n",
    "        ################################################################################\n",
    "        # TODO:                                                                        #\n",
    "        # Make a prediction based on your classifier weights                           #\n",
    "        ################################################################################\n",
    "        \n",
    "        #pred = np.argmax(self.softmax(np.dot(X_test, self.w)),axis=1)  \n",
    "        pred = np.argmax(self.softmax(np.dot(X_test, self.w)), axis =1)        \n",
    "        ################################################################################\n",
    "        #                                 END OF YOUR CODE                             #\n",
    "        ################################################################################\n",
    "        return pred\n"
   ],
   "execution_count": null,
   "outputs": []
  },
  {
   "cell_type": "code",
   "metadata": {
    "id": "bt3JLcxekHVd",
    "executionInfo": {
     "status": "ok",
     "timestamp": 1600384322845,
     "user_tz": 240,
     "elapsed": 5981,
     "user": {
      "displayName": "Vaibhav Sundharam",
      "photoUrl": "https://lh3.googleusercontent.com/a-/AOh14Ggf8pEKCJrbRi4ZfFzswWvQ_sKdbph3iOABmyAS=s64",
      "userId": "08654959544633965355"
     }
    },
    "outputId": "9c241f63-4291-45a1-ed11-48797ef6c389",
    "colab": {
     "base_uri": "https://localhost:8080/",
     "height": 277
    }
   },
   "source": [
    "n_iter = 1500\n",
    "batch_size = 200\n",
    "num_classes = np.max(y_train) + 1\n",
    "num_features = X_train.shape[1]\n",
    "softmax_classifier = Softmax_Classfier(num_features, num_classes)\n",
    "loss_hist = softmax_classifier.train(X_train, y_train, lr=1e-7, reg_const=5e3, n_iters=1500, batch_size=batch_size)"
   ],
   "execution_count": null,
   "outputs": [
    {
     "output_type": "stream",
     "text": [
      "Iter 100/1500 - loss: 74.0236719170772 \n",
      "Iter 200/1500 - loss: 66.76218628305622 \n",
      "Iter 300/1500 - loss: 60.39372813379031 \n",
      "Iter 400/1500 - loss: 54.810422399445244 \n",
      "Iter 500/1500 - loss: 49.438247107959555 \n",
      "Iter 600/1500 - loss: 44.85553863953817 \n",
      "Iter 700/1500 - loss: 41.073111201364526 \n",
      "Iter 800/1500 - loss: 36.93948839791927 \n",
      "Iter 900/1500 - loss: 34.06224688172821 \n",
      "Iter 1000/1500 - loss: 30.498682193492687 \n",
      "Iter 1100/1500 - loss: 28.1398984456943 \n",
      "Iter 1200/1500 - loss: 25.539610022179524 \n",
      "Iter 1300/1500 - loss: 23.154986907993454 \n",
      "Iter 1400/1500 - loss: 21.083382393566925 \n",
      "Iter 1500/1500 - loss: 19.128983084838374 \n"
     ],
     "name": "stdout"
    }
   ]
  },
  {
   "cell_type": "markdown",
   "metadata": {
    "id": "2A-u7a8XkHVh"
   },
   "source": [
    "Again, plot the loss:"
   ]
  },
  {
   "cell_type": "code",
   "metadata": {
    "id": "voimEniWkHVi",
    "executionInfo": {
     "status": "ok",
     "timestamp": 1600384323174,
     "user_tz": 240,
     "elapsed": 3189,
     "user": {
      "displayName": "Vaibhav Sundharam",
      "photoUrl": "https://lh3.googleusercontent.com/a-/AOh14Ggf8pEKCJrbRi4ZfFzswWvQ_sKdbph3iOABmyAS=s64",
      "userId": "08654959544633965355"
     }
    },
    "outputId": "e1af6226-c41f-4ba0-dc59-9356facbeca8",
    "colab": {
     "base_uri": "https://localhost:8080/",
     "height": 279
    }
   },
   "source": [
    "plt.plot(loss_hist);\n",
    "plt.ylabel('loss');\n",
    "plt.xlabel('iteration');"
   ],
   "execution_count": null,
   "outputs": [
    {
     "output_type": "display_data",
     "data": {
      "image/png": "[encoded data removed]",
      "text/plain": [
       "<Figure size 432x288 with 1 Axes>"
      ]
     },
     "metadata": {
      "tags": [],
      "needs_background": "light"
     }
    }
   ]
  },
  {
   "cell_type": "markdown",
   "metadata": {
    "id": "kU0A4LrlkHVl"
   },
   "source": [
    "### Accuracy?\n",
    "If the Softmax Classifier is implemented correctly, you shuold get an accuracy around 29%."
   ]
  },
  {
   "cell_type": "code",
   "metadata": {
    "id": "5BDtqOr5kHVl",
    "executionInfo": {
     "status": "ok",
     "timestamp": 1600384325004,
     "user_tz": 240,
     "elapsed": 787,
     "user": {
      "displayName": "Vaibhav Sundharam",
      "photoUrl": "https://lh3.googleusercontent.com/a-/AOh14Ggf8pEKCJrbRi4ZfFzswWvQ_sKdbph3iOABmyAS=s64",
      "userId": "08654959544633965355"
     }
    },
    "outputId": "f4956082-ef42-471d-e456-60092f5ac52d",
    "colab": {
     "base_uri": "https://localhost:8080/",
     "height": 52
    }
   },
   "source": [
    "pred_softmax = softmax_classifier.predict(X_train)\n",
    "print('The training accuracy is given by : %f' % (get_acc(pred_softmax, y_train)))\n",
    "pred_softmax = softmax_classifier.predict(X_val)\n",
    "print('The validation accuracy is given by : %f' % (get_acc(pred_softmax, y_val)))"
   ],
   "execution_count": null,
   "outputs": [
    {
     "output_type": "stream",
     "text": [
      "The training accuracy is given by : 32.304082\n",
      "The validation accuracy is given by : 33.100000\n"
     ],
     "name": "stdout"
    }
   ]
  },
  {
   "cell_type": "markdown",
   "metadata": {
    "id": "7Q-a19XQkHVp"
   },
   "source": [
    "## Section 2.1. Improve your Softmax Classifier\n",
    "Again, try to improve the accuracy of your classifier. You can perform hyperparameter search with cross-validation, or conduct some extra preprocessing on the data. **Note that you should never use the `X_test` and `y_test` for tuning your model.** In addition, <span style=\"color:red\">**We expect to see an accuracy around 34% after the improvement.**</span>\n"
   ]
  },
  {
   "cell_type": "markdown",
   "metadata": {
    "id": "geg14HnZ132k"
   },
   "source": [
    "a) Increasing the number of iterations"
   ]
  },
  {
   "cell_type": "code",
   "metadata": {
    "id": "-4OqRE4SkHVp",
    "executionInfo": {
     "status": "ok",
     "timestamp": 1600384359703,
     "user_tz": 240,
     "elapsed": 16780,
     "user": {
      "displayName": "Vaibhav Sundharam",
      "photoUrl": "https://lh3.googleusercontent.com/a-/AOh14Ggf8pEKCJrbRi4ZfFzswWvQ_sKdbph3iOABmyAS=s64",
      "userId": "08654959544633965355"
     }
    },
    "outputId": "fd9a6f72-0b83-4e43-ed42-0cd10243d75d",
    "colab": {
     "base_uri": "https://localhost:8080/",
     "height": 971
    }
   },
   "source": [
    "n_iter = 5500\n",
    "batch_size = 200\n",
    "num_classes = np.max(y_train) + 1\n",
    "num_features = X_train.shape[1]\n",
    "softmax_classifier = Softmax_Classfier(num_features, num_classes)\n",
    "loss_hist = softmax_classifier.train(X_train, y_train, lr=1e-7, reg_const=5e3, n_iters=n_iter, batch_size=batch_size)"
   ],
   "execution_count": null,
   "outputs": [
    {
     "output_type": "stream",
     "text": [
      "Iter 100/5500 - loss: 72.55323363908478 \n",
      "Iter 200/5500 - loss: 65.71440472022846 \n",
      "Iter 300/5500 - loss: 59.371341693743176 \n",
      "Iter 400/5500 - loss: 54.15852501030462 \n",
      "Iter 500/5500 - loss: 48.490939156083456 \n",
      "Iter 600/5500 - loss: 43.878959837845755 \n",
      "Iter 700/5500 - loss: 40.022353083947465 \n",
      "Iter 800/5500 - loss: 36.634524682665685 \n",
      "Iter 900/5500 - loss: 33.08180108594665 \n",
      "Iter 1000/5500 - loss: 30.22357366026987 \n",
      "Iter 1100/5500 - loss: 27.266942864428856 \n",
      "Iter 1200/5500 - loss: 25.134902574031145 \n",
      "Iter 1300/5500 - loss: 22.836952377147163 \n",
      "Iter 1400/5500 - loss: 20.755746820472645 \n",
      "Iter 1500/5500 - loss: 18.99993612864368 \n",
      "Iter 1600/5500 - loss: 17.403066683488305 \n",
      "Iter 1700/5500 - loss: 15.860858957888713 \n",
      "Iter 1800/5500 - loss: 14.641450693322376 \n",
      "Iter 1900/5500 - loss: 13.364039740988009 \n",
      "Iter 2000/5500 - loss: 12.39678203421278 \n",
      "Iter 2100/5500 - loss: 11.319214023689447 \n",
      "Iter 2200/5500 - loss: 10.432662194992986 \n",
      "Iter 2300/5500 - loss: 9.745577505596813 \n",
      "Iter 2400/5500 - loss: 8.884311730414858 \n",
      "Iter 2500/5500 - loss: 8.395094847138228 \n",
      "Iter 2600/5500 - loss: 7.508661965053067 \n",
      "Iter 2700/5500 - loss: 7.086882216046141 \n",
      "Iter 2800/5500 - loss: 6.623171262331774 \n",
      "Iter 2900/5500 - loss: 6.469742035981952 \n",
      "Iter 3000/5500 - loss: 5.892203562246055 \n",
      "Iter 3100/5500 - loss: 5.39571473846368 \n",
      "Iter 3200/5500 - loss: 5.250594240659054 \n",
      "Iter 3300/5500 - loss: 4.921702447572557 \n",
      "Iter 3400/5500 - loss: 4.516695433351385 \n",
      "Iter 3500/5500 - loss: 4.493861177820444 \n",
      "Iter 3600/5500 - loss: 4.023932479657366 \n",
      "Iter 3700/5500 - loss: 4.250060844379817 \n",
      "Iter 3800/5500 - loss: 3.7179739305071826 \n",
      "Iter 3900/5500 - loss: 3.6005507309142217 \n",
      "Iter 4000/5500 - loss: 3.5089156386116667 \n",
      "Iter 4100/5500 - loss: 3.382798220880332 \n",
      "Iter 4200/5500 - loss: 3.2332070379985867 \n",
      "Iter 4300/5500 - loss: 3.158666716431304 \n",
      "Iter 4400/5500 - loss: 3.2329323931182596 \n",
      "Iter 4500/5500 - loss: 3.053981511598363 \n",
      "Iter 4600/5500 - loss: 2.9757627802306814 \n",
      "Iter 4700/5500 - loss: 2.798069699888918 \n",
      "Iter 4800/5500 - loss: 2.5889059451451977 \n",
      "Iter 4900/5500 - loss: 2.9253014192095756 \n",
      "Iter 5000/5500 - loss: 2.694564613137688 \n",
      "Iter 5100/5500 - loss: 2.622222644036566 \n",
      "Iter 5200/5500 - loss: 2.3901059363490096 \n",
      "Iter 5300/5500 - loss: 2.49962730554787 \n",
      "Iter 5400/5500 - loss: 2.650849024932714 \n",
      "Iter 5500/5500 - loss: 2.5964903139532836 \n"
     ],
     "name": "stdout"
    }
   ]
  },
  {
   "cell_type": "code",
   "metadata": {
    "id": "hy-_3xU3kHVu",
    "executionInfo": {
     "status": "ok",
     "timestamp": 1600384359704,
     "user_tz": 240,
     "elapsed": 7760,
     "user": {
      "displayName": "Vaibhav Sundharam",
      "photoUrl": "https://lh3.googleusercontent.com/a-/AOh14Ggf8pEKCJrbRi4ZfFzswWvQ_sKdbph3iOABmyAS=s64",
      "userId": "08654959544633965355"
     }
    },
    "outputId": "f2738728-2bed-4f61-ed97-de730d1190eb",
    "colab": {
     "base_uri": "https://localhost:8080/",
     "height": 35
    }
   },
   "source": [
    "pred_softmax = softmax_classifier.predict(X_test)\n",
    "print('The testing accuracy is given by : %f' % (get_acc(pred_softmax, y_test)))"
   ],
   "execution_count": null,
   "outputs": [
    {
     "output_type": "stream",
     "text": [
      "The testing accuracy is given by : 37.600000\n"
     ],
     "name": "stdout"
    }
   ]
  },
  {
   "cell_type": "markdown",
   "metadata": {
    "id": "AHHwhliW2Wvs"
   },
   "source": [
    "b) Grid search"
   ]
  },
  {
   "cell_type": "code",
   "metadata": {
    "id": "t2wP_iIe2Zbf",
    "executionInfo": {
     "status": "ok",
     "timestamp": 1600384457715,
     "user_tz": 240,
     "elapsed": 95787,
     "user": {
      "displayName": "Vaibhav Sundharam",
      "photoUrl": "https://lh3.googleusercontent.com/a-/AOh14Ggf8pEKCJrbRi4ZfFzswWvQ_sKdbph3iOABmyAS=s64",
      "userId": "08654959544633965355"
     }
    },
    "outputId": "0930e6a8-cbb6-4fb3-cc31-da5d90c9296c",
    "colab": {
     "base_uri": "https://localhost:8080/",
     "height": 1000
    }
   },
   "source": [
    "learning_rates = [1e-8, 1e-7, 3e-7, 5e-7]\n",
    "regularization = [1e4, 2e4, 3e4, 4e4, 5e4, 6e4, 7e4, 8e4]\n",
    "n_iter = 1500\n",
    "batch_size = 100\n",
    "num_classes = np.max(y_train) + 1\n",
    "num_features = X_train.shape[1]\n",
    "best_validation_accuracy = -1\n",
    "results ={}\n",
    "for l in learning_rates:  \n",
    "  for r in regularization:\n",
    "    softmax_classifier = Softmax_Classfier(num_features, num_classes)\n",
    "    print(f\"Hyperparameters- learning_rate: {l}, regularization: {r}\")\n",
    "    loss_hist = softmax_classifier.train(X_train, y_train, lr=l, reg_const=r, n_iters=n_iter, batch_size=batch_size)\n",
    "\n",
    "    pred_svm = softmax_classifier.predict(X_train)\n",
    "    print(f\"The training accuracy is given by : {get_acc(pred_svm, y_train)}\")\n",
    "\n",
    "    pred_svm = softmax_classifier.predict(X_val)\n",
    "    validation_accuracy = get_acc(pred_svm, y_val)    \n",
    "    print(f\"The validation accuracy is given by : {validation_accuracy}\")\n",
    "    \n",
    "    pred_svm = softmax_classifier.predict(X_test)\n",
    "    test_accuracy = get_acc(pred_svm, y_test)    \n",
    "    print(f\"The testing accuracy is given by : {test_accuracy}\")\n",
    "\n",
    "    results[(l, r)] = validation_accuracy\n",
    "\n",
    "    if validation_accuracy > best_validation_accuracy:\n",
    "      best_validation_accuracy = validation_accuracy\n",
    "      best_softmax = softmax_classifier\n",
    "    print(f\"Best val accuracy:{best_validation_accuracy}\")\n",
    "    print(\"done\\n\")\n"
   ],
   "execution_count": null,
   "outputs": [
    {
     "output_type": "stream",
     "text": [
      "Hyperparameters- learning_rate: 1e-08, regularization: 10000.0\n",
      "Iter 100/1500 - loss: 157.60164530551535 \n",
      "Iter 200/1500 - loss: 153.83509799575714 \n",
      "Iter 300/1500 - loss: 150.38680493539655 \n",
      "Iter 400/1500 - loss: 147.58065771244492 \n",
      "Iter 500/1500 - loss: 144.4394605695232 \n",
      "Iter 600/1500 - loss: 141.094805112274 \n",
      "Iter 700/1500 - loss: 138.9767937688504 \n",
      "Iter 800/1500 - loss: 135.90745126954278 \n",
      "Iter 900/1500 - loss: 132.68450873827499 \n",
      "Iter 1000/1500 - loss: 129.77404334938612 \n",
      "Iter 1100/1500 - loss: 127.71201180880904 \n",
      "Iter 1200/1500 - loss: 124.97931115813635 \n",
      "Iter 1300/1500 - loss: 122.4966718060089 \n",
      "Iter 1400/1500 - loss: 120.34198905148361 \n",
      "Iter 1500/1500 - loss: 117.56773443228636 \n",
      "The training accuracy is given by : 17.82857142857143\n",
      "The validation accuracy is given by : 18.2\n",
      "The testing accuracy is given by : 20.3\n",
      "Best val accuracy:18.2\n",
      "done\n",
      "\n",
      "Hyperparameters- learning_rate: 1e-08, regularization: 20000.0\n",
      "Iter 100/1500 - loss: 301.5205982487037 \n",
      "Iter 200/1500 - loss: 289.7394873269031 \n",
      "Iter 300/1500 - loss: 278.6639712616451 \n",
      "Iter 400/1500 - loss: 266.75554733053417 \n",
      "Iter 500/1500 - loss: 256.33148752527023 \n",
      "Iter 600/1500 - loss: 246.48987977204303 \n",
      "Iter 700/1500 - loss: 236.6507909414339 \n",
      "Iter 800/1500 - loss: 227.31982941998697 \n",
      "Iter 900/1500 - loss: 218.09489568258888 \n",
      "Iter 1000/1500 - loss: 210.25484348562455 \n",
      "Iter 1100/1500 - loss: 201.59928368749252 \n",
      "Iter 1200/1500 - loss: 193.69098382689427 \n",
      "Iter 1300/1500 - loss: 186.09173561364057 \n",
      "Iter 1400/1500 - loss: 179.01362799672205 \n",
      "Iter 1500/1500 - loss: 171.8949097352764 \n",
      "The training accuracy is given by : 20.1265306122449\n",
      "The validation accuracy is given by : 20.8\n",
      "The testing accuracy is given by : 21.8\n",
      "Best val accuracy:20.8\n",
      "done\n",
      "\n",
      "Hyperparameters- learning_rate: 1e-08, regularization: 30000.0\n",
      "Iter 100/1500 - loss: 439.44691635233073 \n",
      "Iter 200/1500 - loss: 413.7138678584162 \n",
      "Iter 300/1500 - loss: 389.3692759688092 \n",
      "Iter 400/1500 - loss: 366.546487305781 \n",
      "Iter 500/1500 - loss: 345.2415043671125 \n",
      "Iter 600/1500 - loss: 325.58433618247045 \n",
      "Iter 700/1500 - loss: 306.01678908509774 \n",
      "Iter 800/1500 - loss: 288.41565463606736 \n",
      "Iter 900/1500 - loss: 271.0620223701295 \n",
      "Iter 1000/1500 - loss: 255.93057365884167 \n",
      "Iter 1100/1500 - loss: 240.89668889380837 \n",
      "Iter 1200/1500 - loss: 226.82256734401088 \n",
      "Iter 1300/1500 - loss: 213.73229298494854 \n",
      "Iter 1400/1500 - loss: 201.32255802198165 \n",
      "Iter 1500/1500 - loss: 189.68661406365788 \n",
      "The training accuracy is given by : 16.083673469387755\n",
      "The validation accuracy is given by : 14.299999999999999\n",
      "The testing accuracy is given by : 17.299999999999997\n",
      "Best val accuracy:20.8\n",
      "done\n",
      "\n",
      "Hyperparameters- learning_rate: 1e-08, regularization: 40000.0\n",
      "Iter 100/1500 - loss: 578.411568147809 \n",
      "Iter 200/1500 - loss: 533.5021426311063 \n",
      "Iter 300/1500 - loss: 492.80084073375997 \n",
      "Iter 400/1500 - loss: 455.3213437329519 \n",
      "Iter 500/1500 - loss: 419.9761754987721 \n",
      "Iter 600/1500 - loss: 387.3866995292871 \n",
      "Iter 700/1500 - loss: 357.7730208003212 \n",
      "Iter 800/1500 - loss: 330.40530272292085 \n",
      "Iter 900/1500 - loss: 305.27575089238655 \n",
      "Iter 1000/1500 - loss: 281.76652292455566 \n",
      "Iter 1100/1500 - loss: 260.0985401762904 \n",
      "Iter 1200/1500 - loss: 240.34346558702234 \n",
      "Iter 1300/1500 - loss: 221.80874872748623 \n",
      "Iter 1400/1500 - loss: 204.75293867341762 \n",
      "Iter 1500/1500 - loss: 189.33273076158014 \n",
      "The training accuracy is given by : 18.244897959183675\n",
      "The validation accuracy is given by : 18.4\n",
      "The testing accuracy is given by : 22.0\n",
      "Best val accuracy:20.8\n",
      "done\n",
      "\n",
      "Hyperparameters- learning_rate: 1e-08, regularization: 50000.0\n",
      "Iter 100/1500 - loss: 703.5761802512236 \n",
      "Iter 200/1500 - loss: 636.2736821032339 \n",
      "Iter 300/1500 - loss: 575.6977530095035 \n",
      "Iter 400/1500 - loss: 521.1500680600819 \n",
      "Iter 500/1500 - loss: 471.2530064808454 \n",
      "Iter 600/1500 - loss: 426.63499276363564 \n",
      "Iter 700/1500 - loss: 385.9330795253888 \n",
      "Iter 800/1500 - loss: 349.30409368358175 \n",
      "Iter 900/1500 - loss: 316.1501742699353 \n",
      "Iter 1000/1500 - loss: 286.09074312802267 \n",
      "Iter 1100/1500 - loss: 258.89364481467345 \n",
      "Iter 1200/1500 - loss: 234.34276752654407 \n",
      "Iter 1300/1500 - loss: 212.39913291925743 \n",
      "Iter 1400/1500 - loss: 192.1257693878111 \n",
      "Iter 1500/1500 - loss: 173.8175052326603 \n",
      "The training accuracy is given by : 16.789795918367346\n",
      "The validation accuracy is given by : 17.9\n",
      "The testing accuracy is given by : 18.0\n",
      "Best val accuracy:20.8\n",
      "done\n",
      "\n",
      "Hyperparameters- learning_rate: 1e-08, regularization: 60000.0\n",
      "Iter 100/1500 - loss: 826.5929440943491 \n",
      "Iter 200/1500 - loss: 733.0632544823961 \n",
      "Iter 300/1500 - loss: 650.6852697331709 \n",
      "Iter 400/1500 - loss: 577.1747694062651 \n",
      "Iter 500/1500 - loss: 511.622059379741 \n",
      "Iter 600/1500 - loss: 453.1998371635812 \n",
      "Iter 700/1500 - loss: 402.5957493987202 \n",
      "Iter 800/1500 - loss: 357.1570831391239 \n",
      "Iter 900/1500 - loss: 317.2885703603581 \n",
      "Iter 1000/1500 - loss: 281.0926219913941 \n",
      "Iter 1100/1500 - loss: 249.58332929791845 \n",
      "Iter 1200/1500 - loss: 221.49005770268784 \n",
      "Iter 1300/1500 - loss: 196.6609101587158 \n",
      "Iter 1400/1500 - loss: 174.44312072090187 \n",
      "Iter 1500/1500 - loss: 154.9063979412487 \n",
      "The training accuracy is given by : 21.110204081632652\n",
      "The validation accuracy is given by : 21.8\n",
      "The testing accuracy is given by : 20.200000000000003\n",
      "Best val accuracy:21.8\n",
      "done\n",
      "\n",
      "Hyperparameters- learning_rate: 1e-08, regularization: 70000.0\n",
      "Iter 100/1500 - loss: 941.2687028417854 \n",
      "Iter 200/1500 - loss: 817.822885406213 \n",
      "Iter 300/1500 - loss: 711.3533318651799 \n",
      "Iter 400/1500 - loss: 618.5066643177312 \n",
      "Iter 500/1500 - loss: 537.8791602045052 \n",
      "Iter 600/1500 - loss: 467.421287079603 \n",
      "Iter 700/1500 - loss: 406.14632941787715 \n",
      "Iter 800/1500 - loss: 353.6859247166102 \n",
      "Iter 900/1500 - loss: 307.74191603348913 \n",
      "Iter 1000/1500 - loss: 267.3331335100154 \n",
      "Iter 1100/1500 - loss: 232.77364245522548 \n",
      "Iter 1200/1500 - loss: 202.75557111304326 \n",
      "Iter 1300/1500 - loss: 176.4122167877723 \n",
      "Iter 1400/1500 - loss: 153.56789812862039 \n",
      "Iter 1500/1500 - loss: 133.79847124571063 \n",
      "The training accuracy is given by : 19.53673469387755\n",
      "The validation accuracy is given by : 18.2\n",
      "The testing accuracy is given by : 22.400000000000002\n",
      "Best val accuracy:21.8\n",
      "done\n",
      "\n",
      "Hyperparameters- learning_rate: 1e-08, regularization: 80000.0\n",
      "Iter 100/1500 - loss: 1034.4649515491722 \n",
      "Iter 200/1500 - loss: 881.0721195719797 \n",
      "Iter 300/1500 - loss: 750.71072229021 \n",
      "Iter 400/1500 - loss: 639.7191628450278 \n",
      "Iter 500/1500 - loss: 545.326057898763 \n",
      "Iter 600/1500 - loss: 465.04356402390334 \n",
      "Iter 700/1500 - loss: 396.33651579339266 \n",
      "Iter 800/1500 - loss: 338.29149571026943 \n",
      "Iter 900/1500 - loss: 288.26369652852725 \n",
      "Iter 1000/1500 - loss: 245.85247120648864 \n",
      "Iter 1100/1500 - loss: 209.6860350760196 \n",
      "Iter 1200/1500 - loss: 178.76479745912857 \n",
      "Iter 1300/1500 - loss: 152.6500850367147 \n",
      "Iter 1400/1500 - loss: 130.55043425522524 \n",
      "Iter 1500/1500 - loss: 111.4121532313884 \n",
      "The training accuracy is given by : 21.45714285714286\n",
      "The validation accuracy is given by : 21.9\n",
      "The testing accuracy is given by : 22.0\n",
      "Best val accuracy:21.9\n",
      "done\n",
      "\n",
      "Hyperparameters- learning_rate: 1e-07, regularization: 10000.0\n",
      "Iter 100/1500 - loss: 129.5265099445467 \n",
      "Iter 200/1500 - loss: 105.59722102288768 \n",
      "Iter 300/1500 - loss: 86.59916989402568 \n",
      "Iter 400/1500 - loss: 71.45579966247426 \n",
      "Iter 500/1500 - loss: 58.63090573247524 \n",
      "Iter 600/1500 - loss: 48.28556550550307 \n",
      "Iter 700/1500 - loss: 39.596016316507395 \n",
      "Iter 800/1500 - loss: 32.58015542734278 \n",
      "Iter 900/1500 - loss: 27.267008882634297 \n",
      "Iter 1000/1500 - loss: 22.753399366692648 \n",
      "Iter 1100/1500 - loss: 18.938369555690837 \n",
      "Iter 1200/1500 - loss: 15.872432148115422 \n",
      "Iter 1300/1500 - loss: 13.454693223945778 \n",
      "Iter 1400/1500 - loss: 11.346044692398445 \n",
      "Iter 1500/1500 - loss: 9.533873530725113 \n",
      "The training accuracy is given by : 34.289795918367346\n",
      "The validation accuracy is given by : 36.1\n",
      "The testing accuracy is given by : 34.699999999999996\n",
      "Best val accuracy:36.1\n",
      "done\n",
      "\n",
      "Hyperparameters- learning_rate: 1e-07, regularization: 20000.0\n",
      "Iter 100/1500 - loss: 209.97385652286755 \n",
      "Iter 200/1500 - loss: 141.2832167945514 \n",
      "Iter 300/1500 - loss: 95.28199488722656 \n",
      "Iter 400/1500 - loss: 64.28651077864033 \n",
      "Iter 500/1500 - loss: 43.860597889684584 \n",
      "Iter 600/1500 - loss: 29.820144830087603 \n",
      "Iter 700/1500 - loss: 20.642689649746494 \n",
      "Iter 800/1500 - loss: 14.476664300202378 \n",
      "Iter 900/1500 - loss: 10.258081017290733 \n",
      "Iter 1000/1500 - loss: 7.559919331851157 \n",
      "Iter 1100/1500 - loss: 5.836484551137527 \n",
      "Iter 1200/1500 - loss: 4.651368036898832 \n",
      "Iter 1300/1500 - loss: 3.7259802708308323 \n",
      "Iter 1400/1500 - loss: 3.1062962626130126 \n",
      "Iter 1500/1500 - loss: 2.844125561999485 \n",
      "The training accuracy is given by : 34.21224489795918\n",
      "The validation accuracy is given by : 35.5\n",
      "The testing accuracy is given by : 34.0\n",
      "Best val accuracy:36.1\n",
      "done\n",
      "\n",
      "Hyperparameters- learning_rate: 1e-07, regularization: 30000.0\n",
      "Iter 100/1500 - loss: 258.3358684314685 \n",
      "Iter 200/1500 - loss: 142.1288717751119 \n",
      "Iter 300/1500 - loss: 78.81426913910535 \n",
      "Iter 400/1500 - loss: 43.95523603326372 \n",
      "Iter 500/1500 - loss: 24.952514844009183 \n",
      "Iter 600/1500 - loss: 14.504253520874887 \n",
      "Iter 700/1500 - loss: 8.840955835535718 \n",
      "Iter 800/1500 - loss: 5.853288444721128 \n",
      "Iter 900/1500 - loss: 4.292880064429321 \n",
      "Iter 1000/1500 - loss: 3.23317168692974 \n",
      "Iter 1100/1500 - loss: 2.830491403242053 \n",
      "Iter 1200/1500 - loss: 2.531634871420923 \n",
      "Iter 1300/1500 - loss: 2.240410358537053 \n",
      "Iter 1400/1500 - loss: 2.13657827972886 \n",
      "Iter 1500/1500 - loss: 2.0339740546394784 \n",
      "The training accuracy is given by : 33.744897959183675\n",
      "The validation accuracy is given by : 35.5\n",
      "The testing accuracy is given by : 34.4\n",
      "Best val accuracy:36.1\n",
      "done\n",
      "\n",
      "Hyperparameters- learning_rate: 1e-07, regularization: 40000.0\n",
      "Iter 100/1500 - loss: 279.21947857767077 \n",
      "Iter 200/1500 - loss: 126.30362971155921 \n",
      "Iter 300/1500 - loss: 57.50689765124362 \n",
      "Iter 400/1500 - loss: 27.000041357686097 \n",
      "Iter 500/1500 - loss: 13.319975679688454 \n",
      "Iter 600/1500 - loss: 7.063296667771637 \n",
      "Iter 700/1500 - loss: 4.242793343029955 \n",
      "Iter 800/1500 - loss: 3.1141253319318016 \n",
      "Iter 900/1500 - loss: 2.5444873676334545 \n",
      "Iter 1000/1500 - loss: 2.25923494211503 \n",
      "Iter 1100/1500 - loss: 2.190038491687318 \n",
      "Iter 1200/1500 - loss: 2.1617267849907 \n",
      "Iter 1300/1500 - loss: 2.0686469744376703 \n",
      "Iter 1400/1500 - loss: 2.2319214185864036 \n",
      "Iter 1500/1500 - loss: 2.093929805498531 \n",
      "The training accuracy is given by : 32.38367346938775\n",
      "The validation accuracy is given by : 33.800000000000004\n",
      "The testing accuracy is given by : 33.4\n",
      "Best val accuracy:36.1\n",
      "done\n",
      "\n",
      "Hyperparameters- learning_rate: 1e-07, regularization: 50000.0\n",
      "Iter 100/1500 - loss: 287.46074634738454 \n",
      "Iter 200/1500 - loss: 106.68518250072847 \n",
      "Iter 300/1500 - loss: 40.28450165127295 \n",
      "Iter 400/1500 - loss: 16.25456972047661 \n",
      "Iter 500/1500 - loss: 7.148289893900994 \n",
      "Iter 600/1500 - loss: 3.978418938618393 \n",
      "Iter 700/1500 - loss: 2.8029544864094436 \n",
      "Iter 800/1500 - loss: 2.3047522880451616 \n",
      "Iter 900/1500 - loss: 2.21662256606811 \n",
      "Iter 1000/1500 - loss: 2.09424604313064 \n",
      "Iter 1100/1500 - loss: 2.0020538046512937 \n",
      "Iter 1200/1500 - loss: 2.1409534511991124 \n",
      "Iter 1300/1500 - loss: 2.0685722247441505 \n",
      "Iter 1400/1500 - loss: 2.0801593398851073 \n",
      "Iter 1500/1500 - loss: 2.1611754058890793 \n",
      "The training accuracy is given by : 32.002040816326534\n",
      "The validation accuracy is given by : 34.1\n",
      "The testing accuracy is given by : 33.4\n",
      "Best val accuracy:36.1\n",
      "done\n",
      "\n",
      "Hyperparameters- learning_rate: 1e-07, regularization: 60000.0\n",
      "Iter 100/1500 - loss: 281.8697408077683 \n",
      "Iter 200/1500 - loss: 85.90923125225245 \n",
      "Iter 300/1500 - loss: 27.258184471914646 \n",
      "Iter 400/1500 - loss: 9.602522855432197 \n",
      "Iter 500/1500 - loss: 4.38639846610817 \n",
      "Iter 600/1500 - loss: 2.80832404024656 \n",
      "Iter 700/1500 - loss: 2.3052731136944864 \n",
      "Iter 800/1500 - loss: 2.2160398481120764 \n",
      "Iter 900/1500 - loss: 2.2042331420751062 \n",
      "Iter 1000/1500 - loss: 2.083172387744329 \n",
      "Iter 1100/1500 - loss: 2.045829264959842 \n",
      "Iter 1200/1500 - loss: 2.1100037902715907 \n",
      "Iter 1300/1500 - loss: 2.032691382816705 \n",
      "Iter 1400/1500 - loss: 2.078398169085154 \n",
      "Iter 1500/1500 - loss: 2.264814076998173 \n",
      "The training accuracy is given by : 31.73673469387755\n",
      "The validation accuracy is given by : 32.5\n",
      "The testing accuracy is given by : 32.800000000000004\n",
      "Best val accuracy:36.1\n",
      "done\n",
      "\n",
      "Hyperparameters- learning_rate: 1e-07, regularization: 70000.0\n",
      "Iter 100/1500 - loss: 268.42507456409993 \n",
      "Iter 200/1500 - loss: 67.31461299971546 \n",
      "Iter 300/1500 - loss: 18.10572139175727 \n",
      "Iter 400/1500 - loss: 6.062701240597409 \n",
      "Iter 500/1500 - loss: 3.157460192607182 \n",
      "Iter 600/1500 - loss: 2.350325434648585 \n",
      "Iter 700/1500 - loss: 2.2403156856860678 \n",
      "Iter 800/1500 - loss: 2.276980942969057 \n",
      "Iter 900/1500 - loss: 2.0556210594840407 \n",
      "Iter 1000/1500 - loss: 2.1595666348015197 \n",
      "Iter 1100/1500 - loss: 2.1182293415916504 \n",
      "Iter 1200/1500 - loss: 2.2027985545633455 \n",
      "Iter 1300/1500 - loss: 2.054607284567649 \n",
      "Iter 1400/1500 - loss: 2.1499607296314265 \n",
      "Iter 1500/1500 - loss: 2.173400808042444 \n",
      "The training accuracy is given by : 30.634693877551022\n",
      "The validation accuracy is given by : 32.4\n",
      "The testing accuracy is given by : 31.7\n",
      "Best val accuracy:36.1\n",
      "done\n",
      "\n",
      "Hyperparameters- learning_rate: 1e-07, regularization: 80000.0\n",
      "Iter 100/1500 - loss: 251.29301981419297 \n",
      "Iter 200/1500 - loss: 52.107417611886866 \n",
      "Iter 300/1500 - loss: 12.073508734691929 \n",
      "Iter 400/1500 - loss: 4.159746427161367 \n",
      "Iter 500/1500 - loss: 2.56377606560023 \n",
      "Iter 600/1500 - loss: 2.175141685515541 \n",
      "Iter 700/1500 - loss: 2.101610250852591 \n",
      "Iter 800/1500 - loss: 2.105146543313971 \n",
      "Iter 900/1500 - loss: 2.1143222155197243 \n",
      "Iter 1000/1500 - loss: 2.131475594096598 \n",
      "Iter 1100/1500 - loss: 2.0393070380868785 \n",
      "Iter 1200/1500 - loss: 2.176043535691636 \n",
      "Iter 1300/1500 - loss: 2.2139984515417974 \n",
      "Iter 1400/1500 - loss: 2.16919155485133 \n",
      "Iter 1500/1500 - loss: 2.035422890077269 \n",
      "The training accuracy is given by : 31.540816326530614\n",
      "The validation accuracy is given by : 33.1\n",
      "The testing accuracy is given by : 33.0\n",
      "Best val accuracy:36.1\n",
      "done\n",
      "\n",
      "Hyperparameters- learning_rate: 3e-07, regularization: 10000.0\n",
      "Iter 100/1500 - loss: 87.82788560672002 \n",
      "Iter 200/1500 - loss: 48.71644805376558 \n",
      "Iter 300/1500 - loss: 27.337680932410713 \n",
      "Iter 400/1500 - loss: 16.1136267000308 \n",
      "Iter 500/1500 - loss: 9.86501568547748 \n",
      "Iter 600/1500 - loss: 6.198715087007363 \n",
      "Iter 700/1500 - loss: 4.445725740928423 \n",
      "Iter 800/1500 - loss: 3.4852494217394616 \n",
      "Iter 900/1500 - loss: 2.7521748846939644 \n",
      "Iter 1000/1500 - loss: 2.503943932903962 \n",
      "Iter 1100/1500 - loss: 2.3215944315592947 \n",
      "Iter 1200/1500 - loss: 2.0687930157362184 \n",
      "Iter 1300/1500 - loss: 2.331438251492066 \n",
      "Iter 1400/1500 - loss: 2.164235851882326 \n",
      "Iter 1500/1500 - loss: 2.0196869315016697 \n",
      "The training accuracy is given by : 36.74285714285715\n",
      "The validation accuracy is given by : 37.9\n",
      "The testing accuracy is given by : 36.5\n",
      "Best val accuracy:37.9\n",
      "done\n",
      "\n",
      "Hyperparameters- learning_rate: 3e-07, regularization: 20000.0\n",
      "Iter 100/1500 - loss: 96.1726784562536 \n",
      "Iter 200/1500 - loss: 30.08692929661396 \n",
      "Iter 300/1500 - loss: 10.482437543047647 \n",
      "Iter 400/1500 - loss: 4.546826232284598 \n",
      "Iter 500/1500 - loss: 2.797130125108361 \n",
      "Iter 600/1500 - loss: 2.1992370183261425 \n",
      "Iter 700/1500 - loss: 2.034252048928983 \n",
      "Iter 800/1500 - loss: 2.251930673929257 \n",
      "Iter 900/1500 - loss: 2.1489637833844126 \n",
      "Iter 1000/1500 - loss: 2.1384076778436993 \n",
      "Iter 1100/1500 - loss: 2.0016744008286853 \n",
      "Iter 1200/1500 - loss: 2.1164761027460677 \n",
      "Iter 1300/1500 - loss: 2.241959237740196 \n",
      "Iter 1400/1500 - loss: 2.2274635396522116 \n",
      "Iter 1500/1500 - loss: 2.0733262679957014 \n",
      "The training accuracy is given by : 33.655102040816324\n",
      "The validation accuracy is given by : 34.599999999999994\n",
      "The testing accuracy is given by : 35.6\n",
      "Best val accuracy:37.9\n",
      "done\n",
      "\n",
      "Hyperparameters- learning_rate: 3e-07, regularization: 30000.0\n",
      "Iter 100/1500 - loss: 79.34840075521753 \n",
      "Iter 200/1500 - loss: 14.816800593904347 \n",
      "Iter 300/1500 - loss: 4.156891691387985 \n",
      "Iter 400/1500 - loss: 2.477360821717605 \n",
      "Iter 500/1500 - loss: 2.152219337296908 \n",
      "Iter 600/1500 - loss: 2.169423948715972 \n",
      "Iter 700/1500 - loss: 2.0482343439761412 \n",
      "Iter 800/1500 - loss: 2.1402568209853334 \n",
      "Iter 900/1500 - loss: 2.1315876176343083 \n",
      "Iter 1000/1500 - loss: 2.0602064446539625 \n",
      "Iter 1100/1500 - loss: 2.1227298001749233 \n",
      "Iter 1200/1500 - loss: 2.074452964028086 \n",
      "Iter 1300/1500 - loss: 2.0933523340059397 \n",
      "Iter 1400/1500 - loss: 2.1762957416852027 \n",
      "Iter 1500/1500 - loss: 2.0259854923041405 \n",
      "The training accuracy is given by : 33.46734693877551\n",
      "The validation accuracy is given by : 34.1\n",
      "The testing accuracy is given by : 35.099999999999994\n",
      "Best val accuracy:37.9\n",
      "done\n",
      "\n",
      "Hyperparameters- learning_rate: 3e-07, regularization: 40000.0\n",
      "Iter 100/1500 - loss: 58.70897420838581 \n",
      "Iter 200/1500 - loss: 7.200216719486557 \n",
      "Iter 300/1500 - loss: 2.5678361674518735 \n",
      "Iter 400/1500 - loss: 2.2339598741617426 \n",
      "Iter 500/1500 - loss: 2.0856441103616192 \n",
      "Iter 600/1500 - loss: 2.137709542453655 \n",
      "Iter 700/1500 - loss: 2.0512668444534032 \n",
      "Iter 800/1500 - loss: 2.058369080760883 \n",
      "Iter 900/1500 - loss: 2.1056769687276 \n",
      "Iter 1000/1500 - loss: 2.170718250372141 \n",
      "Iter 1100/1500 - loss: 2.124822365599584 \n",
      "Iter 1200/1500 - loss: 2.0967328138932375 \n",
      "Iter 1300/1500 - loss: 2.2372937311969934 \n",
      "Iter 1400/1500 - loss: 1.958386429775181 \n",
      "Iter 1500/1500 - loss: 2.205374720146226 \n",
      "The training accuracy is given by : 31.220408163265308\n",
      "The validation accuracy is given by : 33.5\n",
      "The testing accuracy is given by : 32.300000000000004\n",
      "Best val accuracy:37.9\n",
      "done\n",
      "\n",
      "Hyperparameters- learning_rate: 3e-07, regularization: 50000.0\n",
      "Iter 100/1500 - loss: 41.13571075860355 \n",
      "Iter 200/1500 - loss: 3.9696219526232697 \n",
      "Iter 300/1500 - loss: 2.220960263703267 \n",
      "Iter 400/1500 - loss: 2.131444062634245 \n",
      "Iter 500/1500 - loss: 2.1387299837743354 \n",
      "Iter 600/1500 - loss: 2.179379539998752 \n",
      "Iter 700/1500 - loss: 2.120751843497868 \n",
      "Iter 800/1500 - loss: 2.2153512079104045 \n",
      "Iter 900/1500 - loss: 2.1739521328431834 \n",
      "Iter 1000/1500 - loss: 2.088679171949587 \n",
      "Iter 1100/1500 - loss: 2.1660191661553885 \n",
      "Iter 1200/1500 - loss: 2.1197044581949083 \n",
      "Iter 1300/1500 - loss: 2.120378263204463 \n",
      "Iter 1400/1500 - loss: 2.136231320843654 \n",
      "Iter 1500/1500 - loss: 2.2242464841080305 \n",
      "The training accuracy is given by : 33.093877551020405\n",
      "The validation accuracy is given by : 33.2\n",
      "The testing accuracy is given by : 35.0\n",
      "Best val accuracy:37.9\n",
      "done\n",
      "\n",
      "Hyperparameters- learning_rate: 3e-07, regularization: 60000.0\n",
      "Iter 100/1500 - loss: 27.615678117084585 \n",
      "Iter 200/1500 - loss: 2.8725803009734587 \n",
      "Iter 300/1500 - loss: 2.100718929962378 \n",
      "Iter 400/1500 - loss: 2.059010856017875 \n",
      "Iter 500/1500 - loss: 2.0838461448580126 \n",
      "Iter 600/1500 - loss: 2.171899585115398 \n",
      "Iter 700/1500 - loss: 2.2332296937561296 \n",
      "Iter 800/1500 - loss: 2.091366792524212 \n",
      "Iter 900/1500 - loss: 2.1714376446310264 \n",
      "Iter 1000/1500 - loss: 2.2814943832068417 \n",
      "Iter 1100/1500 - loss: 2.1592503964800533 \n",
      "Iter 1200/1500 - loss: 2.189051748683565 \n",
      "Iter 1300/1500 - loss: 2.226468216578001 \n",
      "Iter 1400/1500 - loss: 2.075691004363401 \n",
      "Iter 1500/1500 - loss: 2.136850694767139 \n",
      "The training accuracy is given by : 30.19795918367347\n",
      "The validation accuracy is given by : 31.8\n",
      "The testing accuracy is given by : 31.4\n",
      "Best val accuracy:37.9\n",
      "done\n",
      "\n",
      "Hyperparameters- learning_rate: 3e-07, regularization: 70000.0\n",
      "Iter 100/1500 - loss: 18.185746535261494 \n",
      "Iter 200/1500 - loss: 2.417685876953553 \n",
      "Iter 300/1500 - loss: 2.127649888133598 \n",
      "Iter 400/1500 - loss: 2.199345197248401 \n",
      "Iter 500/1500 - loss: 2.1624424317425612 \n",
      "Iter 600/1500 - loss: 2.1839660833883827 \n",
      "Iter 700/1500 - loss: 2.092658951143112 \n",
      "Iter 800/1500 - loss: 2.1170104613533356 \n",
      "Iter 900/1500 - loss: 2.169280639559594 \n",
      "Iter 1000/1500 - loss: 2.115995185784741 \n",
      "Iter 1100/1500 - loss: 2.157523602467954 \n",
      "Iter 1200/1500 - loss: 2.1170375067741176 \n",
      "Iter 1300/1500 - loss: 2.170210138492802 \n",
      "Iter 1400/1500 - loss: 2.041198922973117 \n",
      "Iter 1500/1500 - loss: 2.062243244690121 \n",
      "The training accuracy is given by : 30.818367346938775\n",
      "The validation accuracy is given by : 32.7\n",
      "The testing accuracy is given by : 31.900000000000002\n",
      "Best val accuracy:37.9\n",
      "done\n",
      "\n",
      "Hyperparameters- learning_rate: 3e-07, regularization: 80000.0\n",
      "Iter 100/1500 - loss: 12.085042621446307 \n",
      "Iter 200/1500 - loss: 2.226279528874515 \n",
      "Iter 300/1500 - loss: 2.031008902471838 \n",
      "Iter 400/1500 - loss: 2.135886222525752 \n",
      "Iter 500/1500 - loss: 2.181069179070977 \n",
      "Iter 600/1500 - loss: 2.145749837866676 \n",
      "Iter 700/1500 - loss: 2.0852253844421127 \n",
      "Iter 800/1500 - loss: 2.0635834347923647 \n",
      "Iter 900/1500 - loss: 2.0978599683493706 \n",
      "Iter 1000/1500 - loss: 2.1720391992784025 \n",
      "Iter 1100/1500 - loss: 2.1292021102353096 \n",
      "Iter 1200/1500 - loss: 2.1287957618276447 \n",
      "Iter 1300/1500 - loss: 2.1987440196083923 \n",
      "Iter 1400/1500 - loss: 2.1250168128442137 \n",
      "Iter 1500/1500 - loss: 2.314755580459434 \n",
      "The training accuracy is given by : 30.081632653061224\n",
      "The validation accuracy is given by : 30.3\n",
      "The testing accuracy is given by : 33.0\n",
      "Best val accuracy:37.9\n",
      "done\n",
      "\n",
      "Hyperparameters- learning_rate: 5e-07, regularization: 10000.0\n",
      "Iter 100/1500 - loss: 58.649592621379014 \n",
      "Iter 200/1500 - loss: 22.679243019876974 \n",
      "Iter 300/1500 - loss: 9.689399081977536 \n",
      "Iter 400/1500 - loss: 4.8324954366888395 \n",
      "Iter 500/1500 - loss: 3.0060664632950753 \n",
      "Iter 600/1500 - loss: 2.5918139547672387 \n",
      "Iter 700/1500 - loss: 2.2188065433535953 \n",
      "Iter 800/1500 - loss: 2.411755995244499 \n",
      "Iter 900/1500 - loss: 2.0726044035560767 \n",
      "Iter 1000/1500 - loss: 2.3418510770234513 \n",
      "Iter 1100/1500 - loss: 1.9629001659403045 \n",
      "Iter 1200/1500 - loss: 1.9686402323721048 \n",
      "Iter 1300/1500 - loss: 2.039363986302372 \n",
      "Iter 1400/1500 - loss: 2.0589020724891185 \n",
      "Iter 1500/1500 - loss: 2.2779834017048013 \n",
      "The training accuracy is given by : 36.3265306122449\n",
      "The validation accuracy is given by : 38.1\n",
      "The testing accuracy is given by : 36.5\n",
      "Best val accuracy:38.1\n",
      "done\n",
      "\n",
      "Hyperparameters- learning_rate: 5e-07, regularization: 20000.0\n",
      "Iter 100/1500 - loss: 43.7746614649304 \n",
      "Iter 200/1500 - loss: 7.549756491376229 \n",
      "Iter 300/1500 - loss: 2.817753767204511 \n",
      "Iter 400/1500 - loss: 2.1455856154439483 \n",
      "Iter 500/1500 - loss: 2.1122131851277874 \n",
      "Iter 600/1500 - loss: 2.0147859409200573 \n",
      "Iter 700/1500 - loss: 2.138944732518138 \n",
      "Iter 800/1500 - loss: 2.179876445469357 \n",
      "Iter 900/1500 - loss: 2.1201868361639917 \n",
      "Iter 1000/1500 - loss: 2.174779205539886 \n",
      "Iter 1100/1500 - loss: 1.9959191234947655 \n",
      "Iter 1200/1500 - loss: 2.0156709267971813 \n",
      "Iter 1300/1500 - loss: 2.1869361402232252 \n",
      "Iter 1400/1500 - loss: 2.3035678212839983 \n",
      "Iter 1500/1500 - loss: 2.019762466978149 \n",
      "The training accuracy is given by : 34.13265306122449\n",
      "The validation accuracy is given by : 36.6\n",
      "The testing accuracy is given by : 35.099999999999994\n",
      "Best val accuracy:38.1\n",
      "done\n",
      "\n",
      "Hyperparameters- learning_rate: 5e-07, regularization: 30000.0\n",
      "Iter 100/1500 - loss: 24.807762934347316 \n",
      "Iter 200/1500 - loss: 3.232271687995264 \n",
      "Iter 300/1500 - loss: 2.1596637657144635 \n",
      "Iter 400/1500 - loss: 2.1005364074521675 \n",
      "Iter 500/1500 - loss: 2.068324550713589 \n",
      "Iter 600/1500 - loss: 2.0735684690313887 \n",
      "Iter 700/1500 - loss: 2.2070712580792065 \n",
      "Iter 800/1500 - loss: 1.945942725646114 \n",
      "Iter 900/1500 - loss: 2.1517282016393304 \n",
      "Iter 1000/1500 - loss: 2.053355002294179 \n",
      "Iter 1100/1500 - loss: 2.0580388825962492 \n",
      "Iter 1200/1500 - loss: 2.0479969663637205 \n",
      "Iter 1300/1500 - loss: 2.118200224103168 \n",
      "Iter 1400/1500 - loss: 2.0400689062374 \n",
      "Iter 1500/1500 - loss: 2.10475090576042 \n",
      "The training accuracy is given by : 33.04489795918367\n",
      "The validation accuracy is given by : 33.4\n",
      "The testing accuracy is given by : 34.9\n",
      "Best val accuracy:38.1\n",
      "done\n",
      "\n",
      "Hyperparameters- learning_rate: 5e-07, regularization: 40000.0\n",
      "Iter 100/1500 - loss: 13.250027910431559 \n",
      "Iter 200/1500 - loss: 2.3104067009476577 \n",
      "Iter 300/1500 - loss: 2.075381601315598 \n",
      "Iter 400/1500 - loss: 2.081914432956185 \n",
      "Iter 500/1500 - loss: 2.097300325066872 \n",
      "Iter 600/1500 - loss: 2.124412656957115 \n",
      "Iter 700/1500 - loss: 2.120592850213494 \n",
      "Iter 800/1500 - loss: 2.09884996299388 \n",
      "Iter 900/1500 - loss: 2.0987636190469643 \n",
      "Iter 1000/1500 - loss: 2.1933166600455523 \n",
      "Iter 1100/1500 - loss: 2.21028400763096 \n",
      "Iter 1200/1500 - loss: 2.0931298724828364 \n",
      "Iter 1300/1500 - loss: 2.0564820746086028 \n",
      "Iter 1400/1500 - loss: 2.1098188210687296 \n",
      "Iter 1500/1500 - loss: 2.1191051129771328 \n",
      "The training accuracy is given by : 31.779591836734696\n",
      "The validation accuracy is given by : 32.0\n",
      "The testing accuracy is given by : 32.2\n",
      "Best val accuracy:38.1\n",
      "done\n",
      "\n",
      "Hyperparameters- learning_rate: 5e-07, regularization: 50000.0\n",
      "Iter 100/1500 - loss: 7.227606887910328 \n",
      "Iter 200/1500 - loss: 2.1666953224023784 \n",
      "Iter 300/1500 - loss: 2.0899060938177874 \n",
      "Iter 400/1500 - loss: 2.063307449857832 \n",
      "Iter 500/1500 - loss: 2.036767546981043 \n",
      "Iter 600/1500 - loss: 2.1474757543151024 \n",
      "Iter 700/1500 - loss: 2.172845300774353 \n",
      "Iter 800/1500 - loss: 2.2365517440985148 \n",
      "Iter 900/1500 - loss: 2.1806203736743055 \n",
      "Iter 1000/1500 - loss: 2.140615615322257 \n",
      "Iter 1100/1500 - loss: 2.0798210302917024 \n",
      "Iter 1200/1500 - loss: 2.1901819992596527 \n",
      "Iter 1300/1500 - loss: 2.195955778889194 \n",
      "Iter 1400/1500 - loss: 2.204935973580508 \n",
      "Iter 1500/1500 - loss: 2.1919084950776817 \n",
      "The training accuracy is given by : 31.759183673469387\n",
      "The validation accuracy is given by : 32.7\n",
      "The testing accuracy is given by : 32.300000000000004\n",
      "Best val accuracy:38.1\n",
      "done\n",
      "\n",
      "Hyperparameters- learning_rate: 5e-07, regularization: 60000.0\n",
      "Iter 100/1500 - loss: 4.379994007908374 \n",
      "Iter 200/1500 - loss: 2.2265113444323426 \n",
      "Iter 300/1500 - loss: 2.054318214461681 \n",
      "Iter 400/1500 - loss: 2.179810199749755 \n",
      "Iter 500/1500 - loss: 2.118988923914222 \n",
      "Iter 600/1500 - loss: 2.069921725646827 \n",
      "Iter 700/1500 - loss: 2.0667126104609332 \n",
      "Iter 800/1500 - loss: 2.122419600619854 \n",
      "Iter 900/1500 - loss: 2.0085292303278965 \n",
      "Iter 1000/1500 - loss: 2.1158359419483306 \n",
      "Iter 1100/1500 - loss: 2.118449152492413 \n",
      "Iter 1200/1500 - loss: 2.0207576968374625 \n",
      "Iter 1300/1500 - loss: 2.1574574786833938 \n",
      "Iter 1400/1500 - loss: 2.115477111874971 \n",
      "Iter 1500/1500 - loss: 2.139039414110793 \n",
      "The training accuracy is given by : 30.13265306122449\n",
      "The validation accuracy is given by : 31.5\n",
      "The testing accuracy is given by : 31.7\n",
      "Best val accuracy:38.1\n",
      "done\n",
      "\n",
      "Hyperparameters- learning_rate: 5e-07, regularization: 70000.0\n",
      "Iter 100/1500 - loss: 3.088001287906206 \n",
      "Iter 200/1500 - loss: 2.153025853432748 \n",
      "Iter 300/1500 - loss: 2.1250171572969982 \n",
      "Iter 400/1500 - loss: 1.9728288016497473 \n",
      "Iter 500/1500 - loss: 2.201203991805683 \n",
      "Iter 600/1500 - loss: 2.159051031181705 \n",
      "Iter 700/1500 - loss: 2.075822199334663 \n",
      "Iter 800/1500 - loss: 2.0943344256431713 \n",
      "Iter 900/1500 - loss: 2.054014769992066 \n",
      "Iter 1000/1500 - loss: 2.1067005943833776 \n",
      "Iter 1100/1500 - loss: 2.122455754588158 \n",
      "Iter 1200/1500 - loss: 2.1349345219407585 \n",
      "Iter 1300/1500 - loss: 2.2702705639952665 \n",
      "Iter 1400/1500 - loss: 2.1334009269908885 \n",
      "Iter 1500/1500 - loss: 2.2144125513860398 \n",
      "The training accuracy is given by : 29.544897959183675\n",
      "The validation accuracy is given by : 30.8\n",
      "The testing accuracy is given by : 31.2\n",
      "Best val accuracy:38.1\n",
      "done\n",
      "\n",
      "Hyperparameters- learning_rate: 5e-07, regularization: 80000.0\n",
      "Iter 100/1500 - loss: 2.489926711142961 \n",
      "Iter 200/1500 - loss: 2.2304248983226542 \n",
      "Iter 300/1500 - loss: 2.2975987801094098 \n",
      "Iter 400/1500 - loss: 2.2057833163787404 \n",
      "Iter 500/1500 - loss: 2.1956450751418917 \n",
      "Iter 600/1500 - loss: 2.13702930690274 \n",
      "Iter 700/1500 - loss: 2.199094111297048 \n",
      "Iter 800/1500 - loss: 2.056931218201881 \n",
      "Iter 900/1500 - loss: 2.165603397182086 \n",
      "Iter 1000/1500 - loss: 2.3124820887668953 \n",
      "Iter 1100/1500 - loss: 2.109474061739596 \n",
      "Iter 1200/1500 - loss: 2.188831554516223 \n",
      "Iter 1300/1500 - loss: 2.107665495259996 \n",
      "Iter 1400/1500 - loss: 2.1879791105991266 \n",
      "Iter 1500/1500 - loss: 2.1188225953147954 \n",
      "The training accuracy is given by : 29.712244897959184\n",
      "The validation accuracy is given by : 31.6\n",
      "The testing accuracy is given by : 29.5\n",
      "Best val accuracy:38.1\n",
      "done\n",
      "\n"
     ],
     "name": "stdout"
    }
   ]
  },
  {
   "cell_type": "markdown",
   "metadata": {
    "id": "s3sSLL6okHVt"
   },
   "source": [
    "### Testing Softmax"
   ]
  },
  {
   "cell_type": "markdown",
   "metadata": {
    "id": "SBsuytWakHVu"
   },
   "source": [
    "Finally, evaluate the testing accuracy."
   ]
  },
  {
   "cell_type": "code",
   "metadata": {
    "id": "rnmPFjir3skg",
    "executionInfo": {
     "status": "ok",
     "timestamp": 1600384458214,
     "user_tz": 240,
     "elapsed": 483,
     "user": {
      "displayName": "Vaibhav Sundharam",
      "photoUrl": "https://lh3.googleusercontent.com/a-/AOh14Ggf8pEKCJrbRi4ZfFzswWvQ_sKdbph3iOABmyAS=s64",
      "userId": "08654959544633965355"
     }
    },
    "outputId": "cd7664af-caed-4bbe-b016-8df110b37435",
    "colab": {
     "base_uri": "https://localhost:8080/",
     "height": 35
    }
   },
   "source": [
    "pred_softmax = best_softmax.predict(X_test)\n",
    "print('The best testing accuracy is given by : %f' % (get_acc(pred_softmax, y_test)))"
   ],
   "execution_count": null,
   "outputs": [
    {
     "output_type": "stream",
     "text": [
      "The best testing accuracy is given by : 36.500000\n"
     ],
     "name": "stdout"
    }
   ]
  },
  {
   "cell_type": "markdown",
   "metadata": {
    "id": "0DtwAtsakHVy"
   },
   "source": [
    "### Visualization\n",
    "Visualize the weights of your best model. "
   ]
  },
  {
   "cell_type": "code",
   "metadata": {
    "id": "24ZnyuoOkHVz",
    "executionInfo": {
     "status": "ok",
     "timestamp": 1600384459010,
     "user_tz": 240,
     "elapsed": 1257,
     "user": {
      "displayName": "Vaibhav Sundharam",
      "photoUrl": "https://lh3.googleusercontent.com/a-/AOh14Ggf8pEKCJrbRi4ZfFzswWvQ_sKdbph3iOABmyAS=s64",
      "userId": "08654959544633965355"
     }
    },
    "outputId": "1ee30715-3fd7-4501-a06c-7d6d09a1e1a9",
    "colab": {
     "base_uri": "https://localhost:8080/",
     "height": 223
    }
   },
   "source": [
    "# Visualize the learned weights for each class.\n",
    "# Hint: reshape your weights (w/o bias) to (32, 32, 3, 10), then use min-max normalization and rescale them back to 0-255.\n",
    "classes = ['plane', 'car', 'bird', 'cat', 'deer', 'dog', 'frog', 'horse', 'ship', 'truck']\n",
    "#print(best_svm.w.shape)\n",
    "best_weights = best_softmax.w[:-1, :]\n",
    "best_weights = best_weights.reshape(32,32,3,10)\n",
    "best_weights_min, best_weights_max = np.min(best_weights), np.max(best_weights)\n",
    "\n",
    "# plot for each class\n",
    "for i in range(len(classes)):\n",
    "  plt.subplot(2, 5, i + 1) \n",
    "  img = 255.0 * (best_weights[:, :, :, i].squeeze() - best_weights_min) / (best_weights_max - best_weights_min)\n",
    "  plt.imshow(img.astype('uint8'))\n",
    "  plt.axis('off')\n",
    "  plt.title(classes[i])\n"
   ],
   "execution_count": null,
   "outputs": [
    {
     "output_type": "display_data",
     "data": {
      "image/png": "[encoded data removed]",
      "text/plain": [
       "<Figure size 432x288 with 10 Axes>"
      ]
     },
     "metadata": {
      "tags": [],
      "needs_background": "light"
     }
    }
   ]
  },
  {
   "cell_type": "markdown",
   "metadata": {
    "id": "Lt4MfLrYkHV2"
   },
   "source": [
    "Describe what your visualized weights look like compared to SVM weights."
   ]
  },
  {
   "cell_type": "markdown",
   "metadata": {
    "id": "QhOHhOFUkHV2"
   },
   "source": [
    "Your comments: As compared to the SVM weights, softmax weights seem to appear less noisy. The template of different classes is much more clearer. For example, the horse class template looks like a two headed horse. It feels as if the templates/weights are somoothed out. "
   ]
  },
  {
   "cell_type": "markdown",
   "metadata": {
    "id": "QIbpmyJvkHV3"
   },
   "source": [
    "# Section 3. Multilayer Perceptron (MLP)\n",
    "In this section, we present you a modified version of simple neural network from Professor Vicente Ordonez at the University of Virginia. You job is to read through the implementation (optional, but highly recommended), and try the MLP classifier. For additional resources on understanding forward and backpropagation, you can check the materials here: http://cs231n.github.io/optimization-2/\n",
    "\n",
    "Consider a single-layer supervised neural network that has 4 inputs and 3 outputs. First, let's review the skeleton of a single linear layer neural network. The inputs of the network are the variables $x_1, x_2, x_3, x_4$, or the input vector $\\mathbf{x}=[x_1, x_2, x_3, x_4]$, the outputs of the network are $\\widehat{y}_1,\\widehat{y}_2,\\widehat{y}_3$, or the output vector $\\widehat{\\mathbf{y}}=[$$\\widehat{y}$$_1,\\widehat{y}_2,\\widehat{y}_3]$:\n",
    "\n",
    "The given $j$-th output $\\widehat{y}_j$ of this single linear layer + activation function is computed as follows:\n",
    "\n",
    "$$\\widehat{y}_j= \\text{sigmoid}(w_{1j}x_1 + w_{2j}x_2 + w_{3j}x_3 + w_{4j}x_4 + b_j) = \\text{sigmoid}\\Big(\\sum_{i=1}^{i=4}w_{ij}x_{i} + b_j\\Big)$$\n",
    "\n",
    "In matrix notation, this would be: \n",
    "\n",
    "\\begin{equation}\n",
    "\\begin{bmatrix}\n",
    "  \\widehat{y}_{1} \\\\ \n",
    "  \\widehat{y}_{2} \\\\\n",
    "  \\widehat{y}_{3} \n",
    "\\end{bmatrix}^T=\\mathbf{Sigmoid}\\Bigg(\n",
    "\\begin{bmatrix}\n",
    "  x_{1} \\\\\n",
    "  x_{2} \\\\\n",
    "  x_{3} \\\\\n",
    "  x_{4}\n",
    "\\end{bmatrix}^T\n",
    "\\begin{bmatrix}\n",
    "  w_{1,1} & w_{1,2} & w_{1,3}\\\\\n",
    "  w_{2,1} & w_{3,2} & w_{2,3}\\\\\n",
    "  w_{3,1} & w_{3,2} & w_{3,3}\\\\\n",
    "  w_{4,1} & w_{4,2} & w_{4,3}\n",
    "\\end{bmatrix}\n",
    "+\n",
    "\\begin{bmatrix}\n",
    "  b_{1} \\\\\n",
    "  b_{2} \\\\\n",
    "  b_{3}\n",
    "\\end{bmatrix}^T\\Bigg)\n",
    "\\end{equation}\n",
    "\n",
    "or more compactly:\n",
    "\n",
    "\\begin{equation}\n",
    "\\widehat{\\mathbf{y}}^T = \\mathbf{Sigmoid}(\\mathbf{x}^T \\cdot \\mathbf{W} + \\mathbf{b}^T)\n",
    "\\end{equation}\n",
    "\n",
    "The element-wise sigmoid function is: $\\mathbf{Sigmoid}(\\mathbf{x}) = 1 \\;/\\; (1 + exp(-\\mathbf{x}))$, or alternatively: $\\mathbf{Sigmoid}(\\mathbf{x}) = exp(\\mathbf{x})\\;/\\;(1 + exp(\\mathbf{x}))$. Here the sigmoid is separated logically into an activation layer $\\sigma(x)$ and a linear layer $\\text{linear}(3,4)$ as illustrated in figure. \n",
    "\n",
    "Training these weights $\\mathbf{W}$ and biases $\\mathbf{b}$ requires having many training pairs $(\\widehat{\\mathbf{y}}^{(m)}, \\mathbf{x}^{(m)})$. The inputs $\\mathbf{x}$ can be the pixels of an image, indices of words, the entries in a database, and the outputs $\\widehat{\\mathbf{y}}$ can also be literally anything, including a number indicating a category, a set of numbers indicating the indices of words composing a sentence, an output image itself, etc.\n",
    "\n",
    "## 3.1. Forward-propagation\n",
    "\n",
    "Computing the outputs $\\widehat{\\mathbf{y}}$ from the inputs $\\mathbf{x}$ in this network composed of a single linear layer, and a sigmoid layer, is called forward-propagation. Below is the code that implements these two operations:"
   ]
  },
  {
   "cell_type": "code",
   "metadata": {
    "id": "JGHbEDFGkHV3",
    "executionInfo": {
     "status": "ok",
     "timestamp": 1600384498941,
     "user_tz": 240,
     "elapsed": 781,
     "user": {
      "displayName": "Vaibhav Sundharam",
      "photoUrl": "https://lh3.googleusercontent.com/a-/AOh14Ggf8pEKCJrbRi4ZfFzswWvQ_sKdbph3iOABmyAS=s64",
      "userId": "08654959544633965355"
     }
    },
    "outputId": "d09c3c4d-90cc-4e2d-d3ed-ecb35af3c528",
    "colab": {
     "base_uri": "https://localhost:8080/",
     "height": 191
    }
   },
   "source": [
    "import numpy as np\n",
    "import numpy.matlib\n",
    "\n",
    "class nn_Sigmoid:\n",
    "    def forward(self, x):\n",
    "        return 1 / (1 + np.exp(-x))\n",
    "\n",
    "class nn_Linear:\n",
    "    def __init__(self, input_dim, output_dim):\n",
    "        # Initialized with random numbers from a gaussian N(0, 0.001)\n",
    "        self.weight = np.matlib.randn(input_dim, output_dim) * 0.001\n",
    "        self.bias = np.matlib.randn((1, output_dim)) * 0.001\n",
    "        \n",
    "    # y = Wx + b\n",
    "    def forward(self, x):\n",
    "        return np.dot(x, self.weight) + self.bias\n",
    "    \n",
    "    def getParameters(self):\n",
    "        return [self.weight, self.bias]\n",
    "\n",
    "# Let's test the composition of the two functions (forward-propagation in the neural network).\n",
    "x1 = np.array([[1, 2, 2, 3]])\n",
    "y_hat1 = nn_Sigmoid().forward(nn_Linear(4, 3).forward(x1))\n",
    "print('x[1] = '+ str(x1))\n",
    "print('y_hat[1] = ' + str(y_hat1) + '\\n')\n",
    "\n",
    "# Let's test the composition of the two functions (forward-propagation in the neural network).\n",
    "x2 = np.array([[4, 5, 2, 1]])\n",
    "y_hat2 = nn_Sigmoid().forward(nn_Linear(4, 3).forward(x2))\n",
    "print('x[2] = '+ str(x2))\n",
    "print('y_hat[2] = ' + str(y_hat2) + '\\n')\n",
    "\n",
    "# We can also compute both at once, which could be more efficient since it requires a single matrix multiplication.\n",
    "x = np.concatenate((x1, x2), axis = 0)\n",
    "y_hat = nn_Sigmoid().forward(nn_Linear(4, 3).forward(x))\n",
    "print('x = ' + str(x))\n",
    "print('y_hat = ' + str(y_hat))"
   ],
   "execution_count": null,
   "outputs": [
    {
     "output_type": "stream",
     "text": [
      "x[1] = [[1 2 2 3]]\n",
      "y_hat[1] = [[0.4990041  0.49874264 0.49872869]]\n",
      "\n",
      "x[2] = [[4 5 2 1]]\n",
      "y_hat[2] = [[0.50104419 0.49928123 0.50360515]]\n",
      "\n",
      "x = [[1 2 2 3]\n",
      " [4 5 2 1]]\n",
      "y_hat = [[0.50198893 0.49924363 0.49908869]\n",
      " [0.5023883  0.49937427 0.49882681]]\n"
     ],
     "name": "stdout"
    }
   ]
  },
  {
   "cell_type": "markdown",
   "metadata": {
    "id": "8PePRlkJkHV7"
   },
   "source": [
    "## 3.2. Loss functions.\n",
    "\n",
    "After computing the output predictions $\\widehat{\\mathbf{y}}$ it is necessary to compare these against the true values of $\\mathbf{y}$. Let's call these true, correct, or desired values $\\mathbf{y}$. Typically, a simple loss or cost function is used to measure the degree by which the prediction $\\widehat{\\mathbf{y}}$ is wrong with respect to $\\mathbf{y}$. A common loss function for regression is the sum of squared differences between the prediction and its true value. Assuming a prediction $\\widehat{\\mathbf{y}}^{(d)}$ for our training sample $\\mathbf{x}^{(d)}$ with true value $\\mathbf{y}^{(d)}$, then the loss can be computed as:\n",
    "\n",
    "$$loss(\\widehat{\\mathbf{y}}^{(d)}, \\mathbf{y}^{(d)}) = (\\widehat{y}^{(d)}_1 - y^{(d)}_1)^2 + (\\widehat{y}^{(d)}_2 - y^{(d)}_2)^2 + (\\widehat{y}^{(d)}_3 - y^{(d)}_3)^2 = \\sum_{j=1}^{j=3}(\\widehat{y}^{(d)}_j - y^{(d)}_j)^2$$\n",
    "\n",
    "The goal is to modify the parameters [$\\mathbf{W}, \\mathbf{b}$] in the Linear layer so that the value of $loss(\\widehat{\\mathbf{y}}^{(d)}, \\mathbf{y}^{(d)})$ becomes as small as possible for all training samples in a set $D=\\{(\\mathbf{x}^{(d)},\\mathbf{y}^{(d)})\\}$. This would in turn ensure that predictions $\\widehat{\\mathbf{y}}$ are as similar as possible to the true values $\\mathbf{y}$. To achieve this we need to minimize the following function:\n",
    "\n",
    "$$\\mathcal{L}(\\mathbf{W}, \\mathbf{b}) = \\sum_{d=1}^{d=|D|} loss(\\widehat{\\mathbf{y}}^{(d)}, \\mathbf{y}^{(d)})$$\n",
    "\n",
    "The only two variables for our model in the function $\\mathcal{L}(\\mathbf{W}, \\mathbf{b})$ are $\\mathbf{W}$ and $\\mathbf{b}$, this is because the training dataset $D$ is fixed. Finding the values of $\\mathbf{W}$ and $\\mathbf{b}$ that minimize the the loss, particularly for complex functions, is typically done using gradient based optimization, like Stochastic Gradient Descent (SGD). "
   ]
  },
  {
   "cell_type": "code",
   "metadata": {
    "id": "EmB3UrBpkHV8",
    "executionInfo": {
     "status": "ok",
     "timestamp": 1600384501304,
     "user_tz": 240,
     "elapsed": 463,
     "user": {
      "displayName": "Vaibhav Sundharam",
      "photoUrl": "https://lh3.googleusercontent.com/a-/AOh14Ggf8pEKCJrbRi4ZfFzswWvQ_sKdbph3iOABmyAS=s64",
      "userId": "08654959544633965355"
     }
    },
    "outputId": "0be6a11b-905e-44a7-c9fe-9fc78f23ff91",
    "colab": {
     "base_uri": "https://localhost:8080/",
     "height": 35
    }
   },
   "source": [
    "class nn_MSECriterion:  # MSE = mean squared error.\n",
    "    def forward(self, predictions, labels):\n",
    "        return np.sum(np.square(predictions - labels))\n",
    "\n",
    "# Let's test the loss function.\n",
    "y_hat = np.array([[0.23, 0.25, 0.33], [0.23, 0.25, 0.33], [0.23, 0.25, 0.33], [0.23, 0.25, 0.33]])\n",
    "y_true = np.array([[0.25, 0.25, 0.25], [0.33, 0.33, 0.33], [0.77, 0.77, 0.77], [0.80, 0.80, 0.80]])\n",
    "\n",
    "nn_MSECriterion().forward(y_hat, y_true)"
   ],
   "execution_count": null,
   "outputs": [
    {
     "output_type": "execute_result",
     "data": {
      "text/plain": [
       "1.6271000000000002"
      ]
     },
     "metadata": {
      "tags": []
     },
     "execution_count": 44
    }
   ]
  },
  {
   "cell_type": "markdown",
   "metadata": {
    "id": "NDzmIJOJkHWA"
   },
   "source": [
    "## 3.3. Backward-propagation (Backpropagation)\n",
    "\n",
    "As we discussed in class, backpropagation is just applying the chain-rule in calculus to compute the derivative of a function which is the composition of many functions (this is essentially definition of the neural network). \n",
    "\n",
    "Below is the implementation of required derivative computations for our simple network. You are highly advised to derive the derivatives implemented here to make sure you understand how one arrives at them. "
   ]
  },
  {
   "cell_type": "code",
   "metadata": {
    "id": "oJeynDpzkHWB",
    "executionInfo": {
     "status": "ok",
     "timestamp": 1600384502962,
     "user_tz": 240,
     "elapsed": 479,
     "user": {
      "displayName": "Vaibhav Sundharam",
      "photoUrl": "https://lh3.googleusercontent.com/a-/AOh14Ggf8pEKCJrbRi4ZfFzswWvQ_sKdbph3iOABmyAS=s64",
      "userId": "08654959544633965355"
     }
    },
    "outputId": "4e118685-663c-4d7c-97ae-d5ed0c96a445",
    "colab": {
     "base_uri": "https://localhost:8080/",
     "height": 433
    }
   },
   "source": [
    "# This is referred above as f(u).\n",
    "\n",
    "class nn_MSECriterion:\n",
    "    def forward(self, predictions, labels):\n",
    "        return np.sum(np.square(predictions - labels))\n",
    "        \n",
    "    def backward(self, predictions, labels):\n",
    "        num_samples = labels.shape[0]\n",
    "        return 2 * (predictions - labels)\n",
    "    \n",
    "# This is referred above as g(v).\n",
    "class nn_Sigmoid:\n",
    "    def forward(self, x):\n",
    "        return 1 / (1 + np.exp(-x))\n",
    "    \n",
    "    def backward(self, x, gradOutput):\n",
    "        # It is usually a good idea to use gv from the forward pass and not recompute it again here.\n",
    "        gv = 1 / (1 + np.exp(-x))\n",
    "        return np.multiply(np.multiply(gv, (1 - gv)), gradOutput)\n",
    "\n",
    "# This is referred above as h(W, b)\n",
    "class nn_Linear:\n",
    "    def __init__(self, input_dim, output_dim):\n",
    "        # Initialized with random numbers from a gaussian N(0, 0.001)\n",
    "        self.weight = np.matlib.randn(input_dim, output_dim) * 0.001\n",
    "        self.bias = np.matlib.randn((1, output_dim)) * 0.001\n",
    "        self.gradWeight = np.zeros_like(self.weight)\n",
    "        self.gradBias = np.zeros_like(self.bias)\n",
    "        \n",
    "    def forward(self, x):\n",
    "        return np.dot(x, self.weight) + self.bias\n",
    "    \n",
    "    def backward(self, x, gradOutput):\n",
    "        # dL/dw = dh/dw * dL/dv\n",
    "        self.gradWeight = np.dot(x.T, gradOutput)\n",
    "        # dL/db = dh/db * dL/dv\n",
    "        #self.gradBias = np.copy(gradOutput)\n",
    "        self.gradBias = np.copy(np.sum(gradOutput, axis=0))\n",
    "        # return dL/dx = dh/dx * dL/dv\n",
    "        return np.dot(gradOutput, self.weight.T)\n",
    "    \n",
    "    def getParameters(self):\n",
    "        params = [self.weight, self.bias]\n",
    "        gradParams = [self.gradWeight, self.gradBias]\n",
    "        return params, gradParams\n",
    "    \n",
    "# Let's test some dummy inputs for a full pass of forward and backward propagation.\n",
    "x1 = np.array([[1, 2, 2, 3]])\n",
    "y1 = np.array([[0.25, 0.25, 0.25]])\n",
    "\n",
    "# Define the operations.\n",
    "linear = nn_Linear(4, 3)  # h(W, b)\n",
    "sigmoid = nn_Sigmoid()  # g(v)\n",
    "loss = nn_MSECriterion()  # f(u)\n",
    "\n",
    "# Forward-propagation.\n",
    "lin = linear.forward(x1)\n",
    "y_hat = sigmoid.forward(lin)\n",
    "loss_val = loss.forward(y_hat, y1) # Loss function.\n",
    "\n",
    "# Backward-propagation.\n",
    "dy_hat = loss.backward(y_hat, y1)\n",
    "dlin = sigmoid.backward(lin, dy_hat)\n",
    "dx1 = linear.backward(x1, dlin)\n",
    "\n",
    "print('\\n num_samples = ' + str(y1.shape[0]))\n",
    "\n",
    "# Show parameters of the linear layer.\n",
    "print('\\nW = ' + str(linear.weight))\n",
    "print('B = ' + str(linear.bias))\n",
    "\n",
    "# Show the intermediate outputs in the forward pass.\n",
    "print('\\nx1    = '+ str(x1))\n",
    "print('lin   = ' + str(lin))\n",
    "print('y_hat = ' + str(y_hat))\n",
    "\n",
    "print('\\nloss = ' + str(loss_val))\n",
    "\n",
    "# Show the intermediate gradients with respect to inputs in the backward pass.\n",
    "print('\\ndy_hat = ' + str(dy_hat))\n",
    "print('dlin   = ' + str(dlin))\n",
    "print('dx1    = ' + str(dx1))\n",
    "\n",
    "# Show the gradients with respect to parameters.\n",
    "print('\\ndW = ' + str(linear.gradWeight))\n",
    "print('dB = ' + str(linear.gradBias))"
   ],
   "execution_count": null,
   "outputs": [
    {
     "output_type": "stream",
     "text": [
      "\n",
      " num_samples = 1\n",
      "\n",
      "W = [[ 0.00021114 -0.00039204  0.00107706]\n",
      " [ 0.00012821  0.00092488 -0.00068056]\n",
      " [ 0.00185527  0.00167602 -0.00106642]\n",
      " [ 0.00016323  0.00078008  0.00129365]]\n",
      "B = [[-0.00077203  0.00017823 -0.00145009]]\n",
      "\n",
      "x1    = [[1 2 2 3]]\n",
      "lin   = [[3.89577041e-03 7.32822799e-03 1.39696343e-05]]\n",
      "y_hat = [[0.50097394 0.50183205 0.50000349]]\n",
      "\n",
      "loss = 0.1889090462654487\n",
      "\n",
      "dy_hat = [[0.50194788 0.5036641  0.50000698]]\n",
      "dlin   = [[0.12548649 0.12591433 0.12500175]]\n",
      "dx1    = [[1.11766056e-04 4.74735421e-05 3.10541804e-04 2.80415209e-04]]\n",
      "\n",
      "dW = [[0.12548649 0.12591433 0.12500175]\n",
      " [0.25097299 0.25182867 0.25000349]\n",
      " [0.25097299 0.25182867 0.25000349]\n",
      " [0.37645948 0.377743   0.37500524]]\n",
      "dB = [[0.12548649 0.12591433 0.12500175]]\n"
     ],
     "name": "stdout"
    }
   ]
  },
  {
   "cell_type": "markdown",
   "metadata": {
    "id": "pFVLUvPjkHWG"
   },
   "source": [
    "## 3.4. Gradient checking \n",
    "\n",
    "The gradients can also be computed with numerical approximation using the definition of derivatives. Let a single input pair $(\\mathbf{x}, \\mathbf{y})$ be the input, for each entry $w_{ij}$ in the weight matrix $\\mathbf{W}$, the partial derivatives can be computed as follows:\n",
    "\n",
    "$$\\frac{\\partial \\mathcal{L}(\\mathbf{W},\\mathbf{b})}{\\partial w_{ij}} = \\frac{\\mathcal{L}(\\mathbf{W} + \\mathbf{E}_{ij},b) - \\mathcal{L}(\\mathbf{W} - \\mathbf{E}_{ij}, b)}{2\\epsilon}, $$\n",
    "\n",
    "where $\\mathbf{E}_{ij}$ is a matrix that has $\\epsilon$ in its $(i,j)$ entry and zeros everywhere else. Intuitively this gradient tells how would the value of the loss changes if we change a particular weight $w_{ij}$ by an $\\epsilon$ amount. We can do the same to compute derivatives with respect to the bias parameters $b_i$. Below is the code that checks for a given input $(\\mathbf{x}, \\mathbf{y})$, the gradients for the matrix $\\mathbf{W}$. "
   ]
  },
  {
   "cell_type": "code",
   "metadata": {
    "id": "pf0zqQGIkHWH",
    "executionInfo": {
     "status": "ok",
     "timestamp": 1600384506640,
     "user_tz": 240,
     "elapsed": 461,
     "user": {
      "displayName": "Vaibhav Sundharam",
      "photoUrl": "https://lh3.googleusercontent.com/a-/AOh14Ggf8pEKCJrbRi4ZfFzswWvQ_sKdbph3iOABmyAS=s64",
      "userId": "08654959544633965355"
     }
    },
    "outputId": "28011a0d-9e56-4207-dd6c-84e911114be3",
    "colab": {
     "base_uri": "https://localhost:8080/",
     "height": 173
    }
   },
   "source": [
    "# We will compute derivatives with respect to a single data pair (x,y)\n",
    "x = np.array([[2.34, 3.8, 34.44, 5.33]])\n",
    "y = np.array([[3.2, 4.2, 5.3]])\n",
    "\n",
    "# Define the operations.\n",
    "linear = nn_Linear(4, 3)\n",
    "sigmoid = nn_Sigmoid()\n",
    "criterion = nn_MSECriterion()\n",
    "\n",
    "# Forward-propagation.\n",
    "a0 = linear.forward(x)\n",
    "a1 = sigmoid.forward(a0)\n",
    "loss = criterion.forward(a1, y) # Loss function.\n",
    "\n",
    "# Backward-propagation.\n",
    "da1 = criterion.backward(a1, y)\n",
    "da0 = sigmoid.backward(a0, da1)\n",
    "dx = linear.backward(x, da0)\n",
    "\n",
    "gradWeight = linear.gradWeight\n",
    "gradBias = linear.gradBias\n",
    "\n",
    "approxGradWeight = np.zeros_like(linear.weight)\n",
    "approxGradBias = np.zeros_like(linear.bias)\n",
    "\n",
    "# We will verify here that gradWeights are correct and leave it as an excercise\n",
    "# to verify the gradBias.\n",
    "epsilon = 0.0001\n",
    "for i in range(0, linear.weight.shape[0]):\n",
    "    for j in range(0, linear.weight.shape[1]):\n",
    "        # Compute f(w)\n",
    "        fw = criterion.forward(sigmoid.forward(linear.forward(x)), y) # Loss function.\n",
    "        # Compute f(w + eps)\n",
    "        shifted_weight = np.copy(linear.weight)\n",
    "        shifted_weight[i, j] = shifted_weight[i, j] + epsilon\n",
    "        shifted_linear = nn_Linear(4, 3)\n",
    "        shifted_linear.bias = linear.bias\n",
    "        shifted_linear.weight = shifted_weight\n",
    "        fw_epsilon = criterion.forward(sigmoid.forward(shifted_linear.forward(x)), y) # Loss function\n",
    "        # Compute (f(w + eps) - f(w)) / eps\n",
    "        approxGradWeight[i, j] = (fw_epsilon - fw) / epsilon\n",
    "\n",
    "# These two outputs should be similar up to some precision.\n",
    "print('gradWeight: ' + str(gradWeight))\n",
    "print('\\napproxGradWeight: ' + str(approxGradWeight))"
   ],
   "execution_count": null,
   "outputs": [
    {
     "output_type": "stream",
     "text": [
      "gradWeight: [[ -3.16486828  -4.33753052  -5.62365379]\n",
      " [ -5.13952968  -7.04385299  -9.13242923]\n",
      " [-46.580369   -63.83955181 -82.76864808]\n",
      " [ -7.20886663  -9.87993064 -12.80943363]]\n",
      "\n",
      "approxGradWeight: [[ -3.16483799  -4.33750474  -5.62362966]\n",
      " [ -5.13944978  -7.04378496  -9.13236555]\n",
      " [-46.57376498 -63.83390788 -82.76334382]\n",
      " [ -7.20870939  -9.87979674 -12.80930825]]\n"
     ],
     "name": "stdout"
    }
   ]
  },
  {
   "cell_type": "markdown",
   "metadata": {
    "id": "Jr9ln8QekHWN"
   },
   "source": [
    "## Section 3.4. Playing with the Simple NN\n",
    "Now, we provide a simple NN model that has an training accuracy around 46%. You job here is to first run and check the simple NN model, and the experiments it with:\n",
    "- Try using 3 different numbers of layers for the simple NN, and plot the accuracy as a function of the number of layers. \n",
    "- Try 4 different numbers of hidden state size, and plot the accuracy as a function of the number you have tried.\n",
    "- Try different activation function (Sigmoid, ReLU)\n",
    "- Briefly describe what you've observed in the above experiments\n",
    "\n",
    "Note that you are free to create your own Simple_NN class for your experiments."
   ]
  },
  {
   "cell_type": "code",
   "metadata": {
    "id": "zob2fi2rkHWN"
   },
   "source": [
    "class nn_CECriterionWithLogits:\n",
    "    def forward(self, logits, labels):\n",
    "        y_indices = np.arange(len(labels))\n",
    "        self.probs = softmax(logits)\n",
    "        correct_class_prob = self.probs[y_indices, labels].reshape(-1, 1)\n",
    "        loss = np.sum(-np.log(correct_class_prob)) / len(correct_class_prob)\n",
    "        return loss\n",
    "    \n",
    "    def backward(self, labels):\n",
    "        y_indices = np.arange(len(labels))\n",
    "        gradOutput = self.probs\n",
    "        gradOutput[y_indices, labels] -= 1\n",
    "        return gradOutput / len(labels)\n",
    "    \n",
    "class nn_ReLU:\n",
    "    def forward(self, x):\n",
    "        # Forward pass.\n",
    "        return np.maximum(0, x)\n",
    "    \n",
    "    def backward(self, x, gradOutput):\n",
    "        # Backward pass\n",
    "        return np.where(x < 0, 0, np.multiply(1, gradOutput))\n",
    "    \n",
    "def softmax(x):\n",
    "    exp = np.exp(x - x.max()) # stability trick\n",
    "    return (exp / np.sum(exp, axis=1))"
   ],
   "execution_count": null,
   "outputs": []
  },
  {
   "cell_type": "code",
   "metadata": {
    "id": "v4mx4ve_kHWR"
   },
   "source": [
    "class Simple_NN(object):\n",
    "    def __init__(self, input_size, output_size, hidden_state_size=64):\n",
    "        self.linear1 = nn_Linear(input_size, hidden_state_size)\n",
    "        self.activation = nn_ReLU()\n",
    "        self.linear2 = nn_Linear(hidden_state_size, output_size)\n",
    "        \n",
    "    def forward(self, X):\n",
    "        self.X = X\n",
    "        self.x1 = self.linear1.forward(self.X)\n",
    "        self.a1 = self.activation.forward(self.x1)\n",
    "        logits = self.linear2.forward(self.a1)\n",
    "        return logits\n",
    "    \n",
    "    def backward(self, gradOutput):\n",
    "        dx2 = self.linear2.backward(self.a1, gradOutput)\n",
    "        da1 = self.activation.backward(self.x1, dx2)\n",
    "        self.linear1.backward(self.X, da1)\n",
    "    \n",
    "    def update(self, lr):\n",
    "        self.linear1.weight = self.linear1.weight - lr * (self.linear1.gradWeight)\n",
    "        self.linear1.bias = self.linear1.bias - lr * (self.linear1.gradBias)\n",
    "        self.linear2.weight = self.linear2.weight - lr * (self.linear2.gradWeight)\n",
    "        self.linear2.bias = self.linear2.bias - lr * (self.linear2.gradBias)\n",
    "        \n",
    "    def train(self, X_train, y_train, loss_criterion=nn_CECriterionWithLogits(), \n",
    "              lr=1e-5, n_iter=1500, batch_size=200):\n",
    "        loss_hist = []\n",
    "\n",
    "        for i in range(n_iter):\n",
    "            batch_indices = np.random.choice(len(X_train), batch_size)\n",
    "            X_batch = X_train[batch_indices]\n",
    "            y_batch = y_train[batch_indices]\n",
    "            \n",
    "            logits = self.forward(X_batch)\n",
    "            loss = loss_criterion.forward(logits, y_batch)\n",
    "            loss_grad = loss_criterion.backward(y_batch)\n",
    "            self.backward(loss_grad)\n",
    "            self.update(lr)\n",
    "\n",
    "            if (i + 1) % 100 == 0:\n",
    "                print(f'Iter {i+1}/{n_iter} - loss: {loss} ')\n",
    "            loss_hist.append(loss)\n",
    "        return loss_hist\n",
    "    def predict(self, X):\n",
    "        return np.asarray(np.argmax(softmax(self.forward(X)), axis=1)).squeeze(1)"
   ],
   "execution_count": null,
   "outputs": []
  },
  {
   "cell_type": "markdown",
   "metadata": {
    "id": "WSE7TG_hkHWU"
   },
   "source": [
    "As the bias is explicitly handled in the MLP code, stripped off the ones we have concatenated to the feature vectors."
   ]
  },
  {
   "cell_type": "code",
   "metadata": {
    "id": "mpwk6unlkHWU"
   },
   "source": [
    "X_train = X_train[:, :3072]\n",
    "X_val = X_val[:, :3072]\n",
    "X_test = X_test[:, :3072]"
   ],
   "execution_count": null,
   "outputs": []
  },
  {
   "cell_type": "markdown",
   "metadata": {
    "id": "g8PbA_C5kHWa"
   },
   "source": [
    "Now, run the simple NN to check the accuracy:"
   ]
  },
  {
   "cell_type": "code",
   "metadata": {
    "id": "ypLe3xWbkHWb",
    "executionInfo": {
     "status": "ok",
     "timestamp": 1600384527599,
     "user_tz": 240,
     "elapsed": 13901,
     "user": {
      "displayName": "Vaibhav Sundharam",
      "photoUrl": "https://lh3.googleusercontent.com/a-/AOh14Ggf8pEKCJrbRi4ZfFzswWvQ_sKdbph3iOABmyAS=s64",
      "userId": "08654959544633965355"
     }
    },
    "outputId": "8dcc8254-4f83-412d-f5ae-067a54c2db6e",
    "colab": {
     "base_uri": "https://localhost:8080/",
     "height": 277
    }
   },
   "source": [
    "model = Simple_NN(X_train.shape[1], np.max(y_train)+1, hidden_state_size=64)\n",
    "n_iter = 1500\n",
    "batch_size = 200\n",
    "loss_hist = model.train(X_train, y_train, lr=1e-4)"
   ],
   "execution_count": null,
   "outputs": [
    {
     "output_type": "stream",
     "text": [
      "Iter 100/1500 - loss: 2.25854922614941 \n",
      "Iter 200/1500 - loss: 2.173914622697096 \n",
      "Iter 300/1500 - loss: 2.0677757083777646 \n",
      "Iter 400/1500 - loss: 2.0017622163027555 \n",
      "Iter 500/1500 - loss: 1.9480385796514659 \n",
      "Iter 600/1500 - loss: 1.8810958800409452 \n",
      "Iter 700/1500 - loss: 1.8727209182884053 \n",
      "Iter 800/1500 - loss: 1.796526377523859 \n",
      "Iter 900/1500 - loss: 1.7954332727292788 \n",
      "Iter 1000/1500 - loss: 1.8551354286536839 \n",
      "Iter 1100/1500 - loss: 1.7786410244466464 \n",
      "Iter 1200/1500 - loss: 1.7630427855695947 \n",
      "Iter 1300/1500 - loss: 1.7646659704927015 \n",
      "Iter 1400/1500 - loss: 1.8297385239956512 \n",
      "Iter 1500/1500 - loss: 1.7384880674610261 \n"
     ],
     "name": "stdout"
    }
   ]
  },
  {
   "cell_type": "code",
   "metadata": {
    "id": "Qu-B5jaHkHWm",
    "executionInfo": {
     "status": "ok",
     "timestamp": 1600384528635,
     "user_tz": 240,
     "elapsed": 13905,
     "user": {
      "displayName": "Vaibhav Sundharam",
      "photoUrl": "https://lh3.googleusercontent.com/a-/AOh14Ggf8pEKCJrbRi4ZfFzswWvQ_sKdbph3iOABmyAS=s64",
      "userId": "08654959544633965355"
     }
    },
    "outputId": "25d9c3d5-4f40-417c-86c9-1a316f36a3b5",
    "colab": {
     "base_uri": "https://localhost:8080/",
     "height": 314
    }
   },
   "source": [
    "plt.plot(loss_hist);\n",
    "plt.ylabel('loss');\n",
    "plt.xlabel('iteration');\n",
    "predict = model.predict(X_train)\n",
    "print('The training accuracy is given by : %f' % (get_acc(predict, y_train)))\n",
    "predict = model.predict(X_val)\n",
    "print('The training accuracy is given by : %f' % (get_acc(predict, y_val)))"
   ],
   "execution_count": null,
   "outputs": [
    {
     "output_type": "stream",
     "text": [
      "The training accuracy is given by : 39.530612\n",
      "The training accuracy is given by : 39.900000\n"
     ],
     "name": "stdout"
    },
    {
     "output_type": "display_data",
     "data": {
      "image/png": "[encoded data removed]",
      "text/plain": [
       "<Figure size 432x288 with 1 Axes>"
      ]
     },
     "metadata": {
      "tags": [],
      "needs_background": "light"
     }
    }
   ]
  },
  {
   "cell_type": "markdown",
   "metadata": {
    "id": "JBrovmtdkHWp"
   },
   "source": [
    "### Section 3.4.1. Different numbers of layers\n",
    "Try building 3 simple NN with different numbers of layers. Plot the training/validation/test accuracy as a function of the numbers of layers."
   ]
  },
  {
   "cell_type": "code",
   "metadata": {
    "id": "SUUmMRLqWpU7"
   },
   "source": [
    "results3_4_1 = {}"
   ],
   "execution_count": null,
   "outputs": []
  },
  {
   "cell_type": "markdown",
   "metadata": {
    "id": "2WMpIp1Gq9BE"
   },
   "source": [
    "#### 3-Layer Network"
   ]
  },
  {
   "cell_type": "code",
   "metadata": {
    "id": "s9qIRhmbtrzA"
   },
   "source": [
    "class NN_3_Layers(object):\n",
    "  def __init__(self, input_size, output_size, hidden_state_size=64):\n",
    "    self.linear1 = nn_Linear(input_size, hidden_state_size)\n",
    "    self.activation1 = nn_ReLU()\n",
    "    self.linear2 = nn_Linear(hidden_state_size, hidden_state_size)\n",
    "    self.activation2 = nn_ReLU()\n",
    "    self.linear3 = nn_Linear(hidden_state_size, output_size)\n",
    "\n",
    "  def forward(self, X):\n",
    "    self.X = X\n",
    "    self.x1 = self.linear1.forward(self.X)\n",
    "    self.a1 = self.activation1.forward(self.x1) \n",
    "    self.x2 = self.linear2.forward(self.a1)   \n",
    "    self.a2 = self.activation2.forward(self.x2)\n",
    "    logits = self.linear3.forward(self.a2)\n",
    "    return logits\n",
    "\n",
    "  def backward(self, gradOutput):\n",
    "    dx3 = self.linear3.backward(self.a2, gradOutput)\n",
    "    da2 = self.activation2.backward(self.x2, dx3)\n",
    "    dx2 = self.linear2.backward(self.a1, da2)    \n",
    "    da1 = self.activation1.backward(self.x1, dx2)\n",
    "    self.linear1.backward(self.X, da1)    \n",
    "\n",
    "  def update(self, lr):\n",
    "    self.linear1.weight = self.linear1.weight - lr * (self.linear1.gradWeight)\n",
    "    self.linear1.bias = self.linear1.bias - lr * (self.linear1.gradBias)\n",
    "    self.linear2.weight = self.linear2.weight - lr * (self.linear2.gradWeight)\n",
    "    self.linear2.bias = self.linear2.bias - lr * (self.linear2.gradBias)\n",
    "    self.linear3.weight = self.linear3.weight - lr * (self.linear3.gradWeight)\n",
    "    self.linear3.bias = self.linear3.bias - lr * (self.linear3.gradBias)\n",
    "\n",
    "  def train(self, X_train, y_train, loss_criterion=nn_CECriterionWithLogits(), \n",
    "              lr=1e-5, n_iter=1500, batch_size=200):\n",
    "    loss_hist = []\n",
    "\n",
    "    for i in range(n_iter):\n",
    "      batch_indices = np.random.choice(len(X_train), batch_size)\n",
    "      X_batch = X_train[batch_indices]\n",
    "      y_batch = y_train[batch_indices]\n",
    "            \n",
    "      logits = self.forward(X_batch)\n",
    "      loss = loss_criterion.forward(logits, y_batch)\n",
    "      loss_grad = loss_criterion.backward(y_batch)\n",
    "      self.backward(loss_grad)\n",
    "      self.update(lr)\n",
    "\n",
    "      if (i + 1) % 100 == 0:\n",
    "        print(f'Iter {i+1}/{n_iter} - loss: {loss} ')\n",
    "      loss_hist.append(loss)\n",
    "    return loss_hist\n",
    "\n",
    "  def predict(self, X):\n",
    "    return np.asarray(np.argmax(softmax(self.forward(X)), axis=1)).squeeze(1)"
   ],
   "execution_count": null,
   "outputs": []
  },
  {
   "cell_type": "code",
   "metadata": {
    "id": "mQQm4GAOrjAa",
    "executionInfo": {
     "status": "ok",
     "timestamp": 1600384792722,
     "user_tz": 240,
     "elapsed": 25608,
     "user": {
      "displayName": "Vaibhav Sundharam",
      "photoUrl": "https://lh3.googleusercontent.com/a-/AOh14Ggf8pEKCJrbRi4ZfFzswWvQ_sKdbph3iOABmyAS=s64",
      "userId": "08654959544633965355"
     }
    },
    "outputId": "77e637bf-dded-4d92-dd91-201f1b1609e6",
    "colab": {
     "base_uri": "https://localhost:8080/",
     "height": 503
    }
   },
   "source": [
    "model = NN_3_Layers(X_train.shape[1], np.max(y_train)+1, hidden_state_size=64)\n",
    "n_iter = 2500\n",
    "batch_size = 200\n",
    "loss_hist = model.train(X_train, y_train, lr=0.01, n_iter=n_iter)\n",
    "predict_train = model.predict(X_train)\n",
    "acc_train = get_acc(predict_train, y_train)\n",
    "print('The training accuracy is given by : %f' % acc_train)\n",
    "predict_val = model.predict(X_val)\n",
    "acc_val = get_acc(predict_val, y_val)\n",
    "print('The validation accuracy is given by : %f' % acc_val )\n",
    "predict_test = model.predict(X_test)\n",
    "acc_test = get_acc(predict_test, y_test)\n",
    "print('The testing accuracy is given by : %f' % acc_test)\n",
    "results3_4_1[3] = [acc_train, acc_val, acc_test]"
   ],
   "execution_count": null,
   "outputs": [
    {
     "output_type": "stream",
     "text": [
      "Iter 100/2500 - loss: 2.301448869067347 \n",
      "Iter 200/2500 - loss: 2.207465197208124 \n",
      "Iter 300/2500 - loss: 1.9135989434886698 \n",
      "Iter 400/2500 - loss: 1.7562627842273926 \n",
      "Iter 500/2500 - loss: 1.6192750776283875 \n",
      "Iter 600/2500 - loss: 1.725343030408572 \n",
      "Iter 700/2500 - loss: 1.671611333449839 \n",
      "Iter 800/2500 - loss: 1.475730346934741 \n",
      "Iter 900/2500 - loss: 1.4677042371052722 \n",
      "Iter 1000/2500 - loss: 1.3953171844404113 \n",
      "Iter 1100/2500 - loss: 1.4509293588894985 \n",
      "Iter 1200/2500 - loss: 1.4462666738822048 \n",
      "Iter 1300/2500 - loss: 1.3680620060931978 \n",
      "Iter 1400/2500 - loss: 1.5029206800728518 \n",
      "Iter 1500/2500 - loss: 1.4251473402539403 \n",
      "Iter 1600/2500 - loss: 1.3445726523334554 \n",
      "Iter 1700/2500 - loss: 1.367189884619532 \n",
      "Iter 1800/2500 - loss: 1.482329734656837 \n",
      "Iter 1900/2500 - loss: 1.283359299859681 \n",
      "Iter 2000/2500 - loss: 1.2852466753810763 \n",
      "Iter 2100/2500 - loss: 1.4036255026423783 \n",
      "Iter 2200/2500 - loss: 1.2908728387345962 \n",
      "Iter 2300/2500 - loss: 1.3245621622997472 \n",
      "Iter 2400/2500 - loss: 1.1748574434523753 \n",
      "Iter 2500/2500 - loss: 1.2042523190335102 \n",
      "The training accuracy is given by : 55.526531\n",
      "The validation accuracy is given by : 49.000000\n",
      "The testing accuracy is given by : 48.500000\n"
     ],
     "name": "stdout"
    }
   ]
  },
  {
   "cell_type": "markdown",
   "metadata": {
    "id": "n5kZfh1QoUcF"
   },
   "source": [
    "####4-Layer Network"
   ]
  },
  {
   "cell_type": "code",
   "metadata": {
    "id": "WtiY8tcWoZ04"
   },
   "source": [
    "class NN_4_Layers(object):\n",
    "  def __init__(self, input_size, output_size, hidden_state_size=64):\n",
    "    self.linear1 = nn_Linear(input_size, hidden_state_size)\n",
    "    self.activation1 = nn_ReLU()\n",
    "    self.linear2 = nn_Linear(hidden_state_size, hidden_state_size)\n",
    "    self.activation2 = nn_ReLU()\n",
    "    self.linear3 = nn_Linear(hidden_state_size, hidden_state_size)\n",
    "    self.activation3 = nn_ReLU()\n",
    "    self.linear4 = nn_Linear(hidden_state_size, output_size)\n",
    "\n",
    "  def forward(self, X):\n",
    "    self.X = X\n",
    "    self.x1 = self.linear1.forward(self.X)\n",
    "    self.a1 = self.activation1.forward(self.x1) \n",
    "    self.x2 = self.linear2.forward(self.a1)   \n",
    "    self.a2 = self.activation2.forward(self.x2)\n",
    "    self.x3 = self.linear3.forward(self.a2) \n",
    "    self.a3 = self.activation3.forward(self.x3)\n",
    "    logits = self.linear4.forward(self.a3)\n",
    "    return logits  \n",
    "\n",
    "  def backward(self, gradOutput):\n",
    "    dx4 = self.linear4.backward(self.a3, gradOutput)\n",
    "    da3 = self.activation3.backward(self.x3, dx4)\n",
    "    dx3 = self.linear3.backward(self.a2, da3)\n",
    "    da2 = self.activation2.backward(self.x2, dx3)\n",
    "    dx2 = self.linear2.backward(self.a1, da2)\n",
    "    da1 = self.activation1.backward(self.x1, dx2)\n",
    "    self.linear1.backward(self.X, da1)\n",
    "        \n",
    "\n",
    "  def update(self, lr):\n",
    "    self.linear1.weight = self.linear1.weight - lr * (self.linear1.gradWeight)\n",
    "    self.linear1.bias = self.linear1.bias - lr * (self.linear1.gradBias)\n",
    "    self.linear2.weight = self.linear2.weight - lr * (self.linear2.gradWeight)\n",
    "    self.linear2.bias = self.linear2.bias - lr * (self.linear2.gradBias)\n",
    "    self.linear3.weight = self.linear3.weight - lr * (self.linear3.gradWeight)\n",
    "    self.linear3.bias = self.linear3.bias - lr * (self.linear3.gradBias)\n",
    "    self.linear4.weight = self.linear4.weight - lr * (self.linear4.gradWeight)\n",
    "    self.linear4.bias = self.linear4.bias - lr * (self.linear4.gradBias)\n",
    "\n",
    "  def train(self, X_train, y_train, loss_criterion=nn_CECriterionWithLogits(), \n",
    "              lr=1e-5, n_iter=1500, batch_size=200):\n",
    "    loss_hist = []\n",
    "\n",
    "    for i in range(n_iter):\n",
    "      batch_indices = np.random.choice(len(X_train), batch_size)\n",
    "      X_batch = X_train[batch_indices]\n",
    "      y_batch = y_train[batch_indices]\n",
    "            \n",
    "      logits = self.forward(X_batch)\n",
    "      loss = loss_criterion.forward(logits, y_batch)\n",
    "      loss_grad = loss_criterion.backward(y_batch)\n",
    "      self.backward(loss_grad)\n",
    "      self.update(lr)\n",
    "\n",
    "      if (i + 1) % 100 == 0:\n",
    "        print(f'Iter {i+1}/{n_iter} - loss: {loss} ')\n",
    "      loss_hist.append(loss)\n",
    "    return loss_hist\n",
    "\n",
    "  def predict(self, X):\n",
    "    return np.asarray(np.argmax(softmax(self.forward(X)), axis=1)).squeeze(1)"
   ],
   "execution_count": null,
   "outputs": []
  },
  {
   "cell_type": "code",
   "metadata": {
    "id": "eswH3IiJqUQ0",
    "executionInfo": {
     "status": "ok",
     "timestamp": 1600384820114,
     "user_tz": 240,
     "elapsed": 27374,
     "user": {
      "displayName": "Vaibhav Sundharam",
      "photoUrl": "https://lh3.googleusercontent.com/a-/AOh14Ggf8pEKCJrbRi4ZfFzswWvQ_sKdbph3iOABmyAS=s64",
      "userId": "08654959544633965355"
     }
    },
    "outputId": "852954f5-9c3b-430d-bd23-33f536887e07",
    "colab": {
     "base_uri": "https://localhost:8080/",
     "height": 503
    }
   },
   "source": [
    "model = NN_4_Layers(X_train.shape[1], np.max(y_train)+1, hidden_state_size=64)\n",
    "n_iter = 2500\n",
    "batch_size = 200\n",
    "loss_hist = model.train(X_train, y_train, lr=0.1, n_iter=n_iter)\n",
    "predict_train = model.predict(X_train)\n",
    "acc_train = get_acc(predict_train, y_train)\n",
    "print('The training accuracy is given by : %f' % acc_train)\n",
    "predict_val = model.predict(X_val)\n",
    "acc_val = get_acc(predict_val, y_val)\n",
    "print('The validation accuracy is given by : %f' % acc_val )\n",
    "predict_test = model.predict(X_test)\n",
    "acc_test = get_acc(predict_test, y_test)\n",
    "print('The testing accuracy is given by : %f' % acc_test)\n",
    "results3_4_1[4] = [acc_train, acc_val, acc_test]"
   ],
   "execution_count": null,
   "outputs": [
    {
     "output_type": "stream",
     "text": [
      "Iter 100/2500 - loss: 2.303073436784948 \n",
      "Iter 200/2500 - loss: 2.302134750869818 \n",
      "Iter 300/2500 - loss: 2.3027356419953633 \n",
      "Iter 400/2500 - loss: 2.3028878770825223 \n",
      "Iter 500/2500 - loss: 2.3028421965483266 \n",
      "Iter 600/2500 - loss: 2.3029858572989768 \n",
      "Iter 700/2500 - loss: 2.3020832032629044 \n",
      "Iter 800/2500 - loss: 2.3031947990485113 \n",
      "Iter 900/2500 - loss: 2.302092899162142 \n",
      "Iter 1000/2500 - loss: 2.304314405759524 \n",
      "Iter 1100/2500 - loss: 2.302863757345085 \n",
      "Iter 1200/2500 - loss: 2.30329878994692 \n",
      "Iter 1300/2500 - loss: 2.3031299370515446 \n",
      "Iter 1400/2500 - loss: 2.3055426986373413 \n",
      "Iter 1500/2500 - loss: 2.11968518022119 \n",
      "Iter 1600/2500 - loss: 2.0739352836199023 \n",
      "Iter 1700/2500 - loss: 2.0114045028221907 \n",
      "Iter 1800/2500 - loss: 1.9602369251695688 \n",
      "Iter 1900/2500 - loss: 2.0303950014129395 \n",
      "Iter 2000/2500 - loss: 1.7959112155416221 \n",
      "Iter 2100/2500 - loss: 1.9215354657640185 \n",
      "Iter 2200/2500 - loss: 1.9295490344986945 \n",
      "Iter 2300/2500 - loss: 1.7178432102621917 \n",
      "Iter 2400/2500 - loss: 1.8636470155366214 \n",
      "Iter 2500/2500 - loss: 1.7968204089206015 \n",
      "The training accuracy is given by : 35.504082\n",
      "The validation accuracy is given by : 36.200000\n",
      "The testing accuracy is given by : 36.100000\n"
     ],
     "name": "stdout"
    }
   ]
  },
  {
   "cell_type": "markdown",
   "metadata": {
    "id": "XJ_oaBCLqu0N"
   },
   "source": [
    "####5-layer Neural Network"
   ]
  },
  {
   "cell_type": "code",
   "metadata": {
    "id": "IIWWJ77lqtEp"
   },
   "source": [
    "class NN_5_Layers(object):\n",
    "  def __init__(self, input_size, output_size, hidden_state_size=64):\n",
    "\n",
    "    self.linear1 = nn_Linear(input_size, hidden_state_size)\n",
    "    self.activation1 = nn_ReLU()\n",
    "    self.linear2 = nn_Linear(hidden_state_size, hidden_state_size)\n",
    "    self.activation2 = nn_ReLU()\n",
    "    self.linear3 = nn_Linear(hidden_state_size, hidden_state_size)\n",
    "    self.activation3 = nn_ReLU()\n",
    "    self.linear4 = nn_Linear(hidden_state_size, hidden_state_size)\n",
    "    self.activation4 = nn_ReLU()\n",
    "    self.linear5 = nn_Linear(hidden_state_size, output_size)    \n",
    "\n",
    "  def forward(self, X):\n",
    "    self.X = X\n",
    "    self.x1 = self.linear1.forward(self.X)\n",
    "    self.a1 = self.activation1.forward(self.x1) \n",
    "    self.x2 = self.linear2.forward(self.a1)   \n",
    "    self.a2 = self.activation2.forward(self.x2)\n",
    "    self.x3 = self.linear3.forward(self.a2)\n",
    "    self.a3 = self.activation3.forward(self.x3)\n",
    "    self.x4 = self.linear4.forward(self.a3)\n",
    "    self.a4 = self.activation4.forward(self.x4)\n",
    "    logits = self.linear5.forward(self.a4)\n",
    "    return logits\n",
    "\n",
    "  def backward(self, gradOutput):\n",
    "    dx5 = self.linear5.backward(self.a4, gradOutput)\n",
    "    da4 = self.activation4.backward(self.x4, dx5)\n",
    "    dx4 = self.linear4.backward(self.a3, da4)\n",
    "    da3 = self.activation1.backward(self.x3, dx4)\n",
    "    dx3 = self.linear3.backward(self.a2, da3)\n",
    "    da2 = self.activation1.backward(self.x2, dx3)\n",
    "    dx2 = self.linear2.backward(self.a1, da2)    \n",
    "    da1 = self.activation1.backward(self.x1, dx2)\n",
    "    self.linear1.backward(self.X, da1)    \n",
    "\n",
    "  def update(self, lr):\n",
    "    self.linear1.weight = self.linear1.weight - lr * (self.linear1.gradWeight)\n",
    "    self.linear1.bias = self.linear1.bias - lr * (self.linear1.gradBias)\n",
    "    self.linear2.weight = self.linear2.weight - lr * (self.linear2.gradWeight)\n",
    "    self.linear2.bias = self.linear2.bias - lr * (self.linear2.gradBias)\n",
    "    self.linear3.weight = self.linear3.weight - lr * (self.linear3.gradWeight)\n",
    "    self.linear3.bias = self.linear3.bias - lr * (self.linear3.gradBias)\n",
    "    self.linear4.weight = self.linear4.weight - lr * (self.linear4.gradWeight)\n",
    "    self.linear4.bias = self.linear4.bias - lr * (self.linear4.gradBias)\n",
    "    self.linear5.weight = self.linear5.weight - lr * (self.linear5.gradWeight)\n",
    "    self.linear5.bias = self.linear5.bias - lr * (self.linear5.gradBias)\n",
    "\n",
    "  def train(self, X_train, y_train, loss_criterion=nn_CECriterionWithLogits(), \n",
    "              lr=1e-5, n_iter=1500, batch_size=200):\n",
    "    loss_hist = []\n",
    "\n",
    "    for i in range(n_iter):\n",
    "      batch_indices = np.random.choice(len(X_train), batch_size)\n",
    "      X_batch = X_train[batch_indices]\n",
    "      y_batch = y_train[batch_indices]\n",
    "            \n",
    "      logits = self.forward(X_batch)\n",
    "      loss = loss_criterion.forward(logits, y_batch)\n",
    "      loss_grad = loss_criterion.backward(y_batch)\n",
    "      self.backward(loss_grad)\n",
    "      self.update(lr)\n",
    "\n",
    "      if (i + 1) % 100 == 0:\n",
    "        print(f'Iter {i+1}/{n_iter} - loss: {loss} ')\n",
    "      loss_hist.append(loss)\n",
    "    return loss_hist\n",
    "\n",
    "  def predict(self, X):\n",
    "    return np.asarray(np.argmax(softmax(self.forward(X)), axis=1)).squeeze(1)"
   ],
   "execution_count": null,
   "outputs": []
  },
  {
   "cell_type": "code",
   "metadata": {
    "id": "Cd0vfFUHs0gh",
    "executionInfo": {
     "status": "ok",
     "timestamp": 1600384886280,
     "user_tz": 240,
     "elapsed": 28381,
     "user": {
      "displayName": "Vaibhav Sundharam",
      "photoUrl": "https://lh3.googleusercontent.com/a-/AOh14Ggf8pEKCJrbRi4ZfFzswWvQ_sKdbph3iOABmyAS=s64",
      "userId": "08654959544633965355"
     }
    },
    "outputId": "e831ed01-6b10-434a-9fa8-1f2f7c01b129",
    "colab": {
     "base_uri": "https://localhost:8080/",
     "height": 503
    }
   },
   "source": [
    "model = NN_5_Layers(X_train.shape[1], np.max(y_train)+1, hidden_state_size=64)\n",
    "n_iter = 2500\n",
    "batch_size = 200\n",
    "loss_hist = model.train(X_train, y_train, lr=0.1, n_iter=n_iter)\n",
    "predict_train = model.predict(X_train)\n",
    "acc_train = get_acc(predict_train, y_train)\n",
    "print('The training accuracy is given by : %f' % acc_train)\n",
    "predict_val = model.predict(X_val)\n",
    "acc_val = get_acc(predict_val, y_val)\n",
    "print('The validation accuracy is given by : %f' % acc_val )\n",
    "predict_test = model.predict(X_test)\n",
    "acc_test = get_acc(predict_test, y_test)\n",
    "print('The testing accuracy is given by : %f' % acc_test)\n",
    "results3_4_1[5] = [acc_train, acc_val, acc_test]"
   ],
   "execution_count": null,
   "outputs": [
    {
     "output_type": "stream",
     "text": [
      "Iter 100/2500 - loss: 2.3020728099907517 \n",
      "Iter 200/2500 - loss: 2.301461651772167 \n",
      "Iter 300/2500 - loss: 2.3004687887987747 \n",
      "Iter 400/2500 - loss: 2.303768888606963 \n",
      "Iter 500/2500 - loss: 2.30229397597631 \n",
      "Iter 600/2500 - loss: 2.3042441926786483 \n",
      "Iter 700/2500 - loss: 2.3016045909552827 \n",
      "Iter 800/2500 - loss: 2.304515918590226 \n",
      "Iter 900/2500 - loss: 2.3016603870448566 \n",
      "Iter 1000/2500 - loss: 2.3026432676543633 \n",
      "Iter 1100/2500 - loss: 2.3035387306666637 \n",
      "Iter 1200/2500 - loss: 2.3034362230818908 \n",
      "Iter 1300/2500 - loss: 2.302122111318914 \n",
      "Iter 1400/2500 - loss: 2.301599402625671 \n",
      "Iter 1500/2500 - loss: 2.3030031162634437 \n",
      "Iter 1600/2500 - loss: 2.302811393494258 \n",
      "Iter 1700/2500 - loss: 2.3012800003976572 \n",
      "Iter 1800/2500 - loss: 2.301498166987376 \n",
      "Iter 1900/2500 - loss: 2.303205656742731 \n",
      "Iter 2000/2500 - loss: 2.302961635674897 \n",
      "Iter 2100/2500 - loss: 2.3016992967271768 \n",
      "Iter 2200/2500 - loss: 2.3038355909030566 \n",
      "Iter 2300/2500 - loss: 2.3030100561640467 \n",
      "Iter 2400/2500 - loss: 2.3012482812890287 \n",
      "Iter 2500/2500 - loss: 2.3040671313063688 \n",
      "The training accuracy is given by : 10.044898\n",
      "The validation accuracy is given by : 7.800000\n",
      "The testing accuracy is given by : 9.000000\n"
     ],
     "name": "stdout"
    }
   ]
  },
  {
   "cell_type": "code",
   "metadata": {
    "id": "8MAlP9ej9574",
    "executionInfo": {
     "status": "ok",
     "timestamp": 1600384886928,
     "user_tz": 240,
     "elapsed": 634,
     "user": {
      "displayName": "Vaibhav Sundharam",
      "photoUrl": "https://lh3.googleusercontent.com/a-/AOh14Ggf8pEKCJrbRi4ZfFzswWvQ_sKdbph3iOABmyAS=s64",
      "userId": "08654959544633965355"
     }
    },
    "outputId": "5dfd3d4f-aa37-4f3f-d649-b365bdf2e337",
    "colab": {
     "base_uri": "https://localhost:8080/",
     "height": 55
    }
   },
   "source": [
    "print(results3_4_1)\n",
    "layers = list(dict.keys(results3_4_1))\n",
    "accuracies = list(dict.values(results3_4_1))\n",
    "train_accuracy = []\n",
    "val_accuracy = []\n",
    "test_accuracy = []\n",
    "\n",
    "for values in accuracies:\n",
    "  train_accuracy.append(values[0])\n",
    "  val_accuracy.append(values[1])\n",
    "  test_accuracy.append(values[2])"
   ],
   "execution_count": null,
   "outputs": [
    {
     "output_type": "stream",
     "text": [
      "{3: [55.5265306122449, 49.0, 48.5], 4: [35.50408163265306, 36.199999999999996, 36.1], 5: [10.044897959183674, 7.8, 9.0]}\n"
     ],
     "name": "stdout"
    }
   ]
  },
  {
   "cell_type": "code",
   "metadata": {
    "id": "xMPcRht5IDCM",
    "executionInfo": {
     "status": "ok",
     "timestamp": 1600384887563,
     "user_tz": 240,
     "elapsed": 1253,
     "user": {
      "displayName": "Vaibhav Sundharam",
      "photoUrl": "https://lh3.googleusercontent.com/a-/AOh14Ggf8pEKCJrbRi4ZfFzswWvQ_sKdbph3iOABmyAS=s64",
      "userId": "08654959544633965355"
     }
    },
    "outputId": "b4dee0f9-c1c3-4ca7-a9be-95d698b97105",
    "colab": {
     "base_uri": "https://localhost:8080/",
     "height": 867
    }
   },
   "source": [
    "# plotting\n",
    "fig, axs = plt.subplots(3, figsize=(15,15))\n",
    "axs[0].plot(layers, train_accuracy)\n",
    "axs[0].set_ylabel(\"Train accuracy\")\n",
    "axs[0].set_xlabel(\"Number of Layers\")\n",
    "axs[1].plot(layers, val_accuracy)\n",
    "axs[1].set_ylabel(\"Validation accuracy\")\n",
    "axs[1].set_xlabel(\"Number of Layers\")\n",
    "axs[2].plot(layers, test_accuracy)\n",
    "axs[2].set_ylabel(\"Test accuracy\")\n",
    "axs[2].set_xlabel(\"Number of Layers\")"
   ],
   "execution_count": null,
   "outputs": [
    {
     "output_type": "execute_result",
     "data": {
      "text/plain": [
       "Text(0.5, 0, 'Number of Layers')"
      ]
     },
     "metadata": {
      "tags": []
     },
     "execution_count": 77
    },
    {
     "output_type": "display_data",
     "data": {
      "image/png": "[encoded data removed]",
      "text/plain": [
       "<Figure size 1080x1080 with 3 Axes>"
      ]
     },
     "metadata": {
      "tags": [],
      "needs_background": "light"
     }
    }
   ]
  },
  {
   "cell_type": "markdown",
   "metadata": {
    "id": "-BbzB5tIkHWv"
   },
   "source": [
    "### Section 3.4.2. Different numbers of hidden state size\n",
    "Try 4 different numbers of hidden state size, and plot the accuracy as a function of the number you have tried. We recommend you to test numbers like 8, 16, 32, 64, 128, 256. Plot the training/validation/test accuracy as a function of the hidden state size your picked."
   ]
  },
  {
   "cell_type": "code",
   "metadata": {
    "id": "nwZjIxKXXqLb",
    "executionInfo": {
     "status": "ok",
     "timestamp": 1600385008625,
     "user_tz": 240,
     "elapsed": 116314,
     "user": {
      "displayName": "Vaibhav Sundharam",
      "photoUrl": "https://lh3.googleusercontent.com/a-/AOh14Ggf8pEKCJrbRi4ZfFzswWvQ_sKdbph3iOABmyAS=s64",
      "userId": "08654959544633965355"
     }
    },
    "outputId": "3eaeb2cd-a2f8-4916-bed4-cdd18a9f6941",
    "colab": {
     "base_uri": "https://localhost:8080/",
     "height": 1000
    }
   },
   "source": [
    "hidden_state_list = [8, 16, 32, 64, 128, 256]\n",
    "batch_size = 200\n",
    "results = {}\n",
    "for hidden_state in hidden_state_list:\n",
    "  print(f\"Number of hidden states:{hidden_state}\")\n",
    "  model = NN_3_Layers(X_train.shape[1], np.max(y_train)+1, hidden_state_size=hidden_state)  \n",
    "  loss_hist = model.train(X_train, y_train, lr=0.01)  \n",
    "  predict_train = model.predict(X_train)\n",
    "  acc_train = get_acc(predict_train, y_train)\n",
    "  print('The training accuracy is given by : %f' % acc_train)\n",
    "  predict_val = model.predict(X_val)\n",
    "  acc_val = get_acc(predict_val, y_val)\n",
    "  print('The validation accuracy is given by : %f' % acc_val )\n",
    "  predict_test = model.predict(X_test)\n",
    "  acc_test = get_acc(predict_test, y_test)\n",
    "  print('The testing accuracy is given by : %f' % acc_test)\n",
    "  results[hidden_state] = [acc_train, acc_val, acc_test]  \n",
    "  print(\"done\\n\")"
   ],
   "execution_count": null,
   "outputs": [
    {
     "output_type": "stream",
     "text": [
      "Number of hidden states:8\n",
      "Iter 100/1500 - loss: 2.3024861891747905 \n",
      "Iter 200/1500 - loss: 2.3029601895759835 \n",
      "Iter 300/1500 - loss: 2.302506403732188 \n",
      "Iter 400/1500 - loss: 2.2980114032297365 \n",
      "Iter 500/1500 - loss: 2.1826936654629994 \n",
      "Iter 600/1500 - loss: 2.1605515195589415 \n",
      "Iter 700/1500 - loss: 2.0041882644376456 \n",
      "Iter 800/1500 - loss: 1.8452877300127097 \n",
      "Iter 900/1500 - loss: 1.762918359039892 \n",
      "Iter 1000/1500 - loss: 1.7548857038524013 \n",
      "Iter 1100/1500 - loss: 1.852095907938562 \n",
      "Iter 1200/1500 - loss: 1.8356796264266526 \n",
      "Iter 1300/1500 - loss: 1.6693727311651188 \n",
      "Iter 1400/1500 - loss: 1.7708550882556153 \n",
      "Iter 1500/1500 - loss: 1.8234291175168542 \n",
      "The training accuracy is given by : 37.536735\n",
      "The validation accuracy is given by : 38.600000\n",
      "The testing accuracy is given by : 35.800000\n",
      "done\n",
      "\n",
      "Number of hidden states:16\n",
      "Iter 100/1500 - loss: 2.302766794101552 \n",
      "Iter 200/1500 - loss: 2.302078113023466 \n",
      "Iter 300/1500 - loss: 2.302325768381711 \n",
      "Iter 400/1500 - loss: 2.11441299031372 \n",
      "Iter 500/1500 - loss: 2.0193209014844387 \n",
      "Iter 600/1500 - loss: 1.956972371781055 \n",
      "Iter 700/1500 - loss: 1.7661794405566926 \n",
      "Iter 800/1500 - loss: 1.7120427870376023 \n",
      "Iter 900/1500 - loss: 1.6271989798430808 \n",
      "Iter 1000/1500 - loss: 1.5477506980485878 \n",
      "Iter 1100/1500 - loss: 1.6766744640264095 \n",
      "Iter 1200/1500 - loss: 1.7728404253290853 \n",
      "Iter 1300/1500 - loss: 1.681971168217205 \n",
      "Iter 1400/1500 - loss: 1.633436440457053 \n",
      "Iter 1500/1500 - loss: 1.7152371380972227 \n",
      "The training accuracy is given by : 44.400000\n",
      "The validation accuracy is given by : 43.300000\n",
      "The testing accuracy is given by : 42.800000\n",
      "done\n",
      "\n",
      "Number of hidden states:32\n",
      "Iter 100/1500 - loss: 2.302470111625486 \n",
      "Iter 200/1500 - loss: 2.2706386269122247 \n",
      "Iter 300/1500 - loss: 2.1906897402448773 \n",
      "Iter 400/1500 - loss: 1.857928403610739 \n",
      "Iter 500/1500 - loss: 1.8121862611784316 \n",
      "Iter 600/1500 - loss: 1.7898620673770063 \n",
      "Iter 700/1500 - loss: 1.5008103702657294 \n",
      "Iter 800/1500 - loss: 1.5707006073120806 \n",
      "Iter 900/1500 - loss: 1.541330487982874 \n",
      "Iter 1000/1500 - loss: 1.5370532844990368 \n",
      "Iter 1100/1500 - loss: 1.5628994614407647 \n",
      "Iter 1200/1500 - loss: 1.524550648430003 \n",
      "Iter 1300/1500 - loss: 1.4463197761193447 \n",
      "Iter 1400/1500 - loss: 1.5235975230635714 \n",
      "Iter 1500/1500 - loss: 1.484488340309249 \n",
      "The training accuracy is given by : 46.628571\n",
      "The validation accuracy is given by : 46.100000\n",
      "The testing accuracy is given by : 46.700000\n",
      "done\n",
      "\n",
      "Number of hidden states:64\n",
      "Iter 100/1500 - loss: 2.3023983561946886 \n",
      "Iter 200/1500 - loss: 2.2412828668377656 \n",
      "Iter 300/1500 - loss: 2.056636993137318 \n",
      "Iter 400/1500 - loss: 2.1213701470609063 \n",
      "Iter 500/1500 - loss: 1.6448256903763963 \n",
      "Iter 600/1500 - loss: 1.646472050181125 \n",
      "Iter 700/1500 - loss: 1.5018304320507248 \n",
      "Iter 800/1500 - loss: 1.5199317770199021 \n",
      "Iter 900/1500 - loss: 1.42492443652877 \n",
      "Iter 1000/1500 - loss: 1.5415464774444536 \n",
      "Iter 1100/1500 - loss: 1.4069009316432914 \n",
      "Iter 1200/1500 - loss: 1.432547090146783 \n",
      "Iter 1300/1500 - loss: 1.2420988462820421 \n",
      "Iter 1400/1500 - loss: 1.3339147577992434 \n",
      "Iter 1500/1500 - loss: 1.3955142760426165 \n",
      "The training accuracy is given by : 52.465306\n",
      "The validation accuracy is given by : 49.300000\n",
      "The testing accuracy is given by : 48.400000\n",
      "done\n",
      "\n",
      "Number of hidden states:128\n",
      "Iter 100/1500 - loss: 2.299655646132361 \n",
      "Iter 200/1500 - loss: 2.004764712627887 \n",
      "Iter 300/1500 - loss: 1.8595186558762202 \n",
      "Iter 400/1500 - loss: 1.6667239662494984 \n",
      "Iter 500/1500 - loss: 1.682249329146723 \n",
      "Iter 600/1500 - loss: 1.552072261912668 \n",
      "Iter 700/1500 - loss: 1.5088979627927346 \n",
      "Iter 800/1500 - loss: 1.5223138933454388 \n",
      "Iter 900/1500 - loss: 1.5208796349486682 \n",
      "Iter 1000/1500 - loss: 1.4644119256923063 \n",
      "Iter 1100/1500 - loss: 1.2709523462091594 \n",
      "Iter 1200/1500 - loss: 1.4571785252109704 \n",
      "Iter 1300/1500 - loss: 1.4801541603604642 \n",
      "Iter 1400/1500 - loss: 1.4533900082274551 \n",
      "Iter 1500/1500 - loss: 1.301740296654215 \n",
      "The training accuracy is given by : 53.728571\n",
      "The validation accuracy is given by : 49.700000\n",
      "The testing accuracy is given by : 51.100000\n",
      "done\n",
      "\n",
      "Number of hidden states:256\n",
      "Iter 100/1500 - loss: 2.0970222240834584 \n",
      "Iter 200/1500 - loss: 1.8042027891121324 \n",
      "Iter 300/1500 - loss: 1.7582113577782126 \n",
      "Iter 400/1500 - loss: 1.647690513908151 \n",
      "Iter 500/1500 - loss: 1.6852983256661203 \n",
      "Iter 600/1500 - loss: 1.512046721269851 \n",
      "Iter 700/1500 - loss: 1.4989576477781827 \n",
      "Iter 800/1500 - loss: 1.4909968972794934 \n",
      "Iter 900/1500 - loss: 1.3376572377462048 \n",
      "Iter 1000/1500 - loss: 1.3858767685851245 \n",
      "Iter 1100/1500 - loss: 1.4625149863616225 \n",
      "Iter 1200/1500 - loss: 1.3477444870711548 \n",
      "Iter 1300/1500 - loss: 1.2019091028256903 \n",
      "Iter 1400/1500 - loss: 1.3495424356949886 \n",
      "Iter 1500/1500 - loss: 1.3286401471750349 \n",
      "The training accuracy is given by : 55.226531\n",
      "The validation accuracy is given by : 49.600000\n",
      "The testing accuracy is given by : 51.200000\n",
      "done\n",
      "\n"
     ],
     "name": "stdout"
    }
   ]
  },
  {
   "cell_type": "code",
   "metadata": {
    "id": "9b2G94Y7bLm6",
    "executionInfo": {
     "status": "ok",
     "timestamp": 1600385008626,
     "user_tz": 240,
     "elapsed": 94180,
     "user": {
      "displayName": "Vaibhav Sundharam",
      "photoUrl": "https://lh3.googleusercontent.com/a-/AOh14Ggf8pEKCJrbRi4ZfFzswWvQ_sKdbph3iOABmyAS=s64",
      "userId": "08654959544633965355"
     }
    },
    "outputId": "81c735ea-aaec-4fc1-ae95-99e858211e96",
    "colab": {
     "base_uri": "https://localhost:8080/",
     "height": 55
    }
   },
   "source": [
    "print(results)\n",
    "hidden_states = list(dict.keys(results))\n",
    "accuracies = list(dict.values(results))\n",
    "train_accuracy = []\n",
    "val_accuracy = []\n",
    "test_accuracy = []\n",
    "\n",
    "for values in accuracies:\n",
    "  train_accuracy.append(values[0])\n",
    "  val_accuracy.append(values[1])\n",
    "  test_accuracy.append(values[2])"
   ],
   "execution_count": null,
   "outputs": [
    {
     "output_type": "stream",
     "text": [
      "{8: [37.53673469387755, 38.6, 35.8], 16: [44.4, 43.3, 42.8], 32: [46.62857142857143, 46.1, 46.7], 64: [52.465306122448986, 49.3, 48.4], 128: [53.72857142857143, 49.7, 51.1], 256: [55.22653061224489, 49.6, 51.2]}\n"
     ],
     "name": "stdout"
    }
   ]
  },
  {
   "cell_type": "code",
   "metadata": {
    "id": "N8WVXCYmNjo_",
    "executionInfo": {
     "status": "ok",
     "timestamp": 1600385009372,
     "user_tz": 240,
     "elapsed": 93389,
     "user": {
      "displayName": "Vaibhav Sundharam",
      "photoUrl": "https://lh3.googleusercontent.com/a-/AOh14Ggf8pEKCJrbRi4ZfFzswWvQ_sKdbph3iOABmyAS=s64",
      "userId": "08654959544633965355"
     }
    },
    "outputId": "ccd47137-e52a-46f4-b394-85baa92068da",
    "colab": {
     "base_uri": "https://localhost:8080/",
     "height": 859
    }
   },
   "source": [
    "# plotting\n",
    "fig, axs = plt.subplots(3, figsize=(15,15))\n",
    "axs[0].plot( hidden_states, train_accuracy)\n",
    "axs[0].set_ylabel(\"Train accuracy\")\n",
    "axs[0].set_xlabel(\"Hidden states\")\n",
    "axs[1].plot(hidden_states, val_accuracy)\n",
    "axs[1].set_ylabel(\"Validation accuracy\")\n",
    "axs[1].set_xlabel(\"Hidden states\")\n",
    "axs[2].plot(hidden_states, test_accuracy)\n",
    "axs[2].set_ylabel(\"Test accuracy\")\n",
    "axs[2].set_xlabel(\"Hidden states\")"
   ],
   "execution_count": null,
   "outputs": [
    {
     "output_type": "execute_result",
     "data": {
      "text/plain": [
       "Text(0.5, 0, 'Hidden states')"
      ]
     },
     "metadata": {
      "tags": []
     },
     "execution_count": 80
    },
    {
     "output_type": "display_data",
     "data": {
      "image/png": "[encoded data removed]",
      "text/plain": [
       "<Figure size 1080x1080 with 3 Axes>"
      ]
     },
     "metadata": {
      "tags": [],
      "needs_background": "light"
     }
    }
   ]
  },
  {
   "cell_type": "markdown",
   "metadata": {
    "id": "2lgC78uCkHW0"
   },
   "source": [
    "### Section 3.4.3. Different activation functions\n",
    "Try both ReLU and Sigmoid activation, and report the training/validation/test accuracy."
   ]
  },
  {
   "cell_type": "markdown",
   "metadata": {
    "id": "gbyaRBzIS1PN"
   },
   "source": [
    "###Sigmoid Activation Function"
   ]
  },
  {
   "cell_type": "code",
   "metadata": {
    "id": "TtPtO5vakHW1"
   },
   "source": [
    "class Simple_NN_Sigmoid(object):\n",
    "    def __init__(self, input_size, output_size, hidden_state_size=64):\n",
    "        self.linear1 = nn_Linear(input_size, hidden_state_size)\n",
    "        self.activation = nn_Sigmoid()\n",
    "        self.linear2 = nn_Linear(hidden_state_size, output_size)\n",
    "        \n",
    "    def forward(self, X):\n",
    "        self.X = X\n",
    "        self.x1 = self.linear1.forward(self.X)\n",
    "        self.a1 = self.activation.forward(self.x1)\n",
    "        logits = self.linear2.forward(self.a1)\n",
    "        return logits\n",
    "    \n",
    "    def backward(self, gradOutput):\n",
    "        dx2 = self.linear2.backward(self.a1, gradOutput)\n",
    "        da1 = self.activation.backward(self.x1, dx2)\n",
    "        self.linear1.backward(self.X, da1)\n",
    "    \n",
    "    def update(self, lr):\n",
    "        self.linear1.weight = self.linear1.weight - lr * (self.linear1.gradWeight)\n",
    "        self.linear1.bias = self.linear1.bias - lr * (self.linear1.gradBias)\n",
    "        self.linear2.weight = self.linear2.weight - lr * (self.linear2.gradWeight)\n",
    "        self.linear2.bias = self.linear2.bias - lr * (self.linear2.bias)\n",
    "        \n",
    "    def train(self, X_train, y_train, loss_criterion=nn_CECriterionWithLogits(), \n",
    "              lr=1e-5, n_iter=1500, batch_size=200):\n",
    "        loss_hist = []\n",
    "\n",
    "        for i in range(n_iter):\n",
    "            batch_indices = np.random.choice(len(X_train), batch_size)\n",
    "            X_batch = X_train[batch_indices]\n",
    "            y_batch = y_train[batch_indices]\n",
    "            \n",
    "            logits = self.forward(X_batch)\n",
    "            loss = loss_criterion.forward(logits, y_batch)\n",
    "            loss_grad = loss_criterion.backward(y_batch)\n",
    "            self.backward(loss_grad)\n",
    "            self.update(lr)\n",
    "\n",
    "            if (i + 1) % 100 == 0:\n",
    "                print(f'Iter {i+1}/{n_iter} - loss: {loss} ')\n",
    "            loss_hist.append(loss)\n",
    "        return loss_hist\n",
    "    def predict(self, X):\n",
    "        return np.asarray(np.argmax(softmax(self.forward(X)), axis=1)).squeeze(1)"
   ],
   "execution_count": null,
   "outputs": []
  },
  {
   "cell_type": "code",
   "metadata": {
    "id": "0Y6QcYpdSzRk",
    "executionInfo": {
     "status": "ok",
     "timestamp": 1600385027237,
     "user_tz": 240,
     "elapsed": 17833,
     "user": {
      "displayName": "Vaibhav Sundharam",
      "photoUrl": "https://lh3.googleusercontent.com/a-/AOh14Ggf8pEKCJrbRi4ZfFzswWvQ_sKdbph3iOABmyAS=s64",
      "userId": "08654959544633965355"
     }
    },
    "outputId": "8db0cace-a464-4287-ae72-9f5e640f0c23",
    "colab": {
     "base_uri": "https://localhost:8080/",
     "height": 277
    }
   },
   "source": [
    "model = Simple_NN_Sigmoid(X_train.shape[1], np.max(y_train)+1, hidden_state_size=64)\n",
    "n_iter = 1500\n",
    "batch_size = 200\n",
    "loss_hist = model.train(X_train, y_train, lr=1e-4, n_iter=n_iter)"
   ],
   "execution_count": null,
   "outputs": [
    {
     "output_type": "stream",
     "text": [
      "Iter 100/1500 - loss: 2.3009672711189797 \n",
      "Iter 200/1500 - loss: 2.2999384615448077 \n",
      "Iter 300/1500 - loss: 2.2994635654178714 \n",
      "Iter 400/1500 - loss: 2.297071550253447 \n",
      "Iter 500/1500 - loss: 2.296290751278079 \n",
      "Iter 600/1500 - loss: 2.2934320988573784 \n",
      "Iter 700/1500 - loss: 2.2919469508251584 \n",
      "Iter 800/1500 - loss: 2.2905431887240657 \n",
      "Iter 900/1500 - loss: 2.289289046011104 \n",
      "Iter 1000/1500 - loss: 2.288062182881736 \n",
      "Iter 1100/1500 - loss: 2.282760457575448 \n",
      "Iter 1200/1500 - loss: 2.278182744192502 \n",
      "Iter 1300/1500 - loss: 2.2782418893345846 \n",
      "Iter 1400/1500 - loss: 2.275475983602583 \n",
      "Iter 1500/1500 - loss: 2.2724060363477845 \n"
     ],
     "name": "stdout"
    }
   ]
  },
  {
   "cell_type": "code",
   "metadata": {
    "id": "YnAo-TgOTYDV",
    "executionInfo": {
     "status": "ok",
     "timestamp": 1600385028656,
     "user_tz": 240,
     "elapsed": 19225,
     "user": {
      "displayName": "Vaibhav Sundharam",
      "photoUrl": "https://lh3.googleusercontent.com/a-/AOh14Ggf8pEKCJrbRi4ZfFzswWvQ_sKdbph3iOABmyAS=s64",
      "userId": "08654959544633965355"
     }
    },
    "outputId": "1e1e67bf-528e-4cff-d44c-22ce0d582d0c",
    "colab": {
     "base_uri": "https://localhost:8080/",
     "height": 335
    }
   },
   "source": [
    "plt.plot(loss_hist);\n",
    "plt.ylabel('loss');\n",
    "plt.xlabel('iteration');\n",
    "predict = model.predict(X_train)\n",
    "print('The training accuracy is given by : %f' % (get_acc(predict, y_train)))\n",
    "predict = model.predict(X_val)\n",
    "print('The training accuracy is given by : %f' % (get_acc(predict, y_val)))\n",
    "predict = model.predict(X_test)\n",
    "print('The training accuracy is given by : %f' % (get_acc(predict, y_test)))"
   ],
   "execution_count": null,
   "outputs": [
    {
     "output_type": "stream",
     "text": [
      "The training accuracy is given by : 24.520408\n",
      "The training accuracy is given by : 24.800000\n",
      "The training accuracy is given by : 26.400000\n"
     ],
     "name": "stdout"
    },
    {
     "output_type": "display_data",
     "data": {
      "image/png": "[encoded data removed]",
      "text/plain": [
       "<Figure size 432x288 with 1 Axes>"
      ]
     },
     "metadata": {
      "tags": [],
      "needs_background": "light"
     }
    }
   ]
  },
  {
   "cell_type": "markdown",
   "metadata": {
    "id": "A-GoZsDDYj-N"
   },
   "source": [
    "###Relu Activation Function"
   ]
  },
  {
   "cell_type": "code",
   "metadata": {
    "id": "isC4Jk47Ydyv"
   },
   "source": [
    "class Simple_NN_Relu(object):\n",
    "    def __init__(self, input_size, output_size, hidden_state_size=64):\n",
    "        self.linear1 = nn_Linear(input_size, hidden_state_size)\n",
    "        self.activation = nn_ReLU()\n",
    "        self.linear2 = nn_Linear(hidden_state_size, output_size)\n",
    "        \n",
    "    def forward(self, X):\n",
    "        self.X = X\n",
    "        self.x1 = self.linear1.forward(self.X)\n",
    "        self.a1 = self.activation.forward(self.x1)\n",
    "        logits = self.linear2.forward(self.a1)\n",
    "        return logits\n",
    "    \n",
    "    def backward(self, gradOutput):\n",
    "        dx2 = self.linear2.backward(self.a1, gradOutput)\n",
    "        da1 = self.activation.backward(self.x1, dx2)\n",
    "        self.linear1.backward(self.X, da1)\n",
    "    \n",
    "    def update(self, lr):\n",
    "        self.linear1.weight = self.linear1.weight - lr * (self.linear1.gradWeight)\n",
    "        self.linear1.bias = self.linear1.bias - lr * (self.linear1.gradBias)\n",
    "        self.linear2.weight = self.linear2.weight - lr * (self.linear2.gradWeight)\n",
    "        self.linear2.bias = self.linear2.bias - lr * (self.linear2.bias)\n",
    "        \n",
    "    def train(self, X_train, y_train, loss_criterion=nn_CECriterionWithLogits(), \n",
    "              lr=1e-5, n_iter=1500, batch_size=200):\n",
    "        loss_hist = []\n",
    "\n",
    "        for i in range(n_iter):\n",
    "            batch_indices = np.random.choice(len(X_train), batch_size)\n",
    "            X_batch = X_train[batch_indices]\n",
    "            y_batch = y_train[batch_indices]\n",
    "            \n",
    "            logits = self.forward(X_batch)\n",
    "            loss = loss_criterion.forward(logits, y_batch)\n",
    "            loss_grad = loss_criterion.backward(y_batch)\n",
    "            self.backward(loss_grad)\n",
    "            self.update(lr)\n",
    "\n",
    "            if (i + 1) % 100 == 0:\n",
    "                print(f'Iter {i+1}/{n_iter} - loss: {loss} ')\n",
    "            loss_hist.append(loss)\n",
    "        return loss_hist\n",
    "    def predict(self, X):\n",
    "        return np.asarray(np.argmax(softmax(self.forward(X)), axis=1)).squeeze(1)"
   ],
   "execution_count": null,
   "outputs": []
  },
  {
   "cell_type": "code",
   "metadata": {
    "id": "eFhBG7sKYq04",
    "executionInfo": {
     "status": "ok",
     "timestamp": 1600385042314,
     "user_tz": 240,
     "elapsed": 32856,
     "user": {
      "displayName": "Vaibhav Sundharam",
      "photoUrl": "https://lh3.googleusercontent.com/a-/AOh14Ggf8pEKCJrbRi4ZfFzswWvQ_sKdbph3iOABmyAS=s64",
      "userId": "08654959544633965355"
     }
    },
    "outputId": "fc36fb91-a244-4744-c90f-6a6142ee034c",
    "colab": {
     "base_uri": "https://localhost:8080/",
     "height": 277
    }
   },
   "source": [
    "model = Simple_NN_Relu(X_train.shape[1], np.max(y_train)+1, hidden_state_size=64)\n",
    "n_iter = 1500\n",
    "batch_size = 200\n",
    "loss_hist = model.train(X_train, y_train, lr=1e-4, n_iter=n_iter)"
   ],
   "execution_count": null,
   "outputs": [
    {
     "output_type": "stream",
     "text": [
      "Iter 100/1500 - loss: 2.2411398177588118 \n",
      "Iter 200/1500 - loss: 2.152462983277216 \n",
      "Iter 300/1500 - loss: 2.0308412723395834 \n",
      "Iter 400/1500 - loss: 2.020600732906421 \n",
      "Iter 500/1500 - loss: 1.9392806782551049 \n",
      "Iter 600/1500 - loss: 1.8862482513863281 \n",
      "Iter 700/1500 - loss: 1.8767068466504495 \n",
      "Iter 800/1500 - loss: 1.8720219314278672 \n",
      "Iter 900/1500 - loss: 1.7684142213742893 \n",
      "Iter 1000/1500 - loss: 1.7422125908908594 \n",
      "Iter 1100/1500 - loss: 1.752230403239808 \n",
      "Iter 1200/1500 - loss: 1.731796479566729 \n",
      "Iter 1300/1500 - loss: 1.68528822947815 \n",
      "Iter 1400/1500 - loss: 1.6378460144754126 \n",
      "Iter 1500/1500 - loss: 1.6469603690956993 \n"
     ],
     "name": "stdout"
    }
   ]
  },
  {
   "cell_type": "code",
   "metadata": {
    "id": "WlVlTpv8Zobm",
    "executionInfo": {
     "status": "ok",
     "timestamp": 1600385043272,
     "user_tz": 240,
     "elapsed": 33798,
     "user": {
      "displayName": "Vaibhav Sundharam",
      "photoUrl": "https://lh3.googleusercontent.com/a-/AOh14Ggf8pEKCJrbRi4ZfFzswWvQ_sKdbph3iOABmyAS=s64",
      "userId": "08654959544633965355"
     }
    },
    "outputId": "d0871824-a855-4a8d-fbd7-55036696808b",
    "colab": {
     "base_uri": "https://localhost:8080/",
     "height": 331
    },
    "pycharm": {
     "name": "#%%\n"
    }
   },
   "source": [
    "plt.plot(loss_hist);\n",
    "plt.ylabel('loss');\n",
    "plt.xlabel('iteration');\n",
    "predict = model.predict(X_train)\n",
    "print('The training accuracy is given by : %f' % (get_acc(predict, y_train)))\n",
    "predict = model.predict(X_val)\n",
    "print('The training accuracy is given by : %f' % (get_acc(predict, y_val)))\n",
    "predict = model.predict(X_test)\n",
    "print('The training accuracy is given by : %f' % (get_acc(predict, y_test)))\n"
   ],
   "execution_count": null,
   "outputs": [
    {
     "output_type": "stream",
     "text": [
      "The training accuracy is given by : 40.253061\n",
      "The training accuracy is given by : 40.500000\n",
      "The training accuracy is given by : 39.500000\n"
     ],
     "name": "stdout"
    },
    {
     "output_type": "display_data",
     "data": {
      "image/png": "[encoded data removed]",
      "text/plain": [
       "<Figure size 432x288 with 1 Axes>"
      ]
     },
     "metadata": {
      "tags": [],
      "needs_background": "light"
     }
    }
   ]
  }
 ]
}